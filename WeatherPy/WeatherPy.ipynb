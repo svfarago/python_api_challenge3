{
 "cells": [
  {
   "cell_type": "markdown",
   "metadata": {},
   "source": [
    "# WeatherPy\n",
    "----"
   ]
  },
  {
   "cell_type": "markdown",
   "metadata": {},
   "source": [
    "### Data Analysis and Observations Summary\n",
    "\n",
    "1. When looking at the linear regression data for temperature in both northern and southern hemispheres, the dots on each plot show the temperatures are higher (or warmer) closest to the equator. As the latitude for both hemispheres gets farther away from the equator (or zero), the temperatures get lower (or colder). This data supports what we know about temperatures near the equator vs at either north or south pole.\n",
    "\n",
    "2. When looking at the regression lines for wind speeds in both hemispheres, wind speeds are lower at the equator and increase as the distances extend out in both north and south directions. The increase is noted more in the southern hemisphere (higher absolute rvalue) than in the northern hemisphere (lower absolute rvalue). This may be related to warmer temperatures at the equator (see observation #1 above) where warm, moise air rises to produce low pressure resulting in little surface wind at the equator.\n",
    "\n",
    "3. When looking at the latitude vs. temperature plot, the temperatures are highest at or near the equator. As cities get farther out from the equator, temperatures remain higher in the southern hemisphere but drop off significantly in the northern hemisphere. Land mass is distributed at 68% in the northern hemisphere and 32% in the southern hemisphere*. This distribution may account for the number of city readings or that land masses will report colder temperatures than water masses. *Source = phl.upr.edu.\n",
    "\n",
    "4. Related to 100% Humidity -- It is possible to have humidity greater than 100%. It's known as \"supersaturation\". This dataset looked for instances of humidity > 100%. See the section below that inspects for cities with humidity data > 100%.\n"
   ]
  },
  {
   "cell_type": "code",
   "execution_count": 1,
   "metadata": {
    "scrolled": true
   },
   "outputs": [],
   "source": [
    "# Dependencies and Setup\n",
    "import matplotlib.pyplot as plt\n",
    "import pandas as pd\n",
    "import numpy as np\n",
    "import requests\n",
    "import time\n",
    "from scipy import stats\n",
    "from scipy.stats import linregress\n",
    "\n",
    "# Note: Added this import to dynamically create chart titles below.\n",
    "from datetime import datetime\n",
    "\n",
    "# Import API key\n",
    "from api_keys import weather_api_key\n",
    "from api_keys import g_key\n",
    "\n",
    "# Incorporated citipy to determine city based on latitude and longitude\n",
    "# Note: Install citipy\n",
    "from citipy import citipy\n",
    "\n",
    "# Import pprint - prints JSON in a structured way\n",
    "# Note: I had to install this in Get Bash\n",
    "from pprint import pprint\n",
    "\n",
    "# Output File (CSV)\n",
    "output_data_file = \"output_data/cities.csv\"\n",
    "\n",
    "# Range of latitudes and longitudes\n",
    "lat_range = (-90, 90)\n",
    "lng_range = (-180, 180)"
   ]
  },
  {
   "cell_type": "markdown",
   "metadata": {},
   "source": [
    "## Generate Cities List"
   ]
  },
  {
   "cell_type": "code",
   "execution_count": 2,
   "metadata": {},
   "outputs": [
    {
     "data": {
      "text/plain": [
       "612"
      ]
     },
     "execution_count": 2,
     "metadata": {},
     "output_type": "execute_result"
    }
   ],
   "source": [
    "# List for holding lat_lngs and cities\n",
    "lat_lngs = []\n",
    "cities = []\n",
    "\n",
    "# Create a set of random lat and lng combinations\n",
    "lats = np.random.uniform(lat_range[0], lat_range[1], size=1500)\n",
    "lngs = np.random.uniform(lng_range[0], lng_range[1], size=1500)\n",
    "lat_lngs = zip(lats, lngs)\n",
    "\n",
    "# Identify nearest city for each lat, lng combination\n",
    "for lat_lng in lat_lngs:\n",
    "    city = citipy.nearest_city(lat_lng[0], lat_lng[1]).city_name\n",
    "    \n",
    "    # If the city is unique, then add it to a our cities list\n",
    "    if city not in cities:\n",
    "        cities.append(city)\n",
    "\n",
    "# Print the city count to confirm sufficient count\n",
    "len(cities)"
   ]
  },
  {
   "cell_type": "markdown",
   "metadata": {},
   "source": [
    "### Perform API Calls\n",
    "* Perform a weather check on each city using a series of successive API calls.\n",
    "* Include a print log of each city as it's being processed (with the city number and city name).\n"
   ]
  },
  {
   "cell_type": "code",
   "execution_count": 3,
   "metadata": {},
   "outputs": [
    {
     "data": {
      "text/plain": [
       "'http://api.openweathermap.org/data/2.5/weather?q=albany&appid=638398f7f561b24fe58df1f6395b8765&units=Imperial&q='"
      ]
     },
     "execution_count": 3,
     "metadata": {},
     "output_type": "execute_result"
    }
   ],
   "source": [
    "# Save config information.\n",
    "url = \"http://api.openweathermap.org/data/2.5/weather?\"\n",
    "units = \"Imperial\"\n",
    "\n",
    "# Build query URL\n",
    "query_url = (f\"{url}q={city}&appid={weather_api_key}&units={units}&q=\")\n",
    "query_url"
   ]
  },
  {
   "cell_type": "code",
   "execution_count": 4,
   "metadata": {},
   "outputs": [
    {
     "name": "stdout",
     "output_type": "stream",
     "text": [
      "Testing weather API: {'coord': {'lon': -73.9662, 'lat': 42.6001}, 'weather': [{'id': 800, 'main': 'Clear', 'description': 'clear sky', 'icon': '01d'}], 'base': 'stations', 'main': {'temp': 20.21, 'feels_like': 12.13, 'temp_min': 19, 'temp_max': 21.99, 'pressure': 1017, 'humidity': 36}, 'visibility': 10000, 'wind': {'speed': 3, 'deg': 291, 'gust': 13}, 'clouds': {'all': 0}, 'dt': 1611511154, 'sys': {'type': 3, 'id': 19530, 'country': 'US', 'sunrise': 1611490629, 'sunset': 1611525516}, 'timezone': -18000, 'id': 5106841, 'name': 'Albany', 'cod': 200}\n"
     ]
    }
   ],
   "source": [
    "# Get weather data using requests.get\n",
    "weather_response = requests.get (query_url)\n",
    "weather_json = weather_response.json()\n",
    "print(f\"Testing weather API: {weather_json}\")\n"
   ]
  },
  {
   "cell_type": "code",
   "execution_count": 5,
   "metadata": {},
   "outputs": [],
   "source": [
    "# If you want to print in json format\n",
    "# pprint (weather_json)\n",
    "# print(weather_json['name'])"
   ]
  },
  {
   "cell_type": "code",
   "execution_count": 6,
   "metadata": {},
   "outputs": [
    {
     "name": "stdout",
     "output_type": "stream",
     "text": [
      "----- Start Data Retrieval -----\n",
      "Processing record 0 of set 1 | komsomolskiy\n",
      "Processing record 1 of set 1 | jertih\n",
      "Processing record 2 of set 1 | albany\n",
      "Processing record 3 of set 1 | mangaratiba\n",
      "Processing record 4 of set 1 | hobart\n",
      "Processing record 5 of set 1 | kapaa\n",
      "Processing record 6 of set 1 | launceston\n",
      "Processing record 7 of set 1 | nikolskoye\n",
      "Processing record 8 of set 1 | dharan\n",
      "Processing record 9 of set 1 | kovur\n",
      "Processing record 10 of set 1 | mayo\n",
      "Processing record 11 of set 1 | seybaplaya\n",
      "Processing record 12 of set 1 | castro\n",
      "Processing record 13 of set 1 | arraial do cabo\n",
      "Processing record 14 of set 1 | mataura\n",
      "Processing record 15 of set 1 | kavieng\n",
      "Processing record 16 of set 1 | narsaq\n",
      "Processing record 17 of set 1 | nome\n",
      "Processing record 18 of set 1 | busselton\n",
      "Processing record 19 of set 1 | rikitea\n",
      "Processing record 20 of set 1 | turukhansk\n",
      "Processing record 21 of set 1 | colesberg\n",
      "Processing record 22 of set 1 | ushuaia\n",
      "Processing record 23 of set 1 | punta arenas\n",
      "Processing record 24 of set 1 | belmonte\n",
      "Processing record 25 of set 1 | katherine\n",
      "Processing record 26 of set 1 | kapit\n",
      "Processing record 27 of set 1 | meulaboh\n",
      "Processing record 28 of set 1 | mahebourg\n",
      "Processing record 29 of set 1 | sao filipe\n",
      "Processing record 30 of set 1 | clyde river\n",
      "Processing record 31 of set 1 | kiruna\n",
      "Processing record 32 of set 1 | saint-philippe\n",
      "Processing record 33 of set 1 | necochea\n",
      "Processing record 34 of set 1 | atuona\n",
      "Processing record 35 of set 1 | mlowo\n",
      "Processing record 36 of set 1 | tukrah\n",
      "Processing record 37 of set 1 | illoqqortoormiut\n",
      "City not found. skipping.\n",
      "Processing record 38 of set 1 | bluff\n",
      "Processing record 39 of set 1 | hermanus\n",
      "Processing record 40 of set 1 | bubaque\n",
      "Processing record 41 of set 1 | la solana\n",
      "Processing record 42 of set 1 | faanui\n",
      "Processing record 43 of set 1 | loukhi\n",
      "Processing record 44 of set 1 | itaituba\n",
      "Processing record 45 of set 1 | qaanaaq\n",
      "Processing record 46 of set 1 | balkhash\n",
      "Processing record 47 of set 1 | torbay\n",
      "Processing record 48 of set 1 | tuktoyaktuk\n",
      "Processing record 49 of set 1 | bredasdorp\n",
      "Processing record 0 of set 2 | port alfred\n",
      "Processing record 1 of set 2 | tasiilaq\n",
      "Processing record 2 of set 2 | akureyri\n",
      "Processing record 3 of set 2 | saryshagan\n",
      "City not found. skipping.\n",
      "Processing record 4 of set 2 | faridan\n",
      "City not found. skipping.\n",
      "Processing record 5 of set 2 | kruisfontein\n",
      "Processing record 6 of set 2 | dikson\n",
      "Processing record 7 of set 2 | los alamos\n",
      "Processing record 8 of set 2 | oron\n",
      "Processing record 9 of set 2 | georgetown\n",
      "Processing record 10 of set 2 | atherton\n",
      "Processing record 11 of set 2 | puerto ayora\n",
      "Processing record 12 of set 2 | longyearbyen\n",
      "Processing record 13 of set 2 | kargapolye\n",
      "City not found. skipping.\n",
      "Processing record 14 of set 2 | bokspits\n",
      "City not found. skipping.\n",
      "Processing record 15 of set 2 | norman wells\n",
      "Processing record 16 of set 2 | misratah\n",
      "Processing record 17 of set 2 | balezino\n",
      "Processing record 18 of set 2 | barrow\n",
      "Processing record 19 of set 2 | kaitangata\n",
      "Processing record 20 of set 2 | gurgan\n",
      "City not found. skipping.\n",
      "Processing record 21 of set 2 | new norfolk\n",
      "Processing record 22 of set 2 | esperance\n",
      "Processing record 23 of set 2 | grand river south east\n",
      "City not found. skipping.\n",
      "Processing record 24 of set 2 | sao gabriel da cachoeira\n",
      "Processing record 25 of set 2 | hibbing\n",
      "Processing record 26 of set 2 | quang ngai\n",
      "Processing record 27 of set 2 | palabuhanratu\n",
      "City not found. skipping.\n",
      "Processing record 28 of set 2 | taoudenni\n",
      "Processing record 29 of set 2 | talas\n",
      "Processing record 30 of set 2 | manono\n",
      "Processing record 31 of set 2 | lebu\n",
      "Processing record 32 of set 2 | yellowknife\n",
      "Processing record 33 of set 2 | sirathu\n",
      "Processing record 34 of set 2 | tiksi\n",
      "Processing record 35 of set 2 | chabahar\n",
      "Processing record 36 of set 2 | kenai\n",
      "Processing record 37 of set 2 | nueve de julio\n",
      "Processing record 38 of set 2 | davila\n",
      "Processing record 39 of set 2 | mount gambier\n",
      "Processing record 40 of set 2 | rio gallegos\n",
      "Processing record 41 of set 2 | ambilobe\n",
      "Processing record 42 of set 2 | prado\n",
      "Processing record 43 of set 2 | puerto escondido\n",
      "Processing record 44 of set 2 | hasaki\n",
      "Processing record 45 of set 2 | attawapiskat\n",
      "City not found. skipping.\n",
      "Processing record 46 of set 2 | lulea\n",
      "Processing record 47 of set 2 | usinsk\n",
      "Processing record 48 of set 2 | brigantine\n",
      "Processing record 49 of set 2 | peachland\n",
      "Processing record 0 of set 3 | east london\n",
      "Processing record 1 of set 3 | antalaha\n",
      "Processing record 2 of set 3 | cape town\n",
      "Processing record 3 of set 3 | thibodaux\n",
      "Processing record 4 of set 3 | macaboboni\n",
      "City not found. skipping.\n",
      "Processing record 5 of set 3 | bambous virieux\n",
      "Processing record 6 of set 3 | de panne\n",
      "Processing record 7 of set 3 | ishimbay\n",
      "Processing record 8 of set 3 | taolanaro\n",
      "City not found. skipping.\n",
      "Processing record 9 of set 3 | hithadhoo\n",
      "Processing record 10 of set 3 | toliary\n",
      "City not found. skipping.\n",
      "Processing record 11 of set 3 | china\n",
      "Processing record 12 of set 3 | amderma\n",
      "City not found. skipping.\n",
      "Processing record 13 of set 3 | pevek\n",
      "Processing record 14 of set 3 | hami\n",
      "Processing record 15 of set 3 | port blair\n",
      "Processing record 16 of set 3 | hamilton\n",
      "Processing record 17 of set 3 | hovd\n",
      "Processing record 18 of set 3 | adrar\n",
      "Processing record 19 of set 3 | rancho palos verdes\n",
      "Processing record 20 of set 3 | grand centre\n",
      "City not found. skipping.\n",
      "Processing record 21 of set 3 | mana\n",
      "Processing record 22 of set 3 | cabimas\n",
      "Processing record 23 of set 3 | maxixe\n",
      "Processing record 24 of set 3 | la asuncion\n",
      "Processing record 25 of set 3 | olenegorsk\n",
      "Processing record 26 of set 3 | chuy\n",
      "Processing record 27 of set 3 | zhangye\n",
      "Processing record 28 of set 3 | villa carlos paz\n",
      "Processing record 29 of set 3 | victoria\n",
      "Processing record 30 of set 3 | te anau\n",
      "Processing record 31 of set 3 | umm kaddadah\n",
      "Processing record 32 of set 3 | carnarvon\n",
      "Processing record 33 of set 3 | sirajganj\n",
      "Processing record 34 of set 3 | karauzyak\n",
      "City not found. skipping.\n",
      "Processing record 35 of set 3 | barentsburg\n",
      "City not found. skipping.\n",
      "Processing record 36 of set 3 | vaini\n",
      "Processing record 37 of set 3 | alofi\n",
      "Processing record 38 of set 3 | namibe\n",
      "Processing record 39 of set 3 | aykhal\n",
      "Processing record 40 of set 3 | sumbawa\n",
      "City not found. skipping.\n",
      "Processing record 41 of set 3 | muros\n",
      "Processing record 42 of set 3 | estelle\n",
      "Processing record 43 of set 3 | tomatlan\n",
      "Processing record 44 of set 3 | jamestown\n",
      "Processing record 45 of set 3 | geraldton\n",
      "Processing record 46 of set 3 | hilo\n",
      "Processing record 47 of set 3 | akyab\n",
      "Processing record 48 of set 3 | avarua\n",
      "Processing record 49 of set 3 | bestobe\n",
      "Processing record 0 of set 4 | zlatoustovsk\n",
      "City not found. skipping.\n",
      "Processing record 1 of set 4 | anadyr\n",
      "Processing record 2 of set 4 | ancud\n",
      "Processing record 3 of set 4 | shelburne\n",
      "Processing record 4 of set 4 | bertoua\n",
      "Processing record 5 of set 4 | butaritari\n",
      "Processing record 6 of set 4 | lookan\n",
      "Processing record 7 of set 4 | belushya guba\n",
      "City not found. skipping.\n",
      "Processing record 8 of set 4 | thompson\n",
      "Processing record 9 of set 4 | jalu\n",
      "Processing record 10 of set 4 | victoria point\n",
      "Processing record 11 of set 4 | airai\n",
      "Processing record 12 of set 4 | kahului\n",
      "Processing record 13 of set 4 | qaqortoq\n",
      "Processing record 14 of set 4 | kidderminster\n",
      "Processing record 15 of set 4 | aklavik\n",
      "Processing record 16 of set 4 | liku\n",
      "Processing record 17 of set 4 | mys shmidta\n",
      "City not found. skipping.\n",
      "Processing record 18 of set 4 | kirakira\n",
      "Processing record 19 of set 4 | kozhevnikovo\n",
      "Processing record 20 of set 4 | port shepstone\n",
      "Processing record 21 of set 4 | bonthe\n",
      "Processing record 22 of set 4 | port elizabeth\n",
      "Processing record 23 of set 4 | samusu\n",
      "City not found. skipping.\n",
      "Processing record 24 of set 4 | polewali\n",
      "Processing record 25 of set 4 | kaihua\n",
      "Processing record 26 of set 4 | whitehorse\n",
      "Processing record 27 of set 4 | marcona\n",
      "City not found. skipping.\n",
      "Processing record 28 of set 4 | verkhoyansk\n",
      "Processing record 29 of set 4 | christchurch\n",
      "Processing record 30 of set 4 | mirante do paranapanema\n",
      "Processing record 31 of set 4 | port hardy\n",
      "Processing record 32 of set 4 | silver city\n",
      "Processing record 33 of set 4 | nyurba\n"
     ]
    },
    {
     "name": "stdout",
     "output_type": "stream",
     "text": [
      "Processing record 34 of set 4 | provideniya\n",
      "Processing record 35 of set 4 | debre sina\n",
      "Processing record 36 of set 4 | galiwinku\n",
      "City not found. skipping.\n",
      "Processing record 37 of set 4 | denison\n",
      "Processing record 38 of set 4 | dukat\n",
      "Processing record 39 of set 4 | saint anthony\n",
      "Processing record 40 of set 4 | saldanha\n",
      "Processing record 41 of set 4 | dingle\n",
      "Processing record 42 of set 4 | talnakh\n",
      "Processing record 43 of set 4 | knysna\n",
      "Processing record 44 of set 4 | grand gaube\n",
      "Processing record 45 of set 4 | tocopilla\n",
      "Processing record 46 of set 4 | najran\n",
      "Processing record 47 of set 4 | souillac\n",
      "Processing record 48 of set 4 | ucluelet\n",
      "Processing record 49 of set 4 | bartica\n",
      "Processing record 0 of set 5 | bani\n",
      "Processing record 1 of set 5 | maniitsoq\n",
      "Processing record 2 of set 5 | kangaatsiaq\n",
      "Processing record 3 of set 5 | saskatoon\n",
      "Processing record 4 of set 5 | batie\n",
      "Processing record 5 of set 5 | hue\n",
      "Processing record 6 of set 5 | sikonge\n",
      "Processing record 7 of set 5 | netanya\n",
      "Processing record 8 of set 5 | lompoc\n",
      "Processing record 9 of set 5 | belaya gora\n",
      "Processing record 10 of set 5 | lagoa\n",
      "Processing record 11 of set 5 | ribeira grande\n",
      "Processing record 12 of set 5 | lardos\n",
      "Processing record 13 of set 5 | san patricio\n",
      "Processing record 14 of set 5 | coahuayana\n",
      "Processing record 15 of set 5 | bethel\n",
      "Processing record 16 of set 5 | ternovka\n",
      "Processing record 17 of set 5 | deputatskiy\n",
      "Processing record 18 of set 5 | yokadouma\n",
      "Processing record 19 of set 5 | oruro\n",
      "Processing record 20 of set 5 | codrington\n",
      "Processing record 21 of set 5 | hobyo\n",
      "Processing record 22 of set 5 | cabedelo\n",
      "Processing record 23 of set 5 | katsuura\n",
      "Processing record 24 of set 5 | bengkulu\n",
      "Processing record 25 of set 5 | kayerkan\n",
      "Processing record 26 of set 5 | pangkalanbuun\n",
      "Processing record 27 of set 5 | pangai\n",
      "Processing record 28 of set 5 | upernavik\n",
      "Processing record 29 of set 5 | awjilah\n",
      "Processing record 30 of set 5 | numata\n",
      "Processing record 31 of set 5 | kloulklubed\n",
      "Processing record 32 of set 5 | samarai\n",
      "Processing record 33 of set 5 | amapa\n",
      "Processing record 34 of set 5 | teguise\n",
      "Processing record 35 of set 5 | sobolevo\n",
      "Processing record 36 of set 5 | teguldet\n",
      "Processing record 37 of set 5 | falun\n",
      "Processing record 38 of set 5 | ullapool\n",
      "Processing record 39 of set 5 | saint-augustin\n",
      "Processing record 40 of set 5 | kuche\n",
      "City not found. skipping.\n",
      "Processing record 41 of set 5 | cidreira\n",
      "Processing record 42 of set 5 | saskylakh\n",
      "Processing record 43 of set 5 | iquitos\n",
      "Processing record 44 of set 5 | yumen\n",
      "Processing record 45 of set 5 | constitucion\n",
      "Processing record 46 of set 5 | nikko\n",
      "Processing record 47 of set 5 | amuntai\n",
      "Processing record 48 of set 5 | gweta\n",
      "Processing record 49 of set 5 | ostrovnoy\n",
      "Processing record 0 of set 6 | asau\n",
      "Processing record 1 of set 6 | eydhafushi\n",
      "Processing record 2 of set 6 | maceio\n",
      "Processing record 3 of set 6 | shache\n",
      "Processing record 4 of set 6 | yulara\n",
      "Processing record 5 of set 6 | rameshki\n",
      "Processing record 6 of set 6 | jiddah\n",
      "City not found. skipping.\n",
      "Processing record 7 of set 6 | camacha\n",
      "Processing record 8 of set 6 | kavaratti\n",
      "Processing record 9 of set 6 | kanye\n",
      "Processing record 10 of set 6 | sungurlu\n",
      "Processing record 11 of set 6 | hofn\n",
      "Processing record 12 of set 6 | kodiak\n",
      "Processing record 13 of set 6 | guerrero negro\n",
      "Processing record 14 of set 6 | ponta do sol\n",
      "Processing record 15 of set 6 | pisco\n",
      "Processing record 16 of set 6 | cayenne\n",
      "Processing record 17 of set 6 | kytlym\n",
      "City not found. skipping.\n",
      "Processing record 18 of set 6 | new bern\n",
      "Processing record 19 of set 6 | longlac\n",
      "City not found. skipping.\n",
      "Processing record 20 of set 6 | cabo san lucas\n",
      "Processing record 21 of set 6 | strathpeffer\n",
      "Processing record 22 of set 6 | hualmay\n",
      "Processing record 23 of set 6 | parintins\n",
      "Processing record 24 of set 6 | vanimo\n",
      "Processing record 25 of set 6 | avera\n",
      "Processing record 26 of set 6 | saint-georges\n",
      "Processing record 27 of set 6 | saint-pierre\n",
      "Processing record 28 of set 6 | caravelas\n",
      "Processing record 29 of set 6 | karaul\n",
      "City not found. skipping.\n",
      "Processing record 30 of set 6 | jacareacanga\n",
      "Processing record 31 of set 6 | linapacan\n",
      "City not found. skipping.\n",
      "Processing record 32 of set 6 | korla\n",
      "Processing record 33 of set 6 | wanning\n",
      "Processing record 34 of set 6 | luderitz\n",
      "Processing record 35 of set 6 | pangnirtung\n",
      "Processing record 36 of set 6 | vikarabad\n",
      "Processing record 37 of set 6 | khorixas\n",
      "Processing record 38 of set 6 | kapuskasing\n",
      "Processing record 39 of set 6 | nanortalik\n",
      "Processing record 40 of set 6 | sajanan\n",
      "Processing record 41 of set 6 | parry sound\n",
      "Processing record 42 of set 6 | svetlogorsk\n",
      "Processing record 43 of set 6 | luganville\n",
      "Processing record 44 of set 6 | chokurdakh\n",
      "Processing record 45 of set 6 | doha\n",
      "Processing record 46 of set 6 | waipawa\n",
      "Processing record 47 of set 6 | batemans bay\n",
      "Processing record 48 of set 6 | mayskiy\n",
      "Processing record 49 of set 6 | bandar-e lengeh\n",
      "Processing record 0 of set 7 | vozhega\n",
      "Processing record 1 of set 7 | nicoya\n",
      "Processing record 2 of set 7 | darhan\n",
      "Processing record 3 of set 7 | toora-khem\n",
      "Processing record 4 of set 7 | port hawkesbury\n",
      "Processing record 5 of set 7 | ternate\n",
      "Processing record 6 of set 7 | sitka\n",
      "Processing record 7 of set 7 | severo-kurilsk\n",
      "Processing record 8 of set 7 | samagaltay\n",
      "Processing record 9 of set 7 | lagunas\n",
      "Processing record 10 of set 7 | sola\n",
      "Processing record 11 of set 7 | bonavista\n",
      "Processing record 12 of set 7 | megion\n",
      "Processing record 13 of set 7 | port macquarie\n",
      "Processing record 14 of set 7 | angoche\n",
      "Processing record 15 of set 7 | ahipara\n",
      "Processing record 16 of set 7 | matara\n",
      "Processing record 17 of set 7 | sorvag\n",
      "City not found. skipping.\n",
      "Processing record 18 of set 7 | iqaluit\n",
      "Processing record 19 of set 7 | ponta delgada\n",
      "Processing record 20 of set 7 | dir\n",
      "Processing record 21 of set 7 | gizo\n",
      "Processing record 22 of set 7 | spokane\n",
      "Processing record 23 of set 7 | shingu\n",
      "Processing record 24 of set 7 | palmer\n",
      "Processing record 25 of set 7 | bintulu\n",
      "Processing record 26 of set 7 | mar del plata\n",
      "Processing record 27 of set 7 | tiarei\n",
      "Processing record 28 of set 7 | saint george\n",
      "Processing record 29 of set 7 | sentyabrskiy\n",
      "City not found. skipping.\n",
      "Processing record 30 of set 7 | taga\n",
      "Processing record 31 of set 7 | faya\n",
      "Processing record 32 of set 7 | gurupa\n",
      "Processing record 33 of set 7 | bandarbeyla\n",
      "Processing record 34 of set 7 | omaruru\n",
      "Processing record 35 of set 7 | lasa\n",
      "Processing record 36 of set 7 | broken hill\n",
      "Processing record 37 of set 7 | haines junction\n",
      "Processing record 38 of set 7 | kota kinabalu\n",
      "Processing record 39 of set 7 | moranbah\n",
      "Processing record 40 of set 7 | dali\n",
      "Processing record 41 of set 7 | asmara\n",
      "Processing record 42 of set 7 | isangel\n",
      "Processing record 43 of set 7 | gumla\n",
      "Processing record 44 of set 7 | salalah\n",
      "Processing record 45 of set 7 | mount isa\n",
      "Processing record 46 of set 7 | nizhneyansk\n",
      "City not found. skipping.\n",
      "Processing record 47 of set 7 | shumikha\n",
      "Processing record 48 of set 7 | naifaru\n",
      "Processing record 49 of set 7 | buriti alegre\n",
      "Processing record 0 of set 8 | khatanga\n",
      "Processing record 1 of set 8 | sinnamary\n",
      "Processing record 2 of set 8 | cherskiy\n",
      "Processing record 3 of set 8 | alindao\n",
      "Processing record 4 of set 8 | tungor\n",
      "Processing record 5 of set 8 | lavrentiya\n",
      "Processing record 6 of set 8 | broome\n",
      "Processing record 7 of set 8 | zabid\n",
      "Processing record 8 of set 8 | aksay\n",
      "Processing record 9 of set 8 | ouango\n",
      "Processing record 10 of set 8 | cururupu\n",
      "Processing record 11 of set 8 | fukue\n",
      "Processing record 12 of set 8 | ukiah\n",
      "Processing record 13 of set 8 | strelka\n",
      "Processing record 14 of set 8 | umzimvubu\n",
      "City not found. skipping.\n",
      "Processing record 15 of set 8 | viligili\n",
      "City not found. skipping.\n",
      "Processing record 16 of set 8 | kazalinsk\n",
      "City not found. skipping.\n",
      "Processing record 17 of set 8 | ostersund\n",
      "Processing record 18 of set 8 | saint-denis\n",
      "Processing record 19 of set 8 | tura\n",
      "Processing record 20 of set 8 | macamic\n",
      "Processing record 21 of set 8 | kabinda\n",
      "Processing record 22 of set 8 | plettenberg bay\n",
      "Processing record 23 of set 8 | mandalgovi\n",
      "Processing record 24 of set 8 | flinders\n",
      "Processing record 25 of set 8 | vestmanna\n",
      "Processing record 26 of set 8 | tabas\n",
      "Processing record 27 of set 8 | temaraia\n",
      "City not found. skipping.\n"
     ]
    },
    {
     "name": "stdout",
     "output_type": "stream",
     "text": [
      "Processing record 28 of set 8 | vagur\n",
      "Processing record 29 of set 8 | birin\n",
      "Processing record 30 of set 8 | staraya toropa\n",
      "Processing record 31 of set 8 | langarud\n",
      "Processing record 32 of set 8 | inirida\n",
      "Processing record 33 of set 8 | lamar\n",
      "Processing record 34 of set 8 | remanso\n",
      "Processing record 35 of set 8 | san luis\n",
      "Processing record 36 of set 8 | puerto pinasco\n",
      "City not found. skipping.\n",
      "Processing record 37 of set 8 | pringsewu\n",
      "Processing record 38 of set 8 | jiroft\n",
      "City not found. skipping.\n",
      "Processing record 39 of set 8 | leshukonskoye\n",
      "Processing record 40 of set 8 | ouro preto do oeste\n",
      "Processing record 41 of set 8 | tam ky\n",
      "Processing record 42 of set 8 | kautokeino\n",
      "Processing record 43 of set 8 | babanusah\n",
      "City not found. skipping.\n",
      "Processing record 44 of set 8 | santa isabel\n",
      "Processing record 45 of set 8 | agdam\n",
      "Processing record 46 of set 8 | paldiski\n",
      "Processing record 47 of set 8 | tsihombe\n",
      "City not found. skipping.\n",
      "Processing record 48 of set 8 | khatima\n",
      "Processing record 49 of set 8 | qui nhon\n",
      "Processing record 0 of set 9 | mocuba\n",
      "Processing record 1 of set 9 | santo tomas\n",
      "Processing record 2 of set 9 | charters towers\n",
      "Processing record 3 of set 9 | klyuchevsk\n",
      "Processing record 4 of set 9 | srednekolymsk\n",
      "Processing record 5 of set 9 | coquimbo\n",
      "Processing record 6 of set 9 | guarapari\n",
      "Processing record 7 of set 9 | sainte-maxime\n",
      "Processing record 8 of set 9 | tual\n",
      "Processing record 9 of set 9 | namatanai\n",
      "Processing record 10 of set 9 | shakawe\n",
      "Processing record 11 of set 9 | palaiokhora\n",
      "City not found. skipping.\n",
      "Processing record 12 of set 9 | fortuna\n",
      "Processing record 13 of set 9 | nichinan\n",
      "Processing record 14 of set 9 | yaan\n",
      "Processing record 15 of set 9 | kuching\n",
      "Processing record 16 of set 9 | chapais\n",
      "Processing record 17 of set 9 | san pedro de macoris\n",
      "Processing record 18 of set 9 | amahai\n",
      "Processing record 19 of set 9 | sambava\n",
      "Processing record 20 of set 9 | fort-shevchenko\n",
      "Processing record 21 of set 9 | san jose\n",
      "Processing record 22 of set 9 | juxian\n",
      "City not found. skipping.\n",
      "Processing record 23 of set 9 | horadiz\n",
      "Processing record 24 of set 9 | mitu\n",
      "Processing record 25 of set 9 | paracuru\n",
      "Processing record 26 of set 9 | soyo\n",
      "Processing record 27 of set 9 | sabang\n",
      "Processing record 28 of set 9 | pedasi\n",
      "Processing record 29 of set 9 | boguchany\n",
      "Processing record 30 of set 9 | smithers\n",
      "Processing record 31 of set 9 | turayf\n",
      "Processing record 32 of set 9 | lata\n",
      "Processing record 33 of set 9 | puerto carreno\n",
      "Processing record 34 of set 9 | lethem\n",
      "Processing record 35 of set 9 | comodoro rivadavia\n",
      "Processing record 36 of set 9 | talcahuano\n",
      "Processing record 37 of set 9 | oranjemund\n",
      "Processing record 38 of set 9 | dickinson\n",
      "Processing record 39 of set 9 | athabasca\n",
      "Processing record 40 of set 9 | padang\n",
      "Processing record 41 of set 9 | kutum\n",
      "Processing record 42 of set 9 | tobermory\n",
      "Processing record 43 of set 9 | ekangala\n",
      "Processing record 44 of set 9 | nizwa\n",
      "Processing record 45 of set 9 | vostok\n",
      "Processing record 46 of set 9 | grindavik\n",
      "Processing record 47 of set 9 | ambon\n",
      "Processing record 48 of set 9 | praia da vitoria\n",
      "Processing record 49 of set 9 | fare\n",
      "Processing record 0 of set 10 | coihaique\n",
      "Processing record 1 of set 10 | viedma\n",
      "Processing record 2 of set 10 | leh\n",
      "Processing record 3 of set 10 | adeje\n",
      "Processing record 4 of set 10 | vao\n",
      "Processing record 5 of set 10 | cootamundra\n",
      "Processing record 6 of set 10 | aswan\n",
      "Processing record 7 of set 10 | westport\n",
      "Processing record 8 of set 10 | dunedin\n",
      "Processing record 9 of set 10 | wonosobo\n",
      "Processing record 10 of set 10 | jiquipilas\n",
      "Processing record 11 of set 10 | kainantu\n",
      "Processing record 12 of set 10 | wulanhaote\n",
      "City not found. skipping.\n",
      "Processing record 13 of set 10 | nouadhibou\n",
      "Processing record 14 of set 10 | hit\n",
      "Processing record 15 of set 10 | pascagoula\n",
      "Processing record 16 of set 10 | saint-joseph\n",
      "Processing record 17 of set 10 | paamiut\n",
      "Processing record 18 of set 10 | homer\n",
      "Processing record 19 of set 10 | naryan-mar\n",
      "Processing record 20 of set 10 | marsh harbour\n",
      "Processing record 21 of set 10 | mednogorsk\n",
      "Processing record 22 of set 10 | chegdomyn\n",
      "Processing record 23 of set 10 | zacualtipan\n",
      "Processing record 24 of set 10 | tumannyy\n",
      "City not found. skipping.\n",
      "Processing record 25 of set 10 | suez\n",
      "Processing record 26 of set 10 | ijaki\n",
      "City not found. skipping.\n",
      "Processing record 27 of set 10 | vardo\n",
      "Processing record 28 of set 10 | ankazoabo\n",
      "Processing record 29 of set 10 | nemuro\n",
      "Processing record 30 of set 10 | palenque\n",
      "Processing record 31 of set 10 | straubing\n",
      "Processing record 32 of set 10 | nenjiang\n",
      "Processing record 33 of set 10 | qasigiannguit\n",
      "Processing record 34 of set 10 | presidencia roque saenz pena\n",
      "Processing record 35 of set 10 | buraydah\n",
      "Processing record 36 of set 10 | aquiraz\n",
      "Processing record 37 of set 10 | tarakan\n",
      "Processing record 38 of set 10 | beringovskiy\n",
      "Processing record 39 of set 10 | tabat\n",
      "Processing record 40 of set 10 | haibowan\n",
      "City not found. skipping.\n",
      "Processing record 41 of set 10 | ilulissat\n",
      "Processing record 42 of set 10 | barzas\n",
      "Processing record 43 of set 10 | dalbandin\n",
      "Processing record 44 of set 10 | vershino-darasunskiy\n",
      "Processing record 45 of set 10 | aksha\n",
      "Processing record 46 of set 10 | bathsheba\n",
      "Processing record 47 of set 10 | okakarara\n",
      "Processing record 48 of set 10 | fivizzano\n",
      "Processing record 49 of set 10 | koungheul\n",
      "Processing record 0 of set 11 | inuvik\n",
      "Processing record 1 of set 11 | xixiang\n",
      "Processing record 2 of set 11 | anahuac\n",
      "Processing record 3 of set 11 | san quintin\n",
      "Processing record 4 of set 11 | harnosand\n",
      "Processing record 5 of set 11 | zhangzhou\n",
      "Processing record 6 of set 11 | mahajanga\n",
      "Processing record 7 of set 11 | kerki\n",
      "City not found. skipping.\n",
      "Processing record 8 of set 11 | mapiripan\n",
      "Processing record 9 of set 11 | santa fe\n",
      "Processing record 10 of set 11 | pokrovsk-uralskiy\n",
      "City not found. skipping.\n",
      "Processing record 11 of set 11 | leghorn\n",
      "City not found. skipping.\n",
      "Processing record 12 of set 11 | lolua\n",
      "City not found. skipping.\n",
      "Processing record 13 of set 11 | los llanos de aridane\n",
      "Processing record 14 of set 11 | port augusta\n",
      "Processing record 15 of set 11 | boende\n",
      "Processing record 16 of set 11 | la ronge\n",
      "Processing record 17 of set 11 | strezhevoy\n",
      "Processing record 18 of set 11 | north myrtle beach\n",
      "Processing record 19 of set 11 | kyaikkami\n",
      "Processing record 20 of set 11 | irricana\n",
      "Processing record 21 of set 11 | yanam\n",
      "Processing record 22 of set 11 | hudson bay\n",
      "Processing record 23 of set 11 | imbituba\n",
      "Processing record 24 of set 11 | bafoussam\n",
      "Processing record 25 of set 11 | tuatapere\n",
      "Processing record 26 of set 11 | kununurra\n",
      "Processing record 27 of set 11 | tautira\n",
      "Processing record 28 of set 11 | washougal\n",
      "Processing record 29 of set 11 | baykit\n",
      "Processing record 30 of set 11 | sistranda\n",
      "Processing record 31 of set 11 | xining\n",
      "Processing record 32 of set 11 | abnub\n",
      "Processing record 33 of set 11 | alappuzha\n",
      "Processing record 34 of set 11 | yelatma\n",
      "Processing record 35 of set 11 | port lincoln\n",
      "Processing record 36 of set 11 | brownsville\n",
      "Processing record 37 of set 11 | porto novo\n",
      "Processing record 38 of set 11 | riyadh\n",
      "Processing record 39 of set 11 | ranot\n",
      "Processing record 40 of set 11 | esmeraldas\n",
      "Processing record 41 of set 11 | lorengau\n",
      "Processing record 42 of set 11 | makat\n",
      "Processing record 43 of set 11 | umm lajj\n",
      "Processing record 44 of set 11 | san luis rio colorado\n",
      "Processing record 45 of set 11 | shimoda\n",
      "Processing record 46 of set 11 | uyo\n",
      "Processing record 47 of set 11 | manta\n",
      "Processing record 48 of set 11 | togur\n",
      "Processing record 49 of set 11 | nuuk\n",
      "Processing record 0 of set 12 | valparaiso\n",
      "Processing record 1 of set 12 | trinidad\n",
      "Processing record 2 of set 12 | gobabis\n",
      "Processing record 3 of set 12 | moron\n",
      "Processing record 4 of set 12 | krasnoyarsk-66\n",
      "City not found. skipping.\n",
      "Processing record 5 of set 12 | urusha\n",
      "Processing record 6 of set 12 | anamur\n",
      "Processing record 7 of set 12 | vaitupu\n",
      "City not found. skipping.\n",
      "Processing record 8 of set 12 | gerash\n",
      "Processing record 9 of set 12 | bretcu\n",
      "Processing record 10 of set 12 | vorotynets\n",
      "Processing record 11 of set 12 | eseka\n",
      "Processing record 12 of set 12 | anchorage\n",
      "Processing record 13 of set 12 | chibombo\n"
     ]
    },
    {
     "name": "stdout",
     "output_type": "stream",
     "text": [
      "Processing record 14 of set 12 | mazamari\n",
      "Processing record 15 of set 12 | bilibino\n",
      "Processing record 16 of set 12 | cap malheureux\n",
      "Processing record 17 of set 12 | webuye\n",
      "Processing record 18 of set 12 | zaysan\n",
      "Processing record 19 of set 12 | breves\n",
      "Processing record 20 of set 12 | pitimbu\n",
      "Processing record 21 of set 12 | batagay\n",
      "Processing record 22 of set 12 | toyooka\n",
      "Processing record 23 of set 12 | pacific grove\n",
      "Processing record 24 of set 12 | vallenar\n",
      "Processing record 25 of set 12 | cazaje\n",
      "City not found. skipping.\n",
      "Processing record 26 of set 12 | pedernales\n",
      "Processing record 27 of set 12 | neka\n",
      "Processing record 28 of set 12 | russellville\n",
      "Processing record 29 of set 12 | wairoa\n",
      "Processing record 30 of set 12 | kongwa\n",
      "Processing record 31 of set 12 | dolores\n",
      "Processing record 32 of set 12 | solnechnyy\n",
      "Processing record 33 of set 12 | quesnel\n",
      "Processing record 34 of set 12 | kaya\n",
      "Processing record 35 of set 12 | boyuibe\n",
      "Processing record 36 of set 12 | henderson\n",
      "Processing record 37 of set 12 | cheremukhovo\n",
      "Processing record 38 of set 12 | mount pleasant\n",
      "Processing record 39 of set 12 | bukan\n",
      "Processing record 40 of set 12 | cockburn town\n",
      "Processing record 41 of set 12 | nadym\n",
      "Processing record 42 of set 12 | sohag\n",
      "Processing record 43 of set 12 | blonduos\n",
      "City not found. skipping.\n",
      "Processing record 44 of set 12 | itarema\n",
      "Processing record 45 of set 12 | lufilufi\n",
      "Processing record 46 of set 12 | umm durman\n",
      "City not found. skipping.\n",
      "Processing record 47 of set 12 | joensuu\n",
      "Processing record 48 of set 12 | bacalar\n",
      "Processing record 49 of set 12 | gibraleon\n",
      "Processing record 0 of set 13 | calama\n",
      "Processing record 1 of set 13 | la carolina\n",
      "Processing record 2 of set 13 | poltava\n",
      "Processing record 3 of set 13 | huarmey\n",
      "Processing record 4 of set 13 | oum hadjer\n",
      "Processing record 5 of set 13 | atar\n",
      "Processing record 6 of set 13 | touros\n",
      "Processing record 7 of set 13 | richards bay\n",
      "Processing record 8 of set 13 | shenjiamen\n",
      "Processing record 9 of set 13 | ciras\n",
      "City not found. skipping.\n",
      "Processing record 10 of set 13 | elizabeth city\n",
      "Processing record 11 of set 13 | asosa\n",
      "----------Done Woohoo!---------\n"
     ]
    }
   ],
   "source": [
    "# Counter to go through data\n",
    "record = 0\n",
    "sets = 1\n",
    "\n",
    "\n",
    "# Define empty lists to store values.\n",
    "# Note: Could also use dataframes vs. containers\n",
    "cloudiness = []\n",
    "country = []\n",
    "date = []\n",
    "temp = []\n",
    "temp_max = []\n",
    "humidity = []\n",
    "lat = []\n",
    "lon = []\n",
    "wind_speed = []\n",
    "city_name = []\n",
    "\n",
    "# For loop through cities to make API calls using city as query\n",
    "# Note: This line of code also works even though fields are out of order. Documenting here for future reference.\n",
    "    #query_url = url + \"&appid=\" + weather_api_key + \"&q=\" + city + \"&units=Imperial\"\n",
    "\n",
    "# Loop through city data and retrieve\n",
    "print(\"----- Start Data Retrieval -----\")\n",
    "\n",
    "\n",
    "for city in cities:\n",
    "    city=city\n",
    "    \n",
    "    query_url = url +  \"&q=\" + city + \"&appid=\" + weather_api_key + \"&units=Imperial\"\n",
    "    response = requests.get(query_url).json()\n",
    "\n",
    "# Pulls data and puts it into above containers. Missing data is skipped by exception below. \n",
    "    try:\n",
    "        print(f\"Processing record {record} of set {sets} | {city}\")\n",
    "        \n",
    "        cloudiness.append(response[\"clouds\"][\"all\"])\n",
    "        country.append(response[\"sys\"][\"country\"])\n",
    "        date.append(response[\"dt\"])\n",
    "        temp.append(response[\"main\"][\"temp\"])\n",
    "        temp_max.append(response[\"main\"][\"temp_max\"])\n",
    "        humidity.append(response[\"main\"][\"humidity\"])\n",
    "        lat.append(response[\"coord\"][\"lat\"])  \n",
    "        lon.append(response[\"coord\"][\"lon\"])\n",
    "        wind_speed.append(response[\"wind\"][\"speed\"])\n",
    "        city_name.append(response[\"name\"])       \n",
    "\n",
    "    except (KeyError):\n",
    "        print(\"City not found. skipping.\")\n",
    "\n",
    "# Note: Loops through data and when it hits record #50, it resets the counter.\n",
    "# Note: Code and count idea attributed to a classmate.\n",
    "    record = record + 1\n",
    "    if record == 50:\n",
    "        record = 0\n",
    "        sets = sets + 1 \n",
    "        \n",
    "        \n",
    "print(\"----------Done Woohoo!---------\")"
   ]
  },
  {
   "cell_type": "markdown",
   "metadata": {},
   "source": [
    "### Convert Raw Data to DataFrame\n",
    "* Export the city data into a .csv.\n",
    "* Display the DataFrame"
   ]
  },
  {
   "cell_type": "code",
   "execution_count": 7,
   "metadata": {},
   "outputs": [
    {
     "data": {
      "text/html": [
       "<div>\n",
       "<style scoped>\n",
       "    .dataframe tbody tr th:only-of-type {\n",
       "        vertical-align: middle;\n",
       "    }\n",
       "\n",
       "    .dataframe tbody tr th {\n",
       "        vertical-align: top;\n",
       "    }\n",
       "\n",
       "    .dataframe thead th {\n",
       "        text-align: right;\n",
       "    }\n",
       "</style>\n",
       "<table border=\"1\" class=\"dataframe\">\n",
       "  <thead>\n",
       "    <tr style=\"text-align: right;\">\n",
       "      <th></th>\n",
       "      <th>city</th>\n",
       "      <th>country</th>\n",
       "      <th>lat</th>\n",
       "      <th>lon</th>\n",
       "      <th>temp</th>\n",
       "      <th>temp_max</th>\n",
       "      <th>humidity</th>\n",
       "      <th>wind_speed</th>\n",
       "      <th>cloudiness</th>\n",
       "      <th>date</th>\n",
       "    </tr>\n",
       "  </thead>\n",
       "  <tbody>\n",
       "    <tr>\n",
       "      <th>0</th>\n",
       "      <td>Yangi Marg`ilon</td>\n",
       "      <td>UZ</td>\n",
       "      <td>40.4272</td>\n",
       "      <td>71.7189</td>\n",
       "      <td>26.60</td>\n",
       "      <td>26.60</td>\n",
       "      <td>63</td>\n",
       "      <td>4.61</td>\n",
       "      <td>0</td>\n",
       "      <td>1611511156</td>\n",
       "    </tr>\n",
       "    <tr>\n",
       "      <th>1</th>\n",
       "      <td>Jertih</td>\n",
       "      <td>MY</td>\n",
       "      <td>5.7336</td>\n",
       "      <td>102.4897</td>\n",
       "      <td>77.00</td>\n",
       "      <td>77.00</td>\n",
       "      <td>83</td>\n",
       "      <td>3.44</td>\n",
       "      <td>20</td>\n",
       "      <td>1611511156</td>\n",
       "    </tr>\n",
       "    <tr>\n",
       "      <th>2</th>\n",
       "      <td>Albany</td>\n",
       "      <td>US</td>\n",
       "      <td>42.6001</td>\n",
       "      <td>-73.9662</td>\n",
       "      <td>20.21</td>\n",
       "      <td>21.99</td>\n",
       "      <td>35</td>\n",
       "      <td>3.00</td>\n",
       "      <td>0</td>\n",
       "      <td>1611510891</td>\n",
       "    </tr>\n",
       "    <tr>\n",
       "      <th>3</th>\n",
       "      <td>Mangaratiba</td>\n",
       "      <td>BR</td>\n",
       "      <td>-22.9597</td>\n",
       "      <td>-44.0406</td>\n",
       "      <td>95.00</td>\n",
       "      <td>95.00</td>\n",
       "      <td>36</td>\n",
       "      <td>9.22</td>\n",
       "      <td>20</td>\n",
       "      <td>1611511157</td>\n",
       "    </tr>\n",
       "    <tr>\n",
       "      <th>4</th>\n",
       "      <td>Hobart</td>\n",
       "      <td>AU</td>\n",
       "      <td>-42.8794</td>\n",
       "      <td>147.3294</td>\n",
       "      <td>64.85</td>\n",
       "      <td>68.00</td>\n",
       "      <td>49</td>\n",
       "      <td>10.36</td>\n",
       "      <td>88</td>\n",
       "      <td>1611511157</td>\n",
       "    </tr>\n",
       "    <tr>\n",
       "      <th>5</th>\n",
       "      <td>Kapaa</td>\n",
       "      <td>US</td>\n",
       "      <td>22.0752</td>\n",
       "      <td>-159.3190</td>\n",
       "      <td>73.74</td>\n",
       "      <td>73.99</td>\n",
       "      <td>83</td>\n",
       "      <td>19.57</td>\n",
       "      <td>40</td>\n",
       "      <td>1611511157</td>\n",
       "    </tr>\n",
       "    <tr>\n",
       "      <th>6</th>\n",
       "      <td>Launceston</td>\n",
       "      <td>AU</td>\n",
       "      <td>-41.4500</td>\n",
       "      <td>147.1667</td>\n",
       "      <td>57.88</td>\n",
       "      <td>60.01</td>\n",
       "      <td>72</td>\n",
       "      <td>3.44</td>\n",
       "      <td>41</td>\n",
       "      <td>1611511157</td>\n",
       "    </tr>\n",
       "    <tr>\n",
       "      <th>7</th>\n",
       "      <td>Nikolskoye</td>\n",
       "      <td>RU</td>\n",
       "      <td>59.7035</td>\n",
       "      <td>30.7861</td>\n",
       "      <td>35.19</td>\n",
       "      <td>35.60</td>\n",
       "      <td>87</td>\n",
       "      <td>8.95</td>\n",
       "      <td>90</td>\n",
       "      <td>1611510958</td>\n",
       "    </tr>\n",
       "    <tr>\n",
       "      <th>8</th>\n",
       "      <td>Dharān</td>\n",
       "      <td>NP</td>\n",
       "      <td>26.8125</td>\n",
       "      <td>87.2835</td>\n",
       "      <td>58.42</td>\n",
       "      <td>58.42</td>\n",
       "      <td>63</td>\n",
       "      <td>4.65</td>\n",
       "      <td>2</td>\n",
       "      <td>1611511158</td>\n",
       "    </tr>\n",
       "    <tr>\n",
       "      <th>9</th>\n",
       "      <td>Kovūr</td>\n",
       "      <td>IN</td>\n",
       "      <td>14.4833</td>\n",
       "      <td>79.9833</td>\n",
       "      <td>71.28</td>\n",
       "      <td>71.28</td>\n",
       "      <td>76</td>\n",
       "      <td>5.26</td>\n",
       "      <td>25</td>\n",
       "      <td>1611511158</td>\n",
       "    </tr>\n",
       "  </tbody>\n",
       "</table>\n",
       "</div>"
      ],
      "text/plain": [
       "              city country      lat       lon   temp  temp_max  humidity  \\\n",
       "0  Yangi Marg`ilon      UZ  40.4272   71.7189  26.60     26.60        63   \n",
       "1           Jertih      MY   5.7336  102.4897  77.00     77.00        83   \n",
       "2           Albany      US  42.6001  -73.9662  20.21     21.99        35   \n",
       "3      Mangaratiba      BR -22.9597  -44.0406  95.00     95.00        36   \n",
       "4           Hobart      AU -42.8794  147.3294  64.85     68.00        49   \n",
       "5            Kapaa      US  22.0752 -159.3190  73.74     73.99        83   \n",
       "6       Launceston      AU -41.4500  147.1667  57.88     60.01        72   \n",
       "7       Nikolskoye      RU  59.7035   30.7861  35.19     35.60        87   \n",
       "8           Dharān      NP  26.8125   87.2835  58.42     58.42        63   \n",
       "9            Kovūr      IN  14.4833   79.9833  71.28     71.28        76   \n",
       "\n",
       "   wind_speed  cloudiness        date  \n",
       "0        4.61           0  1611511156  \n",
       "1        3.44          20  1611511156  \n",
       "2        3.00           0  1611510891  \n",
       "3        9.22          20  1611511157  \n",
       "4       10.36          88  1611511157  \n",
       "5       19.57          40  1611511157  \n",
       "6        3.44          41  1611511157  \n",
       "7        8.95          90  1611510958  \n",
       "8        4.65           2  1611511158  \n",
       "9        5.26          25  1611511158  "
      ]
     },
     "execution_count": 7,
     "metadata": {},
     "output_type": "execute_result"
    }
   ],
   "source": [
    "# Note: Create Dataframe list of dictionaries\n",
    "\n",
    "city_df = pd.DataFrame({\n",
    "    \"city\": city_name,\n",
    "    \"country\": country,\n",
    "    \"lat\": lat,\n",
    "    \"lon\": lon,\n",
    "    \"temp\": temp,\n",
    "    \"temp_max\": temp_max,\n",
    "    \"humidity\": humidity,\n",
    "    \"wind_speed\": wind_speed,\n",
    "    \"cloudiness\": cloudiness,\n",
    "    \"date\": date\n",
    "})\n",
    "\n",
    "city_df.head(10)\n"
   ]
  },
  {
   "cell_type": "code",
   "execution_count": 8,
   "metadata": {},
   "outputs": [
    {
     "data": {
      "text/plain": [
       "556"
      ]
     },
     "execution_count": 8,
     "metadata": {},
     "output_type": "execute_result"
    }
   ],
   "source": [
    "# Show Record Count\n",
    "# Note: Checking the data, just curious\n",
    "recordcount = len(city_df)\n",
    "recordcount"
   ]
  },
  {
   "cell_type": "code",
   "execution_count": 9,
   "metadata": {},
   "outputs": [],
   "source": [
    "#Export to CSV\n",
    "city_df.to_csv(\"../output_data/weather_globalcities.csv\")\n"
   ]
  },
  {
   "cell_type": "markdown",
   "metadata": {},
   "source": [
    "## Inspect the data and remove the cities where the humidity > 100%.\n",
    "----\n",
    "Skip this step if there are no cities that have humidity > 100%. "
   ]
  },
  {
   "cell_type": "code",
   "execution_count": 10,
   "metadata": {},
   "outputs": [
    {
     "data": {
      "text/html": [
       "<div>\n",
       "<style scoped>\n",
       "    .dataframe tbody tr th:only-of-type {\n",
       "        vertical-align: middle;\n",
       "    }\n",
       "\n",
       "    .dataframe tbody tr th {\n",
       "        vertical-align: top;\n",
       "    }\n",
       "\n",
       "    .dataframe thead th {\n",
       "        text-align: right;\n",
       "    }\n",
       "</style>\n",
       "<table border=\"1\" class=\"dataframe\">\n",
       "  <thead>\n",
       "    <tr style=\"text-align: right;\">\n",
       "      <th></th>\n",
       "      <th>city</th>\n",
       "      <th>country</th>\n",
       "      <th>lat</th>\n",
       "      <th>lon</th>\n",
       "      <th>temp</th>\n",
       "      <th>temp_max</th>\n",
       "      <th>humidity</th>\n",
       "      <th>wind_speed</th>\n",
       "      <th>cloudiness</th>\n",
       "      <th>date</th>\n",
       "    </tr>\n",
       "  </thead>\n",
       "  <tbody>\n",
       "  </tbody>\n",
       "</table>\n",
       "</div>"
      ],
      "text/plain": [
       "Empty DataFrame\n",
       "Columns: [city, country, lat, lon, temp, temp_max, humidity, wind_speed, cloudiness, date]\n",
       "Index: []"
      ]
     },
     "execution_count": 10,
     "metadata": {},
     "output_type": "execute_result"
    }
   ],
   "source": [
    "# Create dataframe to identify cities with humidty > 100.\n",
    "# If identified, use city_filtered_df going forward. If not, then use city_df.\n",
    "\n",
    "city_filtered_df = city_df[city_df[\"humidity\"] > 100] \n",
    "  \n",
    "# Print the new dataframe \n",
    "city_filtered_df.head(5) \n"
   ]
  },
  {
   "cell_type": "markdown",
   "metadata": {},
   "source": [
    "## Plotting the Data\n",
    "* Use proper labeling of the plots using plot titles (including date of analysis) and axes labels.\n",
    "* Save the plotted figures as .pngs."
   ]
  },
  {
   "cell_type": "markdown",
   "metadata": {},
   "source": [
    "## Latitude vs. Temperature Plot"
   ]
  },
  {
   "cell_type": "code",
   "execution_count": 11,
   "metadata": {
    "scrolled": true
   },
   "outputs": [
    {
     "data": {
      "image/png": "[encoded data removed]",
      "text/plain": [
       "<Figure size 432x288 with 1 Axes>"
      ]
     },
     "metadata": {
      "needs_background": "light"
     },
     "output_type": "display_data"
    }
   ],
   "source": [
    "# Converting Date for title of plot\n",
    "# Note: Dynamic field in chart title - borrowed code from H.Kaur as it is a cool addition to graphs.\n",
    "timestamp = city_df[\"date\"][0]\n",
    "converted_timestamp = datetime.utcfromtimestamp(timestamp)\n",
    "shortened_timestamp = datetime.date(converted_timestamp)\n",
    "\n",
    "# Build a scatter plot for each data type\n",
    "plt.scatter(city_df[\"lat\"], city_df[\"temp\"], marker=\"o\", color=\"red\", zorder=2)\n",
    "\n",
    "# Incorporate the other graph properties\n",
    "# Note: Static title option >>  plt.title(\"Temperature in World Cities (Jan 2021)\")\n",
    "plt.title(f\"Temperature in World Cities ({shortened_timestamp})\")\n",
    "plt.ylabel(\"Temperature (Fahrenheit)\")\n",
    "plt.xlabel(\"Latitude\")\n",
    "plt.grid(True)\n",
    "\n",
    "# Save the chart\n",
    "plt.savefig(\"../output_data/Latitude_temperature.png\")\n",
    "\n",
    "# Show plot\n",
    "plt.show()"
   ]
  },
  {
   "cell_type": "markdown",
   "metadata": {},
   "source": [
    "## Latitude vs. Humidity Plot"
   ]
  },
  {
   "cell_type": "code",
   "execution_count": 12,
   "metadata": {},
   "outputs": [
    {
     "data": {
      "image/png": "[encoded data removed]",
      "text/plain": [
       "<Figure size 432x288 with 1 Axes>"
      ]
     },
     "metadata": {
      "needs_background": "light"
     },
     "output_type": "display_data"
    }
   ],
   "source": [
    "# Build a scatter plot for each data type\n",
    "plt.scatter(city_df[\"lat\"], city_df[\"humidity\"], marker=\"o\", color=\"blue\", zorder=2)\n",
    "\n",
    "# Incorporate the other graph properties\n",
    "plt.title(f\"Humidity in World Cities ({shortened_timestamp})\")\n",
    "plt.ylabel(\"Humidity (%)\")\n",
    "plt.xlabel(\"Latitude\")\n",
    "plt.grid(True)\n",
    "\n",
    "# Save the chart\n",
    "plt.savefig(\"../output_data/Latitude_humidity.png\")\n",
    "\n",
    "# Show plot\n",
    "plt.show()"
   ]
  },
  {
   "cell_type": "markdown",
   "metadata": {},
   "source": [
    "## Latitude vs. Cloudiness Plot"
   ]
  },
  {
   "cell_type": "code",
   "execution_count": 13,
   "metadata": {},
   "outputs": [
    {
     "data": {
      "image/png": "[encoded data removed]",
      "text/plain": [
       "<Figure size 432x288 with 1 Axes>"
      ]
     },
     "metadata": {
      "needs_background": "light"
     },
     "output_type": "display_data"
    }
   ],
   "source": [
    "# Build a scatter plot for each data type\n",
    "plt.scatter(city_df[\"lat\"], city_df[\"cloudiness\"], marker=\"o\", color=\"grey\", zorder=2)\n",
    "\n",
    "# Incorporate the other graph properties\n",
    "plt.title(f\"Cloudiness in World Cities ({shortened_timestamp})\")\n",
    "plt.ylabel(\"Cloudiness (%)\")\n",
    "plt.xlabel(\"Latitude\")\n",
    "plt.grid(True)\n",
    "\n",
    "# Save the chart\n",
    "plt.savefig(\"../output_data/Latitude_cloudiness.png\")\n",
    "\n",
    "# Show plot\n",
    "plt.show()"
   ]
  },
  {
   "cell_type": "markdown",
   "metadata": {},
   "source": [
    "## Latitude vs. Wind Speed Plot"
   ]
  },
  {
   "cell_type": "code",
   "execution_count": 14,
   "metadata": {},
   "outputs": [
    {
     "data": {
      "image/png": "[encoded data removed]",
      "text/plain": [
       "<Figure size 432x288 with 1 Axes>"
      ]
     },
     "metadata": {
      "needs_background": "light"
     },
     "output_type": "display_data"
    }
   ],
   "source": [
    "# Build a scatter plot for each data type\n",
    "plt.scatter(city_df[\"lat\"], city_df[\"wind_speed\"], marker=\"o\", color=\"orange\", zorder=2)\n",
    "\n",
    "# Incorporate the other graph properties\n",
    "plt.title(f\"Wind Speed in World Cities ({shortened_timestamp})\")\n",
    "plt.ylabel(\"Wind Speed (mph)\")\n",
    "plt.xlabel(\"Latitude\")\n",
    "plt.grid(True)\n",
    "\n",
    "# Save the chart\n",
    "plt.savefig(\"../output_data/Latitude_windspeed.png\")\n",
    "\n",
    "# Show plot\n",
    "plt.show()"
   ]
  },
  {
   "cell_type": "markdown",
   "metadata": {},
   "source": [
    "## Linear Regression"
   ]
  },
  {
   "cell_type": "code",
   "execution_count": 15,
   "metadata": {},
   "outputs": [],
   "source": [
    "# Create a function to create Linear Regression plots\n",
    "# Note: all code must be indented (even print statement); or it will error out.\n",
    "# Note: def line code may or may not be needed. If used, indent all remaining code.\n",
    "\n",
    "def lin_reg_plot(x_values,y_values):   \n",
    "    (slope, intercept, rvalue, pvalue, stderr) = linregress(x_values, y_values)\n",
    "    regress_values = x_values * slope + intercept\n",
    "    line_eq = \"y = \" + str(round(slope,2)) + \"x + \" + str(round(intercept,2))\n",
    "    \n",
    "# Note: Code below is sample scatter plot; uncomment plt.show() to make sure initial code is working.\n",
    "# Note: Add the linear regression equation and line to plot & apply some formatting\n",
    "    plt.scatter(x_values,y_values)\n",
    "    plt.plot(x_values,regress_values,\"r-\")\n",
    "    plt.annotate(line_eq,(x_values.median(),y_values.median()),fontsize=16,color=\"red\")\n",
    "    print(f\"The rvalue is: {rvalue}\")\n",
    "    #plt.show()"
   ]
  },
  {
   "cell_type": "code",
   "execution_count": 16,
   "metadata": {},
   "outputs": [],
   "source": [
    "# Create dataframes for Northern and Southern Hemisphere\n",
    "northhem_df = city_df.loc[city_df[\"lat\"] > 0,:]\n",
    "#northhem_df.head()\n",
    "\n",
    "southhem_df = city_df.loc[city_df[\"lat\"] < 0,:]\n",
    "#southhem_df.head()"
   ]
  },
  {
   "cell_type": "markdown",
   "metadata": {},
   "source": [
    "####  Northern Hemisphere - Max Temp vs. Latitude Linear Regression"
   ]
  },
  {
   "cell_type": "code",
   "execution_count": 17,
   "metadata": {},
   "outputs": [
    {
     "name": "stdout",
     "output_type": "stream",
     "text": [
      "The rvalue is: -0.8598626104808159\n",
      "None\n"
     ]
    },
    {
     "data": {
      "image/png": "[encoded data removed]",
      "text/plain": [
       "<Figure size 432x288 with 1 Axes>"
      ]
     },
     "metadata": {
      "needs_background": "light"
     },
     "output_type": "display_data"
    }
   ],
   "source": [
    "x_values = northhem_df[\"lat\"]\n",
    "y_values = northhem_df[\"temp_max\"]\n",
    "plt.title(\"Northern Hemisphere - Max Temp vs. Latitude Linear Regression\")\n",
    "plt.xlabel(\"Latitude\")\n",
    "plt.ylabel(\"Max Temp (F)\")\n",
    "\n",
    "print(lin_reg_plot(x_values,y_values))\n",
    "\n",
    "# Save the chart\n",
    "plt.savefig(\"../output_data/Linreg_north_temp.png\")"
   ]
  },
  {
   "cell_type": "markdown",
   "metadata": {},
   "source": [
    "####  Southern Hemisphere - Max Temp vs. Latitude Linear Regression"
   ]
  },
  {
   "cell_type": "code",
   "execution_count": 18,
   "metadata": {},
   "outputs": [
    {
     "name": "stdout",
     "output_type": "stream",
     "text": [
      "The rvalue is: 0.3637093425929105\n",
      "None\n"
     ]
    },
    {
     "data": {
      "image/png": "[encoded data removed]",
      "text/plain": [
       "<Figure size 432x288 with 1 Axes>"
      ]
     },
     "metadata": {
      "needs_background": "light"
     },
     "output_type": "display_data"
    }
   ],
   "source": [
    "x_values = southhem_df[\"lat\"]\n",
    "y_values = southhem_df[\"temp_max\"]\n",
    "plt.title(\"Southern Hemisphere - Max Temp vs. Latitude Linear Regression\")\n",
    "plt.xlabel(\"Latitude\")\n",
    "plt.ylabel(\"Max Temp (F)\")\n",
    "\n",
    "print(lin_reg_plot(x_values,y_values))\n",
    "\n",
    "# Save the chart\n",
    "plt.savefig(\"../output_data/Linreg_south_temp.png\")"
   ]
  },
  {
   "cell_type": "markdown",
   "metadata": {},
   "source": [
    "####  Northern Hemisphere - Humidity (%) vs. Latitude Linear Regression"
   ]
  },
  {
   "cell_type": "code",
   "execution_count": 19,
   "metadata": {},
   "outputs": [
    {
     "name": "stdout",
     "output_type": "stream",
     "text": [
      "The rvalue is: 0.32674382928406853\n",
      "None\n"
     ]
    },
    {
     "data": {
      "image/png": "[encoded data removed]",
      "text/plain": [
       "<Figure size 432x288 with 1 Axes>"
      ]
     },
     "metadata": {
      "needs_background": "light"
     },
     "output_type": "display_data"
    }
   ],
   "source": [
    "x_values = northhem_df[\"lat\"]\n",
    "y_values = northhem_df[\"humidity\"]\n",
    "plt.title(\"Northern Hemisphere - Humidity (%) vs. Latitude Linear Regression\")\n",
    "plt.xlabel(\"Latitude\")\n",
    "plt.ylabel(\"Humidity (%)\")\n",
    "\n",
    "print(lin_reg_plot(x_values,y_values))\n",
    "\n",
    "# Save the chart\n",
    "plt.savefig(\"../output_data/Linreg_north_humid.png\")"
   ]
  },
  {
   "cell_type": "markdown",
   "metadata": {},
   "source": [
    "####  Southern Hemisphere - Humidity (%) vs. Latitude Linear Regression"
   ]
  },
  {
   "cell_type": "code",
   "execution_count": 20,
   "metadata": {},
   "outputs": [
    {
     "name": "stdout",
     "output_type": "stream",
     "text": [
      "The rvalue is: 0.31085201975305254\n",
      "None\n"
     ]
    },
    {
     "data": {
      "image/png": "[encoded data removed]",
      "text/plain": [
       "<Figure size 432x288 with 1 Axes>"
      ]
     },
     "metadata": {
      "needs_background": "light"
     },
     "output_type": "display_data"
    }
   ],
   "source": [
    "x_values = southhem_df[\"lat\"]\n",
    "y_values = southhem_df[\"humidity\"]\n",
    "plt.title(\"Southern Hemisphere - Humidity (%) vs. Latitude Linear Regression\")\n",
    "plt.xlabel(\"Latitude\")\n",
    "plt.ylabel(\"Humidity (%)\")\n",
    "\n",
    "print(lin_reg_plot(x_values,y_values))\n",
    "\n",
    "# Save the chart\n",
    "plt.savefig(\"../output_data/Linreg_south_humid.png\")"
   ]
  },
  {
   "cell_type": "markdown",
   "metadata": {},
   "source": [
    "####  Northern Hemisphere - Cloudiness (%) vs. Latitude Linear Regression"
   ]
  },
  {
   "cell_type": "code",
   "execution_count": 21,
   "metadata": {},
   "outputs": [
    {
     "name": "stdout",
     "output_type": "stream",
     "text": [
      "The rvalue is: 0.241846140391847\n",
      "None\n"
     ]
    },
    {
     "data": {
      "image/png": "[encoded data removed]",
      "text/plain": [
       "<Figure size 432x288 with 1 Axes>"
      ]
     },
     "metadata": {
      "needs_background": "light"
     },
     "output_type": "display_data"
    }
   ],
   "source": [
    "x_values = northhem_df[\"lat\"]\n",
    "y_values = northhem_df[\"cloudiness\"]\n",
    "plt.title(\"Northern Hemisphere - Cloudiness (%) vs. Latitude Linear Regression\")\n",
    "plt.xlabel(\"Latitude\")\n",
    "plt.ylabel(\"Cloudiness (%)\")\n",
    "\n",
    "print(lin_reg_plot(x_values,y_values))\n",
    "\n",
    "# Save the chart\n",
    "plt.savefig(\"../output_data/Linreg_north_cloud.png\")"
   ]
  },
  {
   "cell_type": "markdown",
   "metadata": {},
   "source": [
    "####  Southern Hemisphere - Cloudiness (%) vs. Latitude Linear Regression"
   ]
  },
  {
   "cell_type": "code",
   "execution_count": 22,
   "metadata": {},
   "outputs": [
    {
     "name": "stdout",
     "output_type": "stream",
     "text": [
      "The rvalue is: 0.3376981354582728\n",
      "None\n"
     ]
    },
    {
     "data": {
      "image/png": "[encoded data removed]",
      "text/plain": [
       "<Figure size 432x288 with 1 Axes>"
      ]
     },
     "metadata": {
      "needs_background": "light"
     },
     "output_type": "display_data"
    }
   ],
   "source": [
    "x_values = southhem_df[\"lat\"]\n",
    "y_values = southhem_df[\"cloudiness\"]\n",
    "plt.title(\"Southern Hemisphere - Cloudiness (%) vs. Latitude Linear Regression\")\n",
    "plt.xlabel(\"Latitude\")\n",
    "plt.ylabel(\"Cloudiness (%)\")\n",
    "\n",
    "print(lin_reg_plot(x_values,y_values))\n",
    "\n",
    "# Save the chart\n",
    "plt.savefig(\"../output_data/Linreg_south_cloud.png\")"
   ]
  },
  {
   "cell_type": "markdown",
   "metadata": {},
   "source": [
    "####  Northern Hemisphere - Wind Speed (mph) vs. Latitude Linear Regression"
   ]
  },
  {
   "cell_type": "code",
   "execution_count": 23,
   "metadata": {},
   "outputs": [
    {
     "name": "stdout",
     "output_type": "stream",
     "text": [
      "The rvalue is: -0.010768078468573377\n",
      "None\n"
     ]
    },
    {
     "data": {
      "image/png": "[encoded data removed]",
      "text/plain": [
       "<Figure size 432x288 with 1 Axes>"
      ]
     },
     "metadata": {
      "needs_background": "light"
     },
     "output_type": "display_data"
    }
   ],
   "source": [
    "x_values = northhem_df[\"lat\"]\n",
    "y_values = northhem_df[\"wind_speed\"]\n",
    "plt.title(\"Northern Hemisphere - Wind Speed (mph) vs. Latitude Linear Regression\")\n",
    "plt.xlabel(\"Latitude\")\n",
    "plt.ylabel(\"Wind Speed (mph)\")\n",
    "\n",
    "print(lin_reg_plot(x_values,y_values))\n",
    "\n",
    "# Save the chart\n",
    "plt.savefig(\"../output_data/Linreg_north_wind.png\")"
   ]
  },
  {
   "cell_type": "markdown",
   "metadata": {},
   "source": [
    "####  Southern Hemisphere - Wind Speed (mph) vs. Latitude Linear Regression"
   ]
  },
  {
   "cell_type": "code",
   "execution_count": 24,
   "metadata": {},
   "outputs": [
    {
     "name": "stdout",
     "output_type": "stream",
     "text": [
      "The rvalue is: -0.2370269640994553\n",
      "None\n"
     ]
    },
    {
     "data": {
      "image/png": "[encoded data removed]",
      "text/plain": [
       "<Figure size 432x288 with 1 Axes>"
      ]
     },
     "metadata": {
      "needs_background": "light"
     },
     "output_type": "display_data"
    }
   ],
   "source": [
    "x_values = southhem_df[\"lat\"]\n",
    "y_values = southhem_df[\"wind_speed\"]\n",
    "plt.title(\"Southern Hemisphere - Wind Speed (mph) vs. Latitude Linear Regression\")\n",
    "plt.xlabel(\"Latitude\")\n",
    "plt.ylabel(\"Wind Speed (mph)\")\n",
    "\n",
    "print(lin_reg_plot(x_values,y_values))\n",
    "\n",
    "# Save the chart\n",
    "plt.savefig(\"../output_data/Linreg_south_wind.png\")"
   ]
  }
 ],
 "metadata": {
  "anaconda-cloud": {},
  "kernel_info": {
   "name": "python3"
  },
  "kernelspec": {
   "display_name": "Python 3",
   "language": "python",
   "name": "python3"
  },
  "language_info": {
   "codemirror_mode": {
    "name": "ipython",
    "version": 3
   },
   "file_extension": ".py",
   "mimetype": "text/x-python",
   "name": "python",
   "nbconvert_exporter": "python",
   "pygments_lexer": "ipython3",
   "version": "3.8.5"
  },
  "latex_envs": {
   "LaTeX_envs_menu_present": true,
   "autoclose": false,
   "autocomplete": true,
   "bibliofile": "biblio.bib",
   "cite_by": "apalike",
   "current_citInitial": 1,
   "eqLabelWithNumbers": true,
   "eqNumInitial": 1,
   "hotkeys": {
    "equation": "Ctrl-E",
    "itemize": "Ctrl-I"
   },
   "labels_anchors": false,
   "latex_user_defs": false,
   "report_style_numbering": false,
   "user_envs_cfg": false
  },
  "nteract": {
   "version": "0.12.3"
  }
 },
 "nbformat": 4,
 "nbformat_minor": 2
}
