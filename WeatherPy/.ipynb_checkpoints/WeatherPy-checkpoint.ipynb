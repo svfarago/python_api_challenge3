{
 "cells": [
  {
   "cell_type": "markdown",
   "metadata": {},
   "source": [
    "# WeatherPy\n",
    "----"
   ]
  },
  {
   "cell_type": "markdown",
   "metadata": {},
   "source": [
    "### Data Analysis and Observations Summary\n",
    "\n",
    "1. When looking at the linear regression data for temperature in both northern and southern hemispheres, the dots on each plot show the temperatures are higher (or warmer) closest to the equator. As the latitude for both hemispheres gets farther away from the equator (or zero), the temperatures get lower (or colder). This data supports what we know about temperatures near the equator vs at either north or south pole.\n",
    "\n",
    "2. When looking at the regression lines for wind speeds in both hemispheres, wind speeds are lower at the equator and increase as the distances extend out in both north and south directions. The increase is noted more in the southern hemisphere (higher absolute rvalue) than in the northern hemisphere (much lower absolute rvalue). This may be related to warmer temperatures at the equator (see observation #1 above) where warm, moise air rises to produce low pressure resulting in little surface wind at the equator. I would want to do more analysis looking at the data set for the southern hemisphere as the plot scatter pattern is much wider.\n",
    "\n",
    "3. When looking at the latitude vs. temperature plot, the temperatures are highest at or near the equator. As cities get farther out from the equator, temperatures remain higher in the southern hemisphere but drop off significantly in the northern hemisphere. Land mass is distributed at 68% in the northern hemisphere and 32% in the southern hemisphere*. This distribution may account for the number of city readings or that land masses will report colder temperatures than water masses. *Source = phl.upr.edu.\n",
    "\n",
    "4. Related to 100% Humidity -- It is possible to have humidity greater than 100%. It's known as \"supersaturation\". This dataset looked for instances of humidity > 100%. See the section below that inspects for cities with humidity data > 100%.\n"
   ]
  },
  {
   "cell_type": "code",
   "execution_count": 1,
   "metadata": {
    "scrolled": true
   },
   "outputs": [],
   "source": [
    "# Dependencies and Setup\n",
    "import matplotlib.pyplot as plt\n",
    "import pandas as pd\n",
    "import numpy as np\n",
    "import requests\n",
    "import time\n",
    "from scipy import stats\n",
    "from scipy.stats import linregress\n",
    "\n",
    "# Note: Added this import to dynamically create chart titles below.\n",
    "from datetime import datetime\n",
    "\n",
    "# Import API key\n",
    "from api_keys import weather_api_key\n",
    "from api_keys import g_key\n",
    "\n",
    "# Incorporated citipy to determine city based on latitude and longitude\n",
    "# Note: Install citipy\n",
    "from citipy import citipy\n",
    "\n",
    "# Import pprint - prints JSON in a structured way\n",
    "# Note: I had to install this in Get Bash\n",
    "from pprint import pprint\n",
    "\n",
    "# Output File (CSV)\n",
    "output_data_file = \"output_data/cities.csv\"\n",
    "\n",
    "# Range of latitudes and longitudes\n",
    "lat_range = (-90, 90)\n",
    "lng_range = (-180, 180)"
   ]
  },
  {
   "cell_type": "markdown",
   "metadata": {},
   "source": [
    "## Generate Cities List"
   ]
  },
  {
   "cell_type": "code",
   "execution_count": 2,
   "metadata": {},
   "outputs": [
    {
     "data": {
      "text/plain": [
       "624"
      ]
     },
     "execution_count": 2,
     "metadata": {},
     "output_type": "execute_result"
    }
   ],
   "source": [
    "# List for holding lat_lngs and cities\n",
    "lat_lngs = []\n",
    "cities = []\n",
    "\n",
    "# Create a set of random lat and lng combinations\n",
    "lats = np.random.uniform(lat_range[0], lat_range[1], size=1500)\n",
    "lngs = np.random.uniform(lng_range[0], lng_range[1], size=1500)\n",
    "lat_lngs = zip(lats, lngs)\n",
    "\n",
    "# Identify nearest city for each lat, lng combination\n",
    "for lat_lng in lat_lngs:\n",
    "    city = citipy.nearest_city(lat_lng[0], lat_lng[1]).city_name\n",
    "    \n",
    "    # If the city is unique, then add it to a our cities list\n",
    "    if city not in cities:\n",
    "        cities.append(city)\n",
    "\n",
    "# Print the city count to confirm sufficient count\n",
    "len(cities)"
   ]
  },
  {
   "cell_type": "markdown",
   "metadata": {},
   "source": [
    "### Perform API Calls\n",
    "* Perform a weather check on each city using a series of successive API calls.\n",
    "* Include a print log of each city as it's being processed (with the city number and city name).\n"
   ]
  },
  {
   "cell_type": "code",
   "execution_count": 3,
   "metadata": {},
   "outputs": [
    {
     "data": {
      "text/plain": [
       "'http://api.openweathermap.org/data/2.5/weather?q=avarua&appid=638398f7f561b24fe58df1f6395b8765&units=Imperial&q='"
      ]
     },
     "execution_count": 3,
     "metadata": {},
     "output_type": "execute_result"
    }
   ],
   "source": [
    "# Save config information.\n",
    "url = \"http://api.openweathermap.org/data/2.5/weather?\"\n",
    "units = \"Imperial\"\n",
    "\n",
    "# Build query URL\n",
    "query_url = (f\"{url}q={city}&appid={weather_api_key}&units={units}&q=\")\n",
    "query_url"
   ]
  },
  {
   "cell_type": "code",
   "execution_count": 5,
   "metadata": {},
   "outputs": [
    {
     "name": "stdout",
     "output_type": "stream",
     "text": [
      "Testing weather API: {'coord': {'lon': -159.775, 'lat': -21.2078}, 'weather': [{'id': 802, 'main': 'Clouds', 'description': 'scattered clouds', 'icon': '03d'}], 'base': 'stations', 'main': {'temp': 86, 'feels_like': 87.96, 'temp_min': 86, 'temp_max': 86, 'pressure': 1012, 'humidity': 70}, 'visibility': 10000, 'wind': {'speed': 14.97, 'deg': 50}, 'clouds': {'all': 40}, 'dt': 1611617905, 'sys': {'type': 1, 'id': 7271, 'country': 'CK', 'sunrise': 1611591435, 'sunset': 1611638734}, 'timezone': -36000, 'id': 4035715, 'name': 'Avarua', 'cod': 200}\n"
     ]
    }
   ],
   "source": [
    "# Get weather data using requests.get\n",
    "weather_response = requests.get (query_url)\n",
    "weather_json = weather_response.json()\n",
    "print(f\"Testing weather API: {weather_json}\")\n"
   ]
  },
  {
   "cell_type": "code",
   "execution_count": 6,
   "metadata": {},
   "outputs": [],
   "source": [
    "# If you want to print in json format\n",
    "# pprint (weather_json)\n",
    "# print(weather_json['name'])"
   ]
  },
  {
   "cell_type": "code",
   "execution_count": 7,
   "metadata": {},
   "outputs": [
    {
     "name": "stdout",
     "output_type": "stream",
     "text": [
      "----- Start Data Retrieval -----\n",
      "Processing record 0 of set 1 | ronne\n",
      "Processing record 1 of set 1 | sentyabrskiy\n",
      "City not found. skipping.\n",
      "Processing record 2 of set 1 | te anau\n",
      "Processing record 3 of set 1 | vaini\n",
      "Processing record 4 of set 1 | khatanga\n",
      "Processing record 5 of set 1 | hilo\n",
      "Processing record 6 of set 1 | kapaa\n",
      "Processing record 7 of set 1 | comodoro rivadavia\n",
      "Processing record 8 of set 1 | praia da vitoria\n",
      "Processing record 9 of set 1 | mataura\n",
      "Processing record 10 of set 1 | nerchinskiy zavod\n",
      "Processing record 11 of set 1 | puerto ayora\n",
      "Processing record 12 of set 1 | saint-philippe\n",
      "Processing record 13 of set 1 | fort nelson\n",
      "Processing record 14 of set 1 | mahebourg\n",
      "Processing record 15 of set 1 | kirakira\n",
      "Processing record 16 of set 1 | turan\n",
      "Processing record 17 of set 1 | rikitea\n",
      "Processing record 18 of set 1 | barentsburg\n",
      "City not found. skipping.\n",
      "Processing record 19 of set 1 | port hardy\n",
      "Processing record 20 of set 1 | whitecourt\n",
      "Processing record 21 of set 1 | eirunepe\n",
      "Processing record 22 of set 1 | hobart\n",
      "Processing record 23 of set 1 | yarmouth\n",
      "Processing record 24 of set 1 | pangnirtung\n",
      "Processing record 25 of set 1 | chacabuco\n",
      "Processing record 26 of set 1 | upernavik\n",
      "Processing record 27 of set 1 | waingapu\n",
      "Processing record 28 of set 1 | taolanaro\n",
      "City not found. skipping.\n",
      "Processing record 29 of set 1 | bengkulu\n",
      "Processing record 30 of set 1 | ushuaia\n",
      "Processing record 31 of set 1 | launceston\n",
      "Processing record 32 of set 1 | kaitangata\n",
      "Processing record 33 of set 1 | sambava\n",
      "Processing record 34 of set 1 | kamenskoye\n",
      "City not found. skipping.\n",
      "Processing record 35 of set 1 | agua verde\n",
      "Processing record 36 of set 1 | barrow\n",
      "Processing record 37 of set 1 | marsa matruh\n",
      "Processing record 38 of set 1 | provideniya\n",
      "Processing record 39 of set 1 | palabuhanratu\n",
      "City not found. skipping.\n",
      "Processing record 40 of set 1 | villa union\n",
      "Processing record 41 of set 1 | kruisfontein\n",
      "Processing record 42 of set 1 | homer\n",
      "Processing record 43 of set 1 | yellowknife\n",
      "Processing record 44 of set 1 | tibiri\n",
      "Processing record 45 of set 1 | port hedland\n",
      "Processing record 46 of set 1 | rumuruti\n",
      "Processing record 47 of set 1 | butaritari\n",
      "Processing record 48 of set 1 | itoman\n",
      "Processing record 49 of set 1 | punta arenas\n",
      "Processing record 0 of set 2 | northam\n",
      "Processing record 1 of set 2 | opportunity\n",
      "Processing record 2 of set 2 | kondinskoye\n",
      "Processing record 3 of set 2 | kabanjahe\n",
      "Processing record 4 of set 2 | mangai\n",
      "Processing record 5 of set 2 | dunedin\n",
      "Processing record 6 of set 2 | sinnamary\n",
      "Processing record 7 of set 2 | arman\n",
      "Processing record 8 of set 2 | necochea\n",
      "Processing record 9 of set 2 | mys shmidta\n",
      "City not found. skipping.\n",
      "Processing record 10 of set 2 | severka\n",
      "Processing record 11 of set 2 | jamestown\n",
      "Processing record 12 of set 2 | talnakh\n",
      "Processing record 13 of set 2 | buala\n",
      "Processing record 14 of set 2 | attawapiskat\n",
      "City not found. skipping.\n",
      "Processing record 15 of set 2 | cape town\n",
      "Processing record 16 of set 2 | ixtapa\n",
      "Processing record 17 of set 2 | vestmannaeyjar\n",
      "Processing record 18 of set 2 | belushya guba\n",
      "City not found. skipping.\n",
      "Processing record 19 of set 2 | bambous virieux\n",
      "Processing record 20 of set 2 | illoqqortoormiut\n",
      "City not found. skipping.\n",
      "Processing record 21 of set 2 | marcona\n",
      "City not found. skipping.\n",
      "Processing record 22 of set 2 | saldanha\n",
      "Processing record 23 of set 2 | tiarei\n",
      "Processing record 24 of set 2 | codrington\n",
      "Processing record 25 of set 2 | albany\n",
      "Processing record 26 of set 2 | iqaluit\n",
      "Processing record 27 of set 2 | alofi\n",
      "Processing record 28 of set 2 | wajir\n",
      "Processing record 29 of set 2 | ozernovskiy\n",
      "Processing record 30 of set 2 | port alfred\n",
      "Processing record 31 of set 2 | georgetown\n",
      "Processing record 32 of set 2 | coihaique\n",
      "Processing record 33 of set 2 | ilulissat\n",
      "Processing record 34 of set 2 | chute-aux-outardes\n",
      "Processing record 35 of set 2 | tuktoyaktuk\n",
      "Processing record 36 of set 2 | beitbridge\n",
      "Processing record 37 of set 2 | nizhneyansk\n",
      "City not found. skipping.\n",
      "Processing record 38 of set 2 | port lincoln\n",
      "Processing record 39 of set 2 | milford\n",
      "Processing record 40 of set 2 | denpasar\n",
      "Processing record 41 of set 2 | lebu\n",
      "Processing record 42 of set 2 | busselton\n",
      "Processing record 43 of set 2 | rio gallegos\n",
      "Processing record 44 of set 2 | liverpool\n",
      "Processing record 45 of set 2 | bluff\n",
      "Processing record 46 of set 2 | carnarvon\n",
      "Processing record 47 of set 2 | puerto ayacucho\n",
      "Processing record 48 of set 2 | lima\n",
      "Processing record 49 of set 2 | faanui\n",
      "Processing record 0 of set 3 | maltahohe\n",
      "Processing record 1 of set 3 | castro\n",
      "Processing record 2 of set 3 | sao luiz gonzaga\n",
      "Processing record 3 of set 3 | ancud\n",
      "Processing record 4 of set 3 | broome\n",
      "Processing record 5 of set 3 | hayvoron\n",
      "Processing record 6 of set 3 | tasiilaq\n",
      "Processing record 7 of set 3 | klaksvik\n",
      "Processing record 8 of set 3 | shumyachi\n",
      "Processing record 9 of set 3 | mayo\n",
      "Processing record 10 of set 3 | terney\n",
      "Processing record 11 of set 3 | bredasdorp\n",
      "Processing record 12 of set 3 | alamos\n",
      "Processing record 13 of set 3 | murray bridge\n",
      "Processing record 14 of set 3 | hermanus\n",
      "Processing record 15 of set 3 | sao filipe\n",
      "Processing record 16 of set 3 | taseyevo\n",
      "Processing record 17 of set 3 | halalo\n",
      "City not found. skipping.\n",
      "Processing record 18 of set 3 | bima\n",
      "Processing record 19 of set 3 | barroualie\n",
      "City not found. skipping.\n",
      "Processing record 20 of set 3 | asau\n",
      "Processing record 21 of set 3 | la libertad\n",
      "Processing record 22 of set 3 | siilinjarvi\n",
      "Processing record 23 of set 3 | avarua\n",
      "Processing record 24 of set 3 | praia\n",
      "Processing record 25 of set 3 | takaungu\n",
      "Processing record 26 of set 3 | mar del plata\n",
      "Processing record 27 of set 3 | kavieng\n",
      "Processing record 28 of set 3 | bairiki\n",
      "Processing record 29 of set 3 | new norfolk\n",
      "Processing record 30 of set 3 | burgeo\n",
      "Processing record 31 of set 3 | atuona\n",
      "Processing record 32 of set 3 | chokurdakh\n",
      "Processing record 33 of set 3 | carrefour\n",
      "Processing record 34 of set 3 | nanortalik\n",
      "Processing record 35 of set 3 | plettenberg bay\n",
      "Processing record 36 of set 3 | arona\n",
      "Processing record 37 of set 3 | victoria\n",
      "Processing record 38 of set 3 | alotau\n",
      "City not found. skipping.\n",
      "Processing record 39 of set 3 | tilichiki\n",
      "Processing record 40 of set 3 | saskylakh\n",
      "Processing record 41 of set 3 | hihifo\n",
      "City not found. skipping.\n",
      "Processing record 42 of set 3 | katsuura\n",
      "Processing record 43 of set 3 | vestmanna\n",
      "Processing record 44 of set 3 | ailigandi\n",
      "Processing record 45 of set 3 | chuy\n",
      "Processing record 46 of set 3 | fortuna\n",
      "Processing record 47 of set 3 | vardo\n",
      "Processing record 48 of set 3 | karaul\n",
      "City not found. skipping.\n",
      "Processing record 49 of set 3 | abu samrah\n",
      "Processing record 0 of set 4 | san borja\n",
      "Processing record 1 of set 4 | chulman\n",
      "Processing record 2 of set 4 | bristol\n",
      "Processing record 3 of set 4 | clyde river\n",
      "Processing record 4 of set 4 | yichun\n",
      "Processing record 5 of set 4 | we\n",
      "City not found. skipping.\n",
      "Processing record 6 of set 4 | rawson\n",
      "Processing record 7 of set 4 | san quintin\n",
      "Processing record 8 of set 4 | hofn\n",
      "Processing record 9 of set 4 | brookhaven\n",
      "Processing record 10 of set 4 | cheuskiny\n",
      "City not found. skipping.\n",
      "Processing record 11 of set 4 | esperance\n",
      "Processing record 12 of set 4 | kahului\n",
      "Processing record 13 of set 4 | bethel\n",
      "Processing record 14 of set 4 | jacmel\n",
      "Processing record 15 of set 4 | ambodifototra\n",
      "City not found. skipping.\n",
      "Processing record 16 of set 4 | barcelos\n",
      "Processing record 17 of set 4 | manzhouli\n",
      "Processing record 18 of set 4 | mujiayingzi\n",
      "Processing record 19 of set 4 | muros\n",
      "Processing record 20 of set 4 | boca do acre\n",
      "Processing record 21 of set 4 | nogliki\n",
      "Processing record 22 of set 4 | cabo san lucas\n",
      "Processing record 23 of set 4 | korcula\n",
      "Processing record 24 of set 4 | lavrentiya\n",
      "Processing record 25 of set 4 | chicama\n",
      "Processing record 26 of set 4 | thompson\n",
      "Processing record 27 of set 4 | longyearbyen\n",
      "Processing record 28 of set 4 | datong\n",
      "Processing record 29 of set 4 | iwata\n",
      "Processing record 30 of set 4 | newburn\n",
      "Processing record 31 of set 4 | norman wells\n",
      "Processing record 32 of set 4 | korla\n",
      "Processing record 33 of set 4 | vila franca do campo\n",
      "Processing record 34 of set 4 | itarema\n"
     ]
    },
    {
     "name": "stdout",
     "output_type": "stream",
     "text": [
      "Processing record 35 of set 4 | roald\n",
      "Processing record 36 of set 4 | kangaatsiaq\n",
      "Processing record 37 of set 4 | ponta do sol\n",
      "Processing record 38 of set 4 | muscat\n",
      "Processing record 39 of set 4 | surenavan\n",
      "Processing record 40 of set 4 | broken hill\n",
      "Processing record 41 of set 4 | lar gerd\n",
      "City not found. skipping.\n",
      "Processing record 42 of set 4 | saint george\n",
      "Processing record 43 of set 4 | pevek\n",
      "Processing record 44 of set 4 | jacareacanga\n",
      "Processing record 45 of set 4 | malanje\n",
      "Processing record 46 of set 4 | lakatoro\n",
      "Processing record 47 of set 4 | togur\n",
      "Processing record 48 of set 4 | okhotsk\n",
      "Processing record 49 of set 4 | dubenskiy\n",
      "City not found. skipping.\n",
      "Processing record 0 of set 5 | tsihombe\n",
      "City not found. skipping.\n",
      "Processing record 1 of set 5 | sisimiut\n",
      "Processing record 2 of set 5 | alyangula\n",
      "Processing record 3 of set 5 | zhetysay\n",
      "Processing record 4 of set 5 | tungkang\n",
      "City not found. skipping.\n",
      "Processing record 5 of set 5 | victor harbor\n",
      "Processing record 6 of set 5 | atar\n",
      "Processing record 7 of set 5 | ribeira grande\n",
      "Processing record 8 of set 5 | henties bay\n",
      "Processing record 9 of set 5 | rassvet\n",
      "Processing record 10 of set 5 | acapulco\n",
      "Processing record 11 of set 5 | dinar\n",
      "Processing record 12 of set 5 | novo aripuana\n",
      "Processing record 13 of set 5 | luderitz\n",
      "Processing record 14 of set 5 | severo-yeniseyskiy\n",
      "Processing record 15 of set 5 | novoagansk\n",
      "Processing record 16 of set 5 | nguiu\n",
      "City not found. skipping.\n",
      "Processing record 17 of set 5 | dalnerechensk\n",
      "Processing record 18 of set 5 | pavlovskiy\n",
      "Processing record 19 of set 5 | kodiak\n",
      "Processing record 20 of set 5 | vila velha\n",
      "Processing record 21 of set 5 | upata\n",
      "Processing record 22 of set 5 | east london\n",
      "Processing record 23 of set 5 | celestun\n",
      "Processing record 24 of set 5 | lufilufi\n",
      "Processing record 25 of set 5 | nioki\n",
      "Processing record 26 of set 5 | vao\n",
      "Processing record 27 of set 5 | saleaula\n",
      "City not found. skipping.\n",
      "Processing record 28 of set 5 | moerai\n",
      "Processing record 29 of set 5 | shahgarh\n",
      "Processing record 30 of set 5 | arraial do cabo\n",
      "Processing record 31 of set 5 | hithadhoo\n",
      "Processing record 32 of set 5 | uvira\n",
      "Processing record 33 of set 5 | namibe\n",
      "Processing record 34 of set 5 | teknaf\n",
      "Processing record 35 of set 5 | aklavik\n",
      "Processing record 36 of set 5 | zyryanovsk\n",
      "Processing record 37 of set 5 | kayerkan\n",
      "Processing record 38 of set 5 | nikolskoye\n",
      "Processing record 39 of set 5 | darnah\n",
      "Processing record 40 of set 5 | gornozavodsk\n",
      "Processing record 41 of set 5 | the valley\n",
      "Processing record 42 of set 5 | grinnell\n",
      "Processing record 43 of set 5 | geraldton\n",
      "Processing record 44 of set 5 | airai\n",
      "Processing record 45 of set 5 | namatanai\n",
      "Processing record 46 of set 5 | laguna\n",
      "Processing record 47 of set 5 | baturaja\n",
      "Processing record 48 of set 5 | amderma\n",
      "City not found. skipping.\n",
      "Processing record 49 of set 5 | boqueirao\n",
      "Processing record 0 of set 6 | sosnovskiy\n",
      "City not found. skipping.\n",
      "Processing record 1 of set 6 | malpe\n",
      "Processing record 2 of set 6 | meulaboh\n",
      "Processing record 3 of set 6 | labuhan\n",
      "Processing record 4 of set 6 | muleba\n",
      "Processing record 5 of set 6 | coahuayana\n",
      "Processing record 6 of set 6 | jiexiu\n",
      "Processing record 7 of set 6 | gazimurskiy zavod\n",
      "Processing record 8 of set 6 | bangkal\n",
      "Processing record 9 of set 6 | manggar\n",
      "Processing record 10 of set 6 | ahipara\n",
      "Processing record 11 of set 6 | laela\n",
      "Processing record 12 of set 6 | shahreza\n",
      "Processing record 13 of set 6 | monrovia\n",
      "Processing record 14 of set 6 | fukue\n",
      "Processing record 15 of set 6 | haines junction\n",
      "Processing record 16 of set 6 | santa fe\n",
      "Processing record 17 of set 6 | wanning\n",
      "Processing record 18 of set 6 | shimoda\n",
      "Processing record 19 of set 6 | palmer\n",
      "Processing record 20 of set 6 | qaanaaq\n",
      "Processing record 21 of set 6 | pitimbu\n",
      "Processing record 22 of set 6 | grand river south east\n",
      "City not found. skipping.\n",
      "Processing record 23 of set 6 | yar-sale\n",
      "Processing record 24 of set 6 | tuatapere\n",
      "Processing record 25 of set 6 | lagos\n",
      "Processing record 26 of set 6 | itaituba\n",
      "Processing record 27 of set 6 | lazaro cardenas\n",
      "Processing record 28 of set 6 | damghan\n",
      "Processing record 29 of set 6 | mayor pablo lagerenza\n",
      "Processing record 30 of set 6 | houma\n",
      "Processing record 31 of set 6 | severo-kurilsk\n",
      "Processing record 32 of set 6 | daru\n",
      "Processing record 33 of set 6 | paita\n",
      "Processing record 34 of set 6 | lovozero\n",
      "Processing record 35 of set 6 | dikson\n",
      "Processing record 36 of set 6 | santa rosa\n",
      "Processing record 37 of set 6 | mugur-aksy\n",
      "Processing record 38 of set 6 | gasa\n",
      "Processing record 39 of set 6 | los llanos de aridane\n",
      "Processing record 40 of set 6 | orizona\n",
      "Processing record 41 of set 6 | manzanillo\n",
      "Processing record 42 of set 6 | guane\n",
      "Processing record 43 of set 6 | payakumbuh\n",
      "Processing record 44 of set 6 | banda aceh\n",
      "Processing record 45 of set 6 | manuk mangkaw\n",
      "Processing record 46 of set 6 | lagoa\n",
      "Processing record 47 of set 6 | autun\n",
      "Processing record 48 of set 6 | san cristobal\n",
      "Processing record 49 of set 6 | auki\n",
      "Processing record 0 of set 7 | caiaponia\n",
      "Processing record 1 of set 7 | lorengau\n",
      "Processing record 2 of set 7 | slave lake\n",
      "Processing record 3 of set 7 | gorno-chuyskiy\n",
      "City not found. skipping.\n",
      "Processing record 4 of set 7 | juneau\n",
      "Processing record 5 of set 7 | berbera\n",
      "Processing record 6 of set 7 | at-bashi\n",
      "Processing record 7 of set 7 | mehamn\n",
      "Processing record 8 of set 7 | tabuk\n",
      "Processing record 9 of set 7 | cherskiy\n",
      "Processing record 10 of set 7 | yarensk\n",
      "Processing record 11 of set 7 | mrakovo\n",
      "Processing record 12 of set 7 | sibu\n",
      "Processing record 13 of set 7 | chemal\n",
      "Processing record 14 of set 7 | kawalu\n",
      "Processing record 15 of set 7 | takoradi\n",
      "Processing record 16 of set 7 | buchanan\n",
      "Processing record 17 of set 7 | kyren\n",
      "Processing record 18 of set 7 | husavik\n",
      "Processing record 19 of set 7 | narsaq\n",
      "Processing record 20 of set 7 | tiksi\n",
      "Processing record 21 of set 7 | saint-joseph\n",
      "Processing record 22 of set 7 | teseney\n",
      "Processing record 23 of set 7 | babanusah\n",
      "City not found. skipping.\n",
      "Processing record 24 of set 7 | krasnoyarsk-45\n",
      "City not found. skipping.\n",
      "Processing record 25 of set 7 | south sioux city\n",
      "Processing record 26 of set 7 | wum\n",
      "Processing record 27 of set 7 | san pedro\n",
      "Processing record 28 of set 7 | adrar\n",
      "Processing record 29 of set 7 | ypsonas\n",
      "Processing record 30 of set 7 | guigue\n",
      "Processing record 31 of set 7 | nome\n",
      "Processing record 32 of set 7 | dingle\n",
      "Processing record 33 of set 7 | grand gaube\n",
      "Processing record 34 of set 7 | burnie\n",
      "Processing record 35 of set 7 | khonuu\n",
      "City not found. skipping.\n",
      "Processing record 36 of set 7 | san nicola\n",
      "Processing record 37 of set 7 | angoche\n",
      "Processing record 38 of set 7 | levelland\n",
      "Processing record 39 of set 7 | moranbah\n",
      "Processing record 40 of set 7 | shizunai\n",
      "Processing record 41 of set 7 | neuquen\n",
      "Processing record 42 of set 7 | naze\n",
      "Processing record 43 of set 7 | horsham\n",
      "Processing record 44 of set 7 | lamar\n",
      "Processing record 45 of set 7 | payo\n",
      "Processing record 46 of set 7 | arandis\n",
      "Processing record 47 of set 7 | kazalinsk\n",
      "City not found. skipping.\n",
      "Processing record 48 of set 7 | salym\n",
      "Processing record 49 of set 7 | monte gordo\n",
      "Processing record 0 of set 8 | orje\n",
      "Processing record 1 of set 8 | svetlaya\n",
      "Processing record 2 of set 8 | yulara\n",
      "Processing record 3 of set 8 | margate\n",
      "Processing record 4 of set 8 | grindavik\n",
      "Processing record 5 of set 8 | trincomalee\n",
      "Processing record 6 of set 8 | mwene-ditu\n",
      "Processing record 7 of set 8 | sumbe\n",
      "Processing record 8 of set 8 | mount gambier\n",
      "Processing record 9 of set 8 | olafsvik\n",
      "Processing record 10 of set 8 | torbay\n",
      "Processing record 11 of set 8 | merta\n",
      "Processing record 12 of set 8 | cidreira\n",
      "Processing record 13 of set 8 | tynda\n",
      "Processing record 14 of set 8 | maragogi\n",
      "Processing record 15 of set 8 | komsomolskiy\n",
      "Processing record 16 of set 8 | sao joao da barra\n",
      "Processing record 17 of set 8 | kloulklubed\n",
      "Processing record 18 of set 8 | azul\n",
      "Processing record 19 of set 8 | guerrero negro\n",
      "Processing record 20 of set 8 | bukachacha\n",
      "Processing record 21 of set 8 | lolua\n",
      "City not found. skipping.\n",
      "Processing record 22 of set 8 | nuevitas\n",
      "Processing record 23 of set 8 | dubuque\n",
      "Processing record 24 of set 8 | kinkala\n",
      "Processing record 25 of set 8 | aden\n"
     ]
    },
    {
     "name": "stdout",
     "output_type": "stream",
     "text": [
      "Processing record 26 of set 8 | lasa\n",
      "Processing record 27 of set 8 | ijaki\n",
      "City not found. skipping.\n",
      "Processing record 28 of set 8 | rong kwang\n",
      "Processing record 29 of set 8 | tateyama\n",
      "Processing record 30 of set 8 | eureka\n",
      "Processing record 31 of set 8 | bam\n",
      "Processing record 32 of set 8 | hervey bay\n",
      "Processing record 33 of set 8 | rujewa\n",
      "Processing record 34 of set 8 | lerwick\n",
      "Processing record 35 of set 8 | zhigansk\n",
      "Processing record 36 of set 8 | bilma\n",
      "Processing record 37 of set 8 | toora-khem\n",
      "Processing record 38 of set 8 | richards bay\n",
      "Processing record 39 of set 8 | conceicao do mato dentro\n",
      "Processing record 40 of set 8 | kieta\n",
      "Processing record 41 of set 8 | alta floresta\n",
      "Processing record 42 of set 8 | balsas\n",
      "Processing record 43 of set 8 | kankavli\n",
      "City not found. skipping.\n",
      "Processing record 44 of set 8 | konispol\n",
      "Processing record 45 of set 8 | ukiah\n",
      "Processing record 46 of set 8 | bargal\n",
      "City not found. skipping.\n",
      "Processing record 47 of set 8 | andrushivka\n",
      "Processing record 48 of set 8 | coquimbo\n",
      "Processing record 49 of set 8 | matay\n",
      "Processing record 0 of set 9 | la palma\n",
      "Processing record 1 of set 9 | tyukhtet\n",
      "Processing record 2 of set 9 | sitka\n",
      "Processing record 3 of set 9 | north bend\n",
      "Processing record 4 of set 9 | iskateley\n",
      "Processing record 5 of set 9 | pilar\n",
      "Processing record 6 of set 9 | batagay-alyta\n",
      "Processing record 7 of set 9 | makaryev\n",
      "Processing record 8 of set 9 | avera\n",
      "Processing record 9 of set 9 | bilibino\n",
      "Processing record 10 of set 9 | viedma\n",
      "Processing record 11 of set 9 | san patricio\n",
      "Processing record 12 of set 9 | makakilo city\n",
      "Processing record 13 of set 9 | arlit\n",
      "Processing record 14 of set 9 | nova russas\n",
      "Processing record 15 of set 9 | skibbereen\n",
      "Processing record 16 of set 9 | sertania\n",
      "Processing record 17 of set 9 | andenes\n",
      "Processing record 18 of set 9 | saint-denis\n",
      "Processing record 19 of set 9 | tautira\n",
      "Processing record 20 of set 9 | russell\n",
      "Processing record 21 of set 9 | sibay\n",
      "Processing record 22 of set 9 | tumannyy\n",
      "City not found. skipping.\n",
      "Processing record 23 of set 9 | miajadas\n",
      "Processing record 24 of set 9 | merritt island\n",
      "Processing record 25 of set 9 | tulun\n",
      "Processing record 26 of set 9 | ha giang\n",
      "Processing record 27 of set 9 | ejido\n",
      "Processing record 28 of set 9 | ngukurr\n",
      "City not found. skipping.\n",
      "Processing record 29 of set 9 | ulladulla\n",
      "Processing record 30 of set 9 | baykit\n",
      "Processing record 31 of set 9 | quattro castella\n",
      "Processing record 32 of set 9 | walvis bay\n",
      "Processing record 33 of set 9 | jardim\n",
      "Processing record 34 of set 9 | beibei\n",
      "Processing record 35 of set 9 | lashio\n",
      "Processing record 36 of set 9 | taoudenni\n",
      "Processing record 37 of set 9 | waipawa\n",
      "Processing record 38 of set 9 | manaus\n",
      "Processing record 39 of set 9 | dieppe\n",
      "Processing record 40 of set 9 | strezhevoy\n",
      "Processing record 41 of set 9 | pisco\n",
      "Processing record 42 of set 9 | souillac\n",
      "Processing record 43 of set 9 | kaeo\n",
      "Processing record 44 of set 9 | boden\n",
      "Processing record 45 of set 9 | bathsheba\n",
      "Processing record 46 of set 9 | ayagoz\n",
      "Processing record 47 of set 9 | indramayu\n",
      "Processing record 48 of set 9 | saint-georges\n",
      "Processing record 49 of set 9 | semey\n",
      "Processing record 0 of set 10 | isangel\n",
      "Processing record 1 of set 10 | beloha\n",
      "Processing record 2 of set 10 | vaitupu\n",
      "City not found. skipping.\n",
      "Processing record 3 of set 10 | meadow lake\n",
      "Processing record 4 of set 10 | rawannawi\n",
      "City not found. skipping.\n",
      "Processing record 5 of set 10 | taltal\n",
      "Processing record 6 of set 10 | hokitika\n",
      "Processing record 7 of set 10 | akyab\n",
      "Processing record 8 of set 10 | jining\n",
      "Processing record 9 of set 10 | dongsheng\n",
      "Processing record 10 of set 10 | luhacovice\n",
      "Processing record 11 of set 10 | chagda\n",
      "City not found. skipping.\n",
      "Processing record 12 of set 10 | ust-bolsheretsk\n",
      "City not found. skipping.\n",
      "Processing record 13 of set 10 | kushiro\n",
      "Processing record 14 of set 10 | salamanca\n",
      "Processing record 15 of set 10 | iquitos\n",
      "Processing record 16 of set 10 | campo largo\n",
      "Processing record 17 of set 10 | lebork\n",
      "Processing record 18 of set 10 | shache\n",
      "Processing record 19 of set 10 | teya\n",
      "Processing record 20 of set 10 | de-kastri\n",
      "Processing record 21 of set 10 | rudbar\n",
      "Processing record 22 of set 10 | port elizabeth\n",
      "Processing record 23 of set 10 | khovu-aksy\n",
      "Processing record 24 of set 10 | carutapera\n",
      "Processing record 25 of set 10 | buraydah\n",
      "Processing record 26 of set 10 | coruripe\n",
      "Processing record 27 of set 10 | skibotn\n",
      "Processing record 28 of set 10 | geresk\n",
      "City not found. skipping.\n",
      "Processing record 29 of set 10 | grand-lahou\n",
      "Processing record 30 of set 10 | ormara\n",
      "Processing record 31 of set 10 | snezhnogorsk\n",
      "Processing record 32 of set 10 | chernyshevskiy\n",
      "Processing record 33 of set 10 | ola\n",
      "Processing record 34 of set 10 | troitskiy\n",
      "Processing record 35 of set 10 | mogoytuy\n",
      "Processing record 36 of set 10 | beaverlodge\n",
      "Processing record 37 of set 10 | goderich\n",
      "Processing record 38 of set 10 | rupert\n",
      "Processing record 39 of set 10 | zonguldak\n",
      "Processing record 40 of set 10 | bonavista\n",
      "Processing record 41 of set 10 | santa cruz cabralia\n",
      "Processing record 42 of set 10 | bubaque\n",
      "Processing record 43 of set 10 | dali\n",
      "Processing record 44 of set 10 | tefe\n",
      "Processing record 45 of set 10 | pak phanang\n",
      "Processing record 46 of set 10 | hasaki\n",
      "Processing record 47 of set 10 | mount isa\n",
      "Processing record 48 of set 10 | bandarbeyla\n",
      "Processing record 49 of set 10 | altay\n",
      "Processing record 0 of set 11 | opuwo\n",
      "Processing record 1 of set 11 | dawlatabad\n",
      "Processing record 2 of set 11 | adiake\n",
      "Processing record 3 of set 11 | college\n",
      "Processing record 4 of set 11 | hirara\n",
      "Processing record 5 of set 11 | saravan\n",
      "Processing record 6 of set 11 | kalka\n",
      "Processing record 7 of set 11 | touros\n",
      "Processing record 8 of set 11 | yenagoa\n",
      "Processing record 9 of set 11 | sardarshahr\n",
      "Processing record 10 of set 11 | nouadhibou\n",
      "Processing record 11 of set 11 | polson\n",
      "Processing record 12 of set 11 | rocha\n",
      "Processing record 13 of set 11 | asfi\n",
      "Processing record 14 of set 11 | omboue\n",
      "Processing record 15 of set 11 | san carlos de bariloche\n",
      "Processing record 16 of set 11 | ulaangom\n",
      "Processing record 17 of set 11 | shenjiamen\n",
      "Processing record 18 of set 11 | pimentel\n",
      "Processing record 19 of set 11 | sept-iles\n",
      "Processing record 20 of set 11 | lillooet\n",
      "Processing record 21 of set 11 | oum hadjer\n",
      "Processing record 22 of set 11 | belyy yar\n",
      "Processing record 23 of set 11 | olinda\n",
      "Processing record 24 of set 11 | norwich\n",
      "Processing record 25 of set 11 | gap\n",
      "Processing record 26 of set 11 | cayenne\n",
      "Processing record 27 of set 11 | havoysund\n",
      "Processing record 28 of set 11 | port hawkesbury\n",
      "Processing record 29 of set 11 | yuzhno-yeniseyskiy\n",
      "City not found. skipping.\n",
      "Processing record 30 of set 11 | raudeberg\n",
      "Processing record 31 of set 11 | maceio\n",
      "Processing record 32 of set 11 | puerto narino\n",
      "Processing record 33 of set 11 | inhambane\n",
      "Processing record 34 of set 11 | netarhat\n",
      "Processing record 35 of set 11 | namwala\n",
      "Processing record 36 of set 11 | hanmer springs\n",
      "Processing record 37 of set 11 | dakar\n",
      "Processing record 38 of set 11 | eyl\n",
      "Processing record 39 of set 11 | tamworth\n",
      "Processing record 40 of set 11 | pimenta bueno\n",
      "Processing record 41 of set 11 | were ilu\n",
      "Processing record 42 of set 11 | aguimes\n",
      "Processing record 43 of set 11 | cerritos\n",
      "Processing record 44 of set 11 | paamiut\n",
      "Processing record 45 of set 11 | sarangani\n",
      "Processing record 46 of set 11 | yaring\n",
      "Processing record 47 of set 11 | padang\n",
      "Processing record 48 of set 11 | kallifitos\n",
      "Processing record 49 of set 11 | utiroa\n",
      "City not found. skipping.\n",
      "Processing record 0 of set 12 | umzimvubu\n",
      "City not found. skipping.\n",
      "Processing record 1 of set 12 | loubomo\n",
      "Processing record 2 of set 12 | deputatskiy\n",
      "Processing record 3 of set 12 | pozo colorado\n",
      "Processing record 4 of set 12 | vanimo\n",
      "Processing record 5 of set 12 | phan thiet\n",
      "Processing record 6 of set 12 | rusape\n",
      "Processing record 7 of set 12 | portland\n",
      "Processing record 8 of set 12 | serowe\n",
      "Processing record 9 of set 12 | pacific grove\n",
      "Processing record 10 of set 12 | dzierzoniow\n",
      "Processing record 11 of set 12 | cap malheureux\n",
      "Processing record 12 of set 12 | iralaya\n",
      "Processing record 13 of set 12 | brigantine\n",
      "Processing record 14 of set 12 | madang\n"
     ]
    },
    {
     "name": "stdout",
     "output_type": "stream",
     "text": [
      "Processing record 15 of set 12 | byron bay\n",
      "Processing record 16 of set 12 | eaglesfield\n",
      "Processing record 17 of set 12 | boueni\n",
      "Processing record 18 of set 12 | amalapuram\n",
      "Processing record 19 of set 12 | timberlake\n",
      "Processing record 20 of set 12 | devonport\n",
      "Processing record 21 of set 12 | xilopolis\n",
      "Processing record 22 of set 12 | banjar\n",
      "Processing record 23 of set 12 | harper\n",
      "Processing record 24 of set 12 | anchorage\n",
      "Processing record 25 of set 12 | imeni zhelyabova\n",
      "Processing record 26 of set 12 | satitoa\n",
      "City not found. skipping.\n",
      "Processing record 27 of set 12 | marzuq\n",
      "Processing record 28 of set 12 | akashi\n",
      "Processing record 29 of set 12 | udachnyy\n",
      "Processing record 30 of set 12 | mahibadhoo\n",
      "Processing record 31 of set 12 | plouzane\n",
      "Processing record 32 of set 12 | sao jose da coroa grande\n",
      "Processing record 33 of set 12 | karistos\n",
      "City not found. skipping.\n",
      "Processing record 34 of set 12 | riyadh\n",
      "Processing record 35 of set 12 | kawerau\n",
      "Processing record 36 of set 12 | samusu\n",
      "City not found. skipping.\n",
      "Processing record 37 of set 12 | maniitsoq\n",
      "Processing record 38 of set 12 | puerto suarez\n",
      "Processing record 39 of set 12 | krasnoselkup\n",
      "Processing record 40 of set 12 | klobuck\n",
      "Processing record 41 of set 12 | qaqortoq\n",
      "Processing record 42 of set 12 | sorland\n",
      "Processing record 43 of set 12 | port-gentil\n",
      "Processing record 44 of set 12 | kavaratti\n",
      "Processing record 45 of set 12 | clinton\n",
      "Processing record 46 of set 12 | artyk\n",
      "City not found. skipping.\n",
      "Processing record 47 of set 12 | nortelandia\n",
      "Processing record 48 of set 12 | samarai\n",
      "Processing record 49 of set 12 | myitkyina\n",
      "Processing record 0 of set 13 | tocopilla\n",
      "Processing record 1 of set 13 | porto novo\n",
      "Processing record 2 of set 13 | gainesville\n",
      "Processing record 3 of set 13 | evensk\n",
      "Processing record 4 of set 13 | dalbandin\n",
      "Processing record 5 of set 13 | nianzishan\n",
      "Processing record 6 of set 13 | menongue\n",
      "Processing record 7 of set 13 | adelaide\n",
      "Processing record 8 of set 13 | taksimo\n",
      "Processing record 9 of set 13 | santa maria chiquimula\n",
      "Processing record 10 of set 13 | azimur\n",
      "City not found. skipping.\n",
      "Processing record 11 of set 13 | alenquer\n",
      "Processing record 12 of set 13 | constitucion\n",
      "Processing record 13 of set 13 | boddam\n",
      "Processing record 14 of set 13 | lompoc\n",
      "Processing record 15 of set 13 | morondava\n",
      "Processing record 16 of set 13 | mokrousovo\n",
      "Processing record 17 of set 13 | barawe\n",
      "City not found. skipping.\n",
      "Processing record 18 of set 13 | agua branca\n",
      "Processing record 19 of set 13 | khorinsk\n",
      "Processing record 20 of set 13 | warangal\n",
      "Processing record 21 of set 13 | edgewater\n",
      "Processing record 22 of set 13 | arkhangelsk\n",
      "Processing record 23 of set 13 | aranos\n",
      "----------Done Woohoo!---------\n"
     ]
    }
   ],
   "source": [
    "# Counter to go through data\n",
    "record = 0\n",
    "sets = 1\n",
    "\n",
    "# Define empty lists to store values.\n",
    "# Note: Could also use dataframes vs. containers\n",
    "cloudiness = []\n",
    "country = []\n",
    "date = []\n",
    "temp = []\n",
    "temp_max = []\n",
    "humidity = []\n",
    "lat = []\n",
    "lon = []\n",
    "wind_speed = []\n",
    "city_name = []\n",
    "\n",
    "# For loop through cities to make API calls using city as query\n",
    "# Note: This line of code also works even though fields are out of order. Documenting here for future reference.\n",
    "    #query_url = url + \"&appid=\" + weather_api_key + \"&q=\" + city + \"&units=Imperial\"\n",
    "\n",
    "# Loop through city data and retrieve\n",
    "print(\"----- Start Data Retrieval -----\")\n",
    "\n",
    "\n",
    "for city in cities:\n",
    "    city=city\n",
    "    \n",
    "    query_url = url +  \"&q=\" + city + \"&appid=\" + weather_api_key + \"&units=Imperial\"\n",
    "    response = requests.get(query_url).json()\n",
    "\n",
    "# Pulls data and puts it into above containers. Missing data is skipped by exception below. \n",
    "    try:\n",
    "        print(f\"Processing record {record} of set {sets} | {city}\")\n",
    "        \n",
    "        cloudiness.append(response[\"clouds\"][\"all\"])\n",
    "        country.append(response[\"sys\"][\"country\"])\n",
    "        date.append(response[\"dt\"])\n",
    "        temp.append(response[\"main\"][\"temp\"])\n",
    "        temp_max.append(response[\"main\"][\"temp_max\"])\n",
    "        humidity.append(response[\"main\"][\"humidity\"])\n",
    "        lat.append(response[\"coord\"][\"lat\"])  \n",
    "        lon.append(response[\"coord\"][\"lon\"])\n",
    "        wind_speed.append(response[\"wind\"][\"speed\"])\n",
    "        city_name.append(response[\"name\"])       \n",
    "\n",
    "    except (KeyError):\n",
    "        print(\"City not found. skipping.\")\n",
    "\n",
    "# Note: Loops through data and when it hits record #50, it resets the counter.\n",
    "# Note: Code and count idea attributed to a classmate.\n",
    "    record = record + 1\n",
    "    if record == 50:\n",
    "        record = 0\n",
    "        sets = sets + 1 \n",
    "        \n",
    "        \n",
    "print(\"----------Done Woohoo!---------\")"
   ]
  },
  {
   "cell_type": "markdown",
   "metadata": {},
   "source": [
    "### Convert Raw Data to DataFrame\n",
    "* Export the city data into a .csv.\n",
    "* Display the DataFrame"
   ]
  },
  {
   "cell_type": "code",
   "execution_count": 8,
   "metadata": {},
   "outputs": [
    {
     "data": {
      "text/html": [
       "<div>\n",
       "<style scoped>\n",
       "    .dataframe tbody tr th:only-of-type {\n",
       "        vertical-align: middle;\n",
       "    }\n",
       "\n",
       "    .dataframe tbody tr th {\n",
       "        vertical-align: top;\n",
       "    }\n",
       "\n",
       "    .dataframe thead th {\n",
       "        text-align: right;\n",
       "    }\n",
       "</style>\n",
       "<table border=\"1\" class=\"dataframe\">\n",
       "  <thead>\n",
       "    <tr style=\"text-align: right;\">\n",
       "      <th></th>\n",
       "      <th>city</th>\n",
       "      <th>country</th>\n",
       "      <th>lat</th>\n",
       "      <th>lon</th>\n",
       "      <th>temp</th>\n",
       "      <th>temp_max</th>\n",
       "      <th>humidity</th>\n",
       "      <th>wind_speed</th>\n",
       "      <th>cloudiness</th>\n",
       "      <th>date</th>\n",
       "    </tr>\n",
       "  </thead>\n",
       "  <tbody>\n",
       "    <tr>\n",
       "      <th>0</th>\n",
       "      <td>Rønne</td>\n",
       "      <td>DK</td>\n",
       "      <td>55.1009</td>\n",
       "      <td>14.7066</td>\n",
       "      <td>33.80</td>\n",
       "      <td>33.80</td>\n",
       "      <td>100</td>\n",
       "      <td>3.44</td>\n",
       "      <td>90</td>\n",
       "      <td>1611617915</td>\n",
       "    </tr>\n",
       "    <tr>\n",
       "      <th>1</th>\n",
       "      <td>Te Anau</td>\n",
       "      <td>NZ</td>\n",
       "      <td>-45.4167</td>\n",
       "      <td>167.7167</td>\n",
       "      <td>68.74</td>\n",
       "      <td>68.74</td>\n",
       "      <td>62</td>\n",
       "      <td>10.89</td>\n",
       "      <td>99</td>\n",
       "      <td>1611617915</td>\n",
       "    </tr>\n",
       "    <tr>\n",
       "      <th>2</th>\n",
       "      <td>Vaini</td>\n",
       "      <td>TO</td>\n",
       "      <td>-21.2000</td>\n",
       "      <td>-175.2000</td>\n",
       "      <td>82.40</td>\n",
       "      <td>82.40</td>\n",
       "      <td>83</td>\n",
       "      <td>9.22</td>\n",
       "      <td>75</td>\n",
       "      <td>1611617915</td>\n",
       "    </tr>\n",
       "    <tr>\n",
       "      <th>3</th>\n",
       "      <td>Khatanga</td>\n",
       "      <td>RU</td>\n",
       "      <td>71.9667</td>\n",
       "      <td>102.5000</td>\n",
       "      <td>-19.19</td>\n",
       "      <td>-19.19</td>\n",
       "      <td>87</td>\n",
       "      <td>8.70</td>\n",
       "      <td>100</td>\n",
       "      <td>1611617916</td>\n",
       "    </tr>\n",
       "    <tr>\n",
       "      <th>4</th>\n",
       "      <td>Hilo</td>\n",
       "      <td>US</td>\n",
       "      <td>19.7297</td>\n",
       "      <td>-155.0900</td>\n",
       "      <td>69.57</td>\n",
       "      <td>73.40</td>\n",
       "      <td>88</td>\n",
       "      <td>4.61</td>\n",
       "      <td>90</td>\n",
       "      <td>1611617910</td>\n",
       "    </tr>\n",
       "    <tr>\n",
       "      <th>5</th>\n",
       "      <td>Kapaa</td>\n",
       "      <td>US</td>\n",
       "      <td>22.0752</td>\n",
       "      <td>-159.3190</td>\n",
       "      <td>74.88</td>\n",
       "      <td>75.99</td>\n",
       "      <td>100</td>\n",
       "      <td>21.85</td>\n",
       "      <td>90</td>\n",
       "      <td>1611617916</td>\n",
       "    </tr>\n",
       "    <tr>\n",
       "      <th>6</th>\n",
       "      <td>Comodoro Rivadavia</td>\n",
       "      <td>AR</td>\n",
       "      <td>-45.8667</td>\n",
       "      <td>-67.5000</td>\n",
       "      <td>68.00</td>\n",
       "      <td>68.00</td>\n",
       "      <td>22</td>\n",
       "      <td>20.71</td>\n",
       "      <td>20</td>\n",
       "      <td>1611617916</td>\n",
       "    </tr>\n",
       "    <tr>\n",
       "      <th>7</th>\n",
       "      <td>Praia da Vitória</td>\n",
       "      <td>PT</td>\n",
       "      <td>38.7333</td>\n",
       "      <td>-27.0667</td>\n",
       "      <td>64.83</td>\n",
       "      <td>66.20</td>\n",
       "      <td>88</td>\n",
       "      <td>16.31</td>\n",
       "      <td>75</td>\n",
       "      <td>1611617916</td>\n",
       "    </tr>\n",
       "    <tr>\n",
       "      <th>8</th>\n",
       "      <td>Mataura</td>\n",
       "      <td>NZ</td>\n",
       "      <td>-46.1927</td>\n",
       "      <td>168.8643</td>\n",
       "      <td>80.01</td>\n",
       "      <td>80.01</td>\n",
       "      <td>47</td>\n",
       "      <td>21.99</td>\n",
       "      <td>99</td>\n",
       "      <td>1611617917</td>\n",
       "    </tr>\n",
       "    <tr>\n",
       "      <th>9</th>\n",
       "      <td>Nerchinskiy Zavod</td>\n",
       "      <td>RU</td>\n",
       "      <td>51.3088</td>\n",
       "      <td>119.6100</td>\n",
       "      <td>-12.12</td>\n",
       "      <td>-12.12</td>\n",
       "      <td>88</td>\n",
       "      <td>7.31</td>\n",
       "      <td>100</td>\n",
       "      <td>1611617917</td>\n",
       "    </tr>\n",
       "  </tbody>\n",
       "</table>\n",
       "</div>"
      ],
      "text/plain": [
       "                 city country      lat       lon   temp  temp_max  humidity  \\\n",
       "0               Rønne      DK  55.1009   14.7066  33.80     33.80       100   \n",
       "1             Te Anau      NZ -45.4167  167.7167  68.74     68.74        62   \n",
       "2               Vaini      TO -21.2000 -175.2000  82.40     82.40        83   \n",
       "3            Khatanga      RU  71.9667  102.5000 -19.19    -19.19        87   \n",
       "4                Hilo      US  19.7297 -155.0900  69.57     73.40        88   \n",
       "5               Kapaa      US  22.0752 -159.3190  74.88     75.99       100   \n",
       "6  Comodoro Rivadavia      AR -45.8667  -67.5000  68.00     68.00        22   \n",
       "7    Praia da Vitória      PT  38.7333  -27.0667  64.83     66.20        88   \n",
       "8             Mataura      NZ -46.1927  168.8643  80.01     80.01        47   \n",
       "9   Nerchinskiy Zavod      RU  51.3088  119.6100 -12.12    -12.12        88   \n",
       "\n",
       "   wind_speed  cloudiness        date  \n",
       "0        3.44          90  1611617915  \n",
       "1       10.89          99  1611617915  \n",
       "2        9.22          75  1611617915  \n",
       "3        8.70         100  1611617916  \n",
       "4        4.61          90  1611617910  \n",
       "5       21.85          90  1611617916  \n",
       "6       20.71          20  1611617916  \n",
       "7       16.31          75  1611617916  \n",
       "8       21.99          99  1611617917  \n",
       "9        7.31         100  1611617917  "
      ]
     },
     "execution_count": 8,
     "metadata": {},
     "output_type": "execute_result"
    }
   ],
   "source": [
    "# Note: Create Dataframe list of dictionaries\n",
    "\n",
    "city_df = pd.DataFrame({\n",
    "    \"city\": city_name,\n",
    "    \"country\": country,\n",
    "    \"lat\": lat,\n",
    "    \"lon\": lon,\n",
    "    \"temp\": temp,\n",
    "    \"temp_max\": temp_max,\n",
    "    \"humidity\": humidity,\n",
    "    \"wind_speed\": wind_speed,\n",
    "    \"cloudiness\": cloudiness,\n",
    "    \"date\": date\n",
    "})\n",
    "\n",
    "city_df.head(10)\n"
   ]
  },
  {
   "cell_type": "code",
   "execution_count": 10,
   "metadata": {},
   "outputs": [
    {
     "data": {
      "text/plain": [
       "571"
      ]
     },
     "execution_count": 10,
     "metadata": {},
     "output_type": "execute_result"
    }
   ],
   "source": [
    "# Show Record Count\n",
    "# Note: Checking the data, just curious\n",
    "recordcount = len(city_df)\n",
    "recordcount"
   ]
  },
  {
   "cell_type": "code",
   "execution_count": 11,
   "metadata": {},
   "outputs": [],
   "source": [
    "#Export to CSV\n",
    "city_df.to_csv(\"../output_data/weather_globalcities.csv\")\n"
   ]
  },
  {
   "cell_type": "markdown",
   "metadata": {},
   "source": [
    "## Inspect the data and remove the cities where the humidity > 100%.\n",
    "----\n",
    "Skip this step if there are no cities that have humidity > 100%. "
   ]
  },
  {
   "cell_type": "code",
   "execution_count": 12,
   "metadata": {},
   "outputs": [
    {
     "data": {
      "text/html": [
       "<div>\n",
       "<style scoped>\n",
       "    .dataframe tbody tr th:only-of-type {\n",
       "        vertical-align: middle;\n",
       "    }\n",
       "\n",
       "    .dataframe tbody tr th {\n",
       "        vertical-align: top;\n",
       "    }\n",
       "\n",
       "    .dataframe thead th {\n",
       "        text-align: right;\n",
       "    }\n",
       "</style>\n",
       "<table border=\"1\" class=\"dataframe\">\n",
       "  <thead>\n",
       "    <tr style=\"text-align: right;\">\n",
       "      <th></th>\n",
       "      <th>city</th>\n",
       "      <th>country</th>\n",
       "      <th>lat</th>\n",
       "      <th>lon</th>\n",
       "      <th>temp</th>\n",
       "      <th>temp_max</th>\n",
       "      <th>humidity</th>\n",
       "      <th>wind_speed</th>\n",
       "      <th>cloudiness</th>\n",
       "      <th>date</th>\n",
       "    </tr>\n",
       "  </thead>\n",
       "  <tbody>\n",
       "  </tbody>\n",
       "</table>\n",
       "</div>"
      ],
      "text/plain": [
       "Empty DataFrame\n",
       "Columns: [city, country, lat, lon, temp, temp_max, humidity, wind_speed, cloudiness, date]\n",
       "Index: []"
      ]
     },
     "execution_count": 12,
     "metadata": {},
     "output_type": "execute_result"
    }
   ],
   "source": [
    "# Create dataframe to identify cities with humidty > 100.\n",
    "# If identified, use city_filtered_df going forward. If not, then use city_df.\n",
    "\n",
    "city_filtered_df = city_df[city_df[\"humidity\"] > 100] \n",
    "  \n",
    "# Print the new dataframe \n",
    "city_filtered_df.head(5) \n"
   ]
  },
  {
   "cell_type": "markdown",
   "metadata": {},
   "source": [
    "## Plotting the Data\n",
    "* Use proper labeling of the plots using plot titles (including date of analysis) and axes labels.\n",
    "* Save the plotted figures as .pngs."
   ]
  },
  {
   "cell_type": "markdown",
   "metadata": {},
   "source": [
    "## Latitude vs. Temperature Plot"
   ]
  },
  {
   "cell_type": "code",
   "execution_count": 13,
   "metadata": {
    "scrolled": true
   },
   "outputs": [
    {
     "data": {
      "image/png": "[encoded data removed]",
      "text/plain": [
       "<Figure size 432x288 with 1 Axes>"
      ]
     },
     "metadata": {
      "needs_background": "light"
     },
     "output_type": "display_data"
    }
   ],
   "source": [
    "# Converting Date for title of plot\n",
    "# Note: Dynamic field in chart title - borrowed code from H.Kaur as it is a cool addition to graphs.\n",
    "timestamp = city_df[\"date\"][0]\n",
    "converted_timestamp = datetime.utcfromtimestamp(timestamp)\n",
    "shortened_timestamp = datetime.date(converted_timestamp)\n",
    "\n",
    "# Build a scatter plot for each data type\n",
    "plt.scatter(city_df[\"lat\"], city_df[\"temp\"], marker=\"o\", color=\"red\", zorder=2)\n",
    "\n",
    "# Incorporate the other graph properties\n",
    "# Note: Static title option >>  plt.title(\"Temperature in World Cities (Jan 2021)\")\n",
    "plt.title(f\"Temperature in World Cities ({shortened_timestamp})\")\n",
    "plt.ylabel(\"Temperature (Fahrenheit)\")\n",
    "plt.xlabel(\"Latitude\")\n",
    "plt.grid(True)\n",
    "\n",
    "# Save the chart\n",
    "plt.savefig(\"../output_data/Latitude_temperature.png\")\n",
    "\n",
    "# Show plot\n",
    "plt.show()"
   ]
  },
  {
   "cell_type": "markdown",
   "metadata": {},
   "source": [
    "## Latitude vs. Humidity Plot"
   ]
  },
  {
   "cell_type": "code",
   "execution_count": 14,
   "metadata": {},
   "outputs": [
    {
     "data": {
      "image/png": "[encoded data removed]",
      "text/plain": [
       "<Figure size 432x288 with 1 Axes>"
      ]
     },
     "metadata": {
      "needs_background": "light"
     },
     "output_type": "display_data"
    }
   ],
   "source": [
    "# Build a scatter plot for each data type\n",
    "plt.scatter(city_df[\"lat\"], city_df[\"humidity\"], marker=\"o\", color=\"blue\", zorder=2)\n",
    "\n",
    "# Incorporate the other graph properties\n",
    "plt.title(f\"Humidity in World Cities ({shortened_timestamp})\")\n",
    "plt.ylabel(\"Humidity (%)\")\n",
    "plt.xlabel(\"Latitude\")\n",
    "plt.grid(True)\n",
    "\n",
    "# Save the chart\n",
    "plt.savefig(\"../output_data/Latitude_humidity.png\")\n",
    "\n",
    "# Show plot\n",
    "plt.show()"
   ]
  },
  {
   "cell_type": "markdown",
   "metadata": {},
   "source": [
    "## Latitude vs. Cloudiness Plot"
   ]
  },
  {
   "cell_type": "code",
   "execution_count": 15,
   "metadata": {},
   "outputs": [
    {
     "data": {
      "image/png": "[encoded data removed]",
      "text/plain": [
       "<Figure size 432x288 with 1 Axes>"
      ]
     },
     "metadata": {
      "needs_background": "light"
     },
     "output_type": "display_data"
    }
   ],
   "source": [
    "# Build a scatter plot for each data type\n",
    "plt.scatter(city_df[\"lat\"], city_df[\"cloudiness\"], marker=\"o\", color=\"grey\", zorder=2)\n",
    "\n",
    "# Incorporate the other graph properties\n",
    "plt.title(f\"Cloudiness in World Cities ({shortened_timestamp})\")\n",
    "plt.ylabel(\"Cloudiness (%)\")\n",
    "plt.xlabel(\"Latitude\")\n",
    "plt.grid(True)\n",
    "\n",
    "# Save the chart\n",
    "plt.savefig(\"../output_data/Latitude_cloudiness.png\")\n",
    "\n",
    "# Show plot\n",
    "plt.show()"
   ]
  },
  {
   "cell_type": "markdown",
   "metadata": {},
   "source": [
    "## Latitude vs. Wind Speed Plot"
   ]
  },
  {
   "cell_type": "code",
   "execution_count": 16,
   "metadata": {},
   "outputs": [
    {
     "data": {
      "image/png": "[encoded data removed]",
      "text/plain": [
       "<Figure size 432x288 with 1 Axes>"
      ]
     },
     "metadata": {
      "needs_background": "light"
     },
     "output_type": "display_data"
    }
   ],
   "source": [
    "# Build a scatter plot for each data type\n",
    "plt.scatter(city_df[\"lat\"], city_df[\"wind_speed\"], marker=\"o\", color=\"orange\", zorder=2)\n",
    "\n",
    "# Incorporate the other graph properties\n",
    "plt.title(f\"Wind Speed in World Cities ({shortened_timestamp})\")\n",
    "plt.ylabel(\"Wind Speed (mph)\")\n",
    "plt.xlabel(\"Latitude\")\n",
    "plt.grid(True)\n",
    "\n",
    "# Save the chart\n",
    "plt.savefig(\"../output_data/Latitude_windspeed.png\")\n",
    "\n",
    "# Show plot\n",
    "plt.show()"
   ]
  },
  {
   "cell_type": "markdown",
   "metadata": {},
   "source": [
    "## Linear Regression"
   ]
  },
  {
   "cell_type": "code",
   "execution_count": 17,
   "metadata": {},
   "outputs": [],
   "source": [
    "# Create a function to create Linear Regression plots\n",
    "# Note: all code must be indented (even print statement); or it will error out.\n",
    "# Note: def line code may or may not be needed. If used, indent all remaining code.\n",
    "\n",
    "def lin_reg_plot(x_values,y_values):   \n",
    "    (slope, intercept, rvalue, pvalue, stderr) = linregress(x_values, y_values)\n",
    "    regress_values = x_values * slope + intercept\n",
    "    line_eq = \"y = \" + str(round(slope,2)) + \"x + \" + str(round(intercept,2))\n",
    "    \n",
    "# Note: Code below is sample scatter plot; uncomment plt.show() to make sure initial code is working.\n",
    "# Note: Add the linear regression equation and line to plot & apply some formatting\n",
    "    plt.scatter(x_values,y_values)\n",
    "    plt.plot(x_values,regress_values,\"r-\")\n",
    "    plt.annotate(line_eq,(x_values.median(),y_values.median()),fontsize=16,color=\"red\")\n",
    "    print(f\"The rvalue is: {rvalue}\")\n",
    "    #plt.show()"
   ]
  },
  {
   "cell_type": "code",
   "execution_count": 18,
   "metadata": {},
   "outputs": [],
   "source": [
    "# Create dataframes for Northern and Southern Hemisphere\n",
    "northhem_df = city_df.loc[city_df[\"lat\"] > 0,:]\n",
    "#northhem_df.head()\n",
    "\n",
    "southhem_df = city_df.loc[city_df[\"lat\"] < 0,:]\n",
    "#southhem_df.head()"
   ]
  },
  {
   "cell_type": "markdown",
   "metadata": {},
   "source": [
    "####  Northern Hemisphere - Max Temp vs. Latitude Linear Regression"
   ]
  },
  {
   "cell_type": "code",
   "execution_count": 19,
   "metadata": {},
   "outputs": [
    {
     "name": "stdout",
     "output_type": "stream",
     "text": [
      "The rvalue is: -0.8335012534205976\n",
      "None\n"
     ]
    },
    {
     "data": {
      "image/png": "[encoded data removed]",
      "text/plain": [
       "<Figure size 432x288 with 1 Axes>"
      ]
     },
     "metadata": {
      "needs_background": "light"
     },
     "output_type": "display_data"
    }
   ],
   "source": [
    "x_values = northhem_df[\"lat\"]\n",
    "y_values = northhem_df[\"temp_max\"]\n",
    "plt.title(\"Northern Hemisphere - Max Temp vs. Latitude Linear Regression\")\n",
    "plt.xlabel(\"Latitude\")\n",
    "plt.ylabel(\"Max Temp (F)\")\n",
    "\n",
    "print(lin_reg_plot(x_values,y_values))\n",
    "\n",
    "# Save the chart\n",
    "plt.savefig(\"../output_data/Linreg_north_temp.png\")"
   ]
  },
  {
   "cell_type": "markdown",
   "metadata": {},
   "source": [
    "####  Southern Hemisphere - Max Temp vs. Latitude Linear Regression"
   ]
  },
  {
   "cell_type": "code",
   "execution_count": 20,
   "metadata": {},
   "outputs": [
    {
     "name": "stdout",
     "output_type": "stream",
     "text": [
      "The rvalue is: 0.3937869698632314\n",
      "None\n"
     ]
    },
    {
     "data": {
      "image/png": "[encoded data removed]",
      "text/plain": [
       "<Figure size 432x288 with 1 Axes>"
      ]
     },
     "metadata": {
      "needs_background": "light"
     },
     "output_type": "display_data"
    }
   ],
   "source": [
    "x_values = southhem_df[\"lat\"]\n",
    "y_values = southhem_df[\"temp_max\"]\n",
    "plt.title(\"Southern Hemisphere - Max Temp vs. Latitude Linear Regression\")\n",
    "plt.xlabel(\"Latitude\")\n",
    "plt.ylabel(\"Max Temp (F)\")\n",
    "\n",
    "print(lin_reg_plot(x_values,y_values))\n",
    "\n",
    "# Save the chart\n",
    "plt.savefig(\"../output_data/Linreg_south_temp.png\")"
   ]
  },
  {
   "cell_type": "markdown",
   "metadata": {},
   "source": [
    "####  Northern Hemisphere - Humidity (%) vs. Latitude Linear Regression"
   ]
  },
  {
   "cell_type": "code",
   "execution_count": 21,
   "metadata": {},
   "outputs": [
    {
     "name": "stdout",
     "output_type": "stream",
     "text": [
      "The rvalue is: 0.21043885166289947\n",
      "None\n"
     ]
    },
    {
     "data": {
      "image/png": "[encoded data removed]",
      "text/plain": [
       "<Figure size 432x288 with 1 Axes>"
      ]
     },
     "metadata": {
      "needs_background": "light"
     },
     "output_type": "display_data"
    }
   ],
   "source": [
    "x_values = northhem_df[\"lat\"]\n",
    "y_values = northhem_df[\"humidity\"]\n",
    "plt.title(\"Northern Hemisphere - Humidity (%) vs. Latitude Linear Regression\")\n",
    "plt.xlabel(\"Latitude\")\n",
    "plt.ylabel(\"Humidity (%)\")\n",
    "\n",
    "print(lin_reg_plot(x_values,y_values))\n",
    "\n",
    "# Save the chart\n",
    "plt.savefig(\"../output_data/Linreg_north_humid.png\")"
   ]
  },
  {
   "cell_type": "markdown",
   "metadata": {},
   "source": [
    "####  Southern Hemisphere - Humidity (%) vs. Latitude Linear Regression"
   ]
  },
  {
   "cell_type": "code",
   "execution_count": 22,
   "metadata": {},
   "outputs": [
    {
     "name": "stdout",
     "output_type": "stream",
     "text": [
      "The rvalue is: 0.526444452466807\n",
      "None\n"
     ]
    },
    {
     "data": {
      "image/png": "[encoded data removed]",
      "text/plain": [
       "<Figure size 432x288 with 1 Axes>"
      ]
     },
     "metadata": {
      "needs_background": "light"
     },
     "output_type": "display_data"
    }
   ],
   "source": [
    "x_values = southhem_df[\"lat\"]\n",
    "y_values = southhem_df[\"humidity\"]\n",
    "plt.title(\"Southern Hemisphere - Humidity (%) vs. Latitude Linear Regression\")\n",
    "plt.xlabel(\"Latitude\")\n",
    "plt.ylabel(\"Humidity (%)\")\n",
    "\n",
    "print(lin_reg_plot(x_values,y_values))\n",
    "\n",
    "# Save the chart\n",
    "plt.savefig(\"../output_data/Linreg_south_humid.png\")"
   ]
  },
  {
   "cell_type": "markdown",
   "metadata": {},
   "source": [
    "####  Northern Hemisphere - Cloudiness (%) vs. Latitude Linear Regression"
   ]
  },
  {
   "cell_type": "code",
   "execution_count": 23,
   "metadata": {},
   "outputs": [
    {
     "name": "stdout",
     "output_type": "stream",
     "text": [
      "The rvalue is: 0.2671171183195434\n",
      "None\n"
     ]
    },
    {
     "data": {
      "image/png": "[encoded data removed]",
      "text/plain": [
       "<Figure size 432x288 with 1 Axes>"
      ]
     },
     "metadata": {
      "needs_background": "light"
     },
     "output_type": "display_data"
    }
   ],
   "source": [
    "x_values = northhem_df[\"lat\"]\n",
    "y_values = northhem_df[\"cloudiness\"]\n",
    "plt.title(\"Northern Hemisphere - Cloudiness (%) vs. Latitude Linear Regression\")\n",
    "plt.xlabel(\"Latitude\")\n",
    "plt.ylabel(\"Cloudiness (%)\")\n",
    "\n",
    "print(lin_reg_plot(x_values,y_values))\n",
    "\n",
    "# Save the chart\n",
    "plt.savefig(\"../output_data/Linreg_north_cloud.png\")"
   ]
  },
  {
   "cell_type": "markdown",
   "metadata": {},
   "source": [
    "####  Southern Hemisphere - Cloudiness (%) vs. Latitude Linear Regression"
   ]
  },
  {
   "cell_type": "code",
   "execution_count": 24,
   "metadata": {},
   "outputs": [
    {
     "name": "stdout",
     "output_type": "stream",
     "text": [
      "The rvalue is: 0.315367001770825\n",
      "None\n"
     ]
    },
    {
     "data": {
      "image/png": "[encoded data removed]",
      "text/plain": [
       "<Figure size 432x288 with 1 Axes>"
      ]
     },
     "metadata": {
      "needs_background": "light"
     },
     "output_type": "display_data"
    }
   ],
   "source": [
    "x_values = southhem_df[\"lat\"]\n",
    "y_values = southhem_df[\"cloudiness\"]\n",
    "plt.title(\"Southern Hemisphere - Cloudiness (%) vs. Latitude Linear Regression\")\n",
    "plt.xlabel(\"Latitude\")\n",
    "plt.ylabel(\"Cloudiness (%)\")\n",
    "\n",
    "print(lin_reg_plot(x_values,y_values))\n",
    "\n",
    "# Save the chart\n",
    "plt.savefig(\"../output_data/Linreg_south_cloud.png\")"
   ]
  },
  {
   "cell_type": "markdown",
   "metadata": {},
   "source": [
    "####  Northern Hemisphere - Wind Speed (mph) vs. Latitude Linear Regression"
   ]
  },
  {
   "cell_type": "code",
   "execution_count": 25,
   "metadata": {},
   "outputs": [
    {
     "name": "stdout",
     "output_type": "stream",
     "text": [
      "The rvalue is: 0.06688598877140893\n",
      "None\n"
     ]
    },
    {
     "data": {
      "image/png": "[encoded data removed]",
      "text/plain": [
       "<Figure size 432x288 with 1 Axes>"
      ]
     },
     "metadata": {
      "needs_background": "light"
     },
     "output_type": "display_data"
    }
   ],
   "source": [
    "x_values = northhem_df[\"lat\"]\n",
    "y_values = northhem_df[\"wind_speed\"]\n",
    "plt.title(\"Northern Hemisphere - Wind Speed (mph) vs. Latitude Linear Regression\")\n",
    "plt.xlabel(\"Latitude\")\n",
    "plt.ylabel(\"Wind Speed (mph)\")\n",
    "\n",
    "print(lin_reg_plot(x_values,y_values))\n",
    "\n",
    "# Save the chart\n",
    "plt.savefig(\"../output_data/Linreg_north_wind.png\")"
   ]
  },
  {
   "cell_type": "markdown",
   "metadata": {},
   "source": [
    "####  Southern Hemisphere - Wind Speed (mph) vs. Latitude Linear Regression"
   ]
  },
  {
   "cell_type": "code",
   "execution_count": 26,
   "metadata": {},
   "outputs": [
    {
     "name": "stdout",
     "output_type": "stream",
     "text": [
      "The rvalue is: -0.4578563324920279\n",
      "None\n"
     ]
    },
    {
     "data": {
      "image/png": "[encoded data removed]",
      "text/plain": [
       "<Figure size 432x288 with 1 Axes>"
      ]
     },
     "metadata": {
      "needs_background": "light"
     },
     "output_type": "display_data"
    }
   ],
   "source": [
    "x_values = southhem_df[\"lat\"]\n",
    "y_values = southhem_df[\"wind_speed\"]\n",
    "plt.title(\"Southern Hemisphere - Wind Speed (mph) vs. Latitude Linear Regression\")\n",
    "plt.xlabel(\"Latitude\")\n",
    "plt.ylabel(\"Wind Speed (mph)\")\n",
    "\n",
    "print(lin_reg_plot(x_values,y_values))\n",
    "\n",
    "# Save the chart\n",
    "plt.savefig(\"../output_data/Linreg_south_wind.png\")"
   ]
  }
 ],
 "metadata": {
  "anaconda-cloud": {},
  "kernel_info": {
   "name": "python3"
  },
  "kernelspec": {
   "display_name": "Python 3",
   "language": "python",
   "name": "python3"
  },
  "language_info": {
   "codemirror_mode": {
    "name": "ipython",
    "version": 3
   },
   "file_extension": ".py",
   "mimetype": "text/x-python",
   "name": "python",
   "nbconvert_exporter": "python",
   "pygments_lexer": "ipython3",
   "version": "3.8.5"
  },
  "latex_envs": {
   "LaTeX_envs_menu_present": true,
   "autoclose": false,
   "autocomplete": true,
   "bibliofile": "biblio.bib",
   "cite_by": "apalike",
   "current_citInitial": 1,
   "eqLabelWithNumbers": true,
   "eqNumInitial": 1,
   "hotkeys": {
    "equation": "Ctrl-E",
    "itemize": "Ctrl-I"
   },
   "labels_anchors": false,
   "latex_user_defs": false,
   "report_style_numbering": false,
   "user_envs_cfg": false
  },
  "nteract": {
   "version": "0.12.3"
  }
 },
 "nbformat": 4,
 "nbformat_minor": 2
}
