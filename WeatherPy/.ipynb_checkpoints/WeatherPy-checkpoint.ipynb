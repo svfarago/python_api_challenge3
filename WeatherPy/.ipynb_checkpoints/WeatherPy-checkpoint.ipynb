{
 "cells": [
  {
   "cell_type": "markdown",
   "metadata": {},
   "source": [
    "# WeatherPy\n",
    "----"
   ]
  },
  {
   "cell_type": "markdown",
   "metadata": {},
   "source": [
    "### Data Analysis and Observations Summary\n",
    "\n",
    "1. When looking at the linear regression data for temperature in both northern and southern hemispheres, the dots on each plot show the temperatures are higher (or warmer) closest to the equator. As the latitude for both hemispheres gets farther away from the equator (or zero), the temperatures get lower (or colder). This data supports what we know about temperatures near the equator vs at either north or south pole.\n",
    "\n",
    "2. When looking at the regression lines for wind speeds in both hemispheres, wind speeds are lower at the equator and increase as the distances extend out in both north and south directions. The increase is noted more in the southern hemisphere (higher absolute rvalue) than in the northern hemisphere (lower absolute rvalue). This may be related to warmer temperatures at the equator (see observation #1 above) where warm, moise air rises to produce low pressure resulting in little surface wind at the equator.\n",
    "\n",
    "3. When looking at the latitude vs. temperature plot, the temperatures are highest at or near the equator. As cities get farther out from the equator, temperatures remain higher in the southern hemisphere but drop off significantly in the northern hemisphere. Land mass is distributed at 68% in the northern hemisphere and 32% in the southern hemisphere*. This distribution may account for the number of city readings or that land masses will report colder temperatures than water masses. *Source = phl.upr.edu.\n",
    "\n",
    "4. Related to 100% Humidity -- It is possible to have humidity greater than 100%. It's known as \"supersaturation\". This dataset looked for instances of humidity > 100%. See the section below that inspects for cities with humidity data > 100%.\n"
   ]
  },
  {
   "cell_type": "code",
   "execution_count": 1,
   "metadata": {
    "scrolled": true
   },
   "outputs": [],
   "source": [
    "# Dependencies and Setup\n",
    "import matplotlib.pyplot as plt\n",
    "import pandas as pd\n",
    "import numpy as np\n",
    "import requests\n",
    "import time\n",
    "from scipy import stats\n",
    "from scipy.stats import linregress\n",
    "\n",
    "# Note: Added this import to dynamically create chart titles below.\n",
    "from datetime import datetime\n",
    "\n",
    "# Import API key\n",
    "from api_keys import weather_api_key\n",
    "from api_keys import g_key\n",
    "\n",
    "# Incorporated citipy to determine city based on latitude and longitude\n",
    "# Note: Install citipy\n",
    "from citipy import citipy\n",
    "\n",
    "# Import pprint - prints JSON in a structured way\n",
    "# Note: I had to install this in Get Bash\n",
    "from pprint import pprint\n",
    "\n",
    "# Note: These are optional. I may not use them.\n",
    "import gmaps\n",
    "import gmaps.datasets\n",
    "import seaborn as sns\n",
    "\n",
    "# Output File (CSV)\n",
    "output_data_file = \"output_data/cities.csv\"\n",
    "\n",
    "# Range of latitudes and longitudes\n",
    "lat_range = (-90, 90)\n",
    "lng_range = (-180, 180)"
   ]
  },
  {
   "cell_type": "markdown",
   "metadata": {},
   "source": [
    "## Generate Cities List"
   ]
  },
  {
   "cell_type": "code",
   "execution_count": 11,
   "metadata": {},
   "outputs": [
    {
     "data": {
      "text/plain": [
       "611"
      ]
     },
     "execution_count": 11,
     "metadata": {},
     "output_type": "execute_result"
    }
   ],
   "source": [
    "# List for holding lat_lngs and cities\n",
    "lat_lngs = []\n",
    "cities = []\n",
    "\n",
    "# Create a set of random lat and lng combinations\n",
    "lats = np.random.uniform(lat_range[0], lat_range[1], size=1500)\n",
    "lngs = np.random.uniform(lng_range[0], lng_range[1], size=1500)\n",
    "lat_lngs = zip(lats, lngs)\n",
    "\n",
    "# Identify nearest city for each lat, lng combination\n",
    "for lat_lng in lat_lngs:\n",
    "    city = citipy.nearest_city(lat_lng[0], lat_lng[1]).city_name\n",
    "    \n",
    "    # If the city is unique, then add it to a our cities list\n",
    "    if city not in cities:\n",
    "        cities.append(city)\n",
    "\n",
    "# Print the city count to confirm sufficient count\n",
    "len(cities)"
   ]
  },
  {
   "cell_type": "markdown",
   "metadata": {},
   "source": [
    "### Perform API Calls\n",
    "* Perform a weather check on each city using a series of successive API calls.\n",
    "* Include a print log of each city as it's being processed (with the city number and city name).\n"
   ]
  },
  {
   "cell_type": "code",
   "execution_count": 3,
   "metadata": {},
   "outputs": [
    {
     "data": {
      "text/plain": [
       "'http://api.openweathermap.org/data/2.5/weather?q=rikitea&appid=638398f7f561b24fe58df1f6395b8765&units=Imperial&q='"
      ]
     },
     "execution_count": 3,
     "metadata": {},
     "output_type": "execute_result"
    }
   ],
   "source": [
    "# Save config information.\n",
    "url = \"http://api.openweathermap.org/data/2.5/weather?\"\n",
    "units = \"Imperial\"\n",
    "\n",
    "# Build query URL\n",
    "query_url = (f\"{url}q={city}&appid={weather_api_key}&units={units}&q=\")\n",
    "query_url"
   ]
  },
  {
   "cell_type": "code",
   "execution_count": 10,
   "metadata": {},
   "outputs": [
    {
     "name": "stdout",
     "output_type": "stream",
     "text": [
      "Testing weather API: {'coord': {'lon': -73, 'lat': -12.1167}, 'weather': [{'id': 804, 'main': 'Clouds', 'description': 'overcast clouds', 'icon': '04d'}], 'base': 'stations', 'main': {'temp': 68.68, 'feels_like': 74.61, 'temp_min': 68.68, 'temp_max': 68.68, 'pressure': 1016, 'humidity': 96, 'sea_level': 1016, 'grnd_level': 941}, 'visibility': 10000, 'wind': {'speed': 0.87, 'deg': 339}, 'clouds': {'all': 100}, 'dt': 1611505164, 'sys': {'country': 'PE', 'sunrise': 1611485001, 'sunset': 1611530681}, 'timezone': -18000, 'id': 3933104, 'name': 'Pangoa', 'cod': 200}\n"
     ]
    }
   ],
   "source": [
    "# Get weather data using requests.get\n",
    "weather_response = requests.get (query_url)\n",
    "weather_json = weather_response.json()\n",
    "print(f\"Testing weather API: {weather_json}\")\n"
   ]
  },
  {
   "cell_type": "code",
   "execution_count": 7,
   "metadata": {},
   "outputs": [],
   "source": [
    "# If you want to print in json format\n",
    "# pprint (weather_json)\n",
    "# print(weather_json['name'])"
   ]
  },
  {
   "cell_type": "code",
   "execution_count": 9,
   "metadata": {},
   "outputs": [
    {
     "name": "stdout",
     "output_type": "stream",
     "text": [
      "----- Start Data Retrieval -----\n",
      "Processing record 0 of set 1 | mar del plata\n",
      "Processing record 1 of set 1 | kamaishi\n",
      "Processing record 2 of set 1 | hobart\n",
      "Processing record 3 of set 1 | lopatino\n",
      "Processing record 4 of set 1 | luderitz\n",
      "Processing record 5 of set 1 | nikolskoye\n",
      "Processing record 6 of set 1 | punta arenas\n",
      "Processing record 7 of set 1 | grand river south east\n",
      "City not found. skipping.\n",
      "Processing record 8 of set 1 | quatre cocos\n",
      "Processing record 9 of set 1 | guozhen\n",
      "Processing record 10 of set 1 | bandarbeyla\n",
      "Processing record 11 of set 1 | georgetown\n",
      "Processing record 12 of set 1 | jinan\n",
      "Processing record 13 of set 1 | uzhur\n",
      "Processing record 14 of set 1 | bengkulu\n",
      "Processing record 15 of set 1 | jacareacanga\n",
      "Processing record 16 of set 1 | mataura\n",
      "Processing record 17 of set 1 | ketchikan\n",
      "Processing record 18 of set 1 | butaritari\n",
      "Processing record 19 of set 1 | laguna\n",
      "Processing record 20 of set 1 | puerto narino\n",
      "Processing record 21 of set 1 | albany\n",
      "Processing record 22 of set 1 | sioux lookout\n",
      "Processing record 23 of set 1 | rikitea\n",
      "Processing record 24 of set 1 | ponta do sol\n",
      "Processing record 25 of set 1 | atuona\n",
      "Processing record 26 of set 1 | grand-santi\n",
      "Processing record 27 of set 1 | provideniya\n",
      "Processing record 28 of set 1 | ngukurr\n",
      "City not found. skipping.\n",
      "Processing record 29 of set 1 | iqaluit\n",
      "Processing record 30 of set 1 | bredasdorp\n",
      "Processing record 31 of set 1 | hambantota\n",
      "Processing record 32 of set 1 | yellowknife\n",
      "Processing record 33 of set 1 | neuquen\n",
      "Processing record 34 of set 1 | bangil\n",
      "Processing record 35 of set 1 | new norfolk\n",
      "Processing record 36 of set 1 | ixtapa\n",
      "Processing record 37 of set 1 | kloulklubed\n",
      "Processing record 38 of set 1 | te anau\n",
      "Processing record 39 of set 1 | torbay\n",
      "Processing record 40 of set 1 | meyungs\n",
      "City not found. skipping.\n",
      "Processing record 41 of set 1 | saint-philippe\n",
      "Processing record 42 of set 1 | marica\n",
      "Processing record 43 of set 1 | chokurdakh\n",
      "Processing record 44 of set 1 | vaitupu\n",
      "City not found. skipping.\n",
      "Processing record 45 of set 1 | tomatlan\n",
      "Processing record 46 of set 1 | khatanga\n",
      "Processing record 47 of set 1 | bambous virieux\n",
      "Processing record 48 of set 1 | vaini\n",
      "Processing record 49 of set 1 | longyearbyen\n",
      "Processing record 0 of set 2 | chiang klang\n",
      "Processing record 1 of set 2 | cabo san lucas\n",
      "Processing record 2 of set 2 | kazanskoye\n",
      "Processing record 3 of set 2 | buraydah\n",
      "Processing record 4 of set 2 | flin flon\n",
      "Processing record 5 of set 2 | bitung\n",
      "Processing record 6 of set 2 | norman wells\n",
      "Processing record 7 of set 2 | talnakh\n",
      "Processing record 8 of set 2 | saskylakh\n",
      "Processing record 9 of set 2 | dalby\n",
      "Processing record 10 of set 2 | dunedin\n",
      "Processing record 11 of set 2 | rio grande\n",
      "Processing record 12 of set 2 | atasu\n",
      "Processing record 13 of set 2 | ilulissat\n",
      "Processing record 14 of set 2 | huilong\n",
      "Processing record 15 of set 2 | amderma\n",
      "City not found. skipping.\n",
      "Processing record 16 of set 2 | merauke\n",
      "Processing record 17 of set 2 | illoqqortoormiut\n",
      "City not found. skipping.\n",
      "Processing record 18 of set 2 | asfi\n",
      "Processing record 19 of set 2 | busselton\n",
      "Processing record 20 of set 2 | hilo\n",
      "Processing record 21 of set 2 | belushya guba\n",
      "City not found. skipping.\n",
      "Processing record 22 of set 2 | krasnoarmeysk\n",
      "Processing record 23 of set 2 | staryy nadym\n",
      "Processing record 24 of set 2 | kruisfontein\n",
      "Processing record 25 of set 2 | jamestown\n",
      "Processing record 26 of set 2 | carnarvon\n",
      "Processing record 27 of set 2 | aksarayskiy\n",
      "Processing record 28 of set 2 | terra rica\n",
      "Processing record 29 of set 2 | havelock\n",
      "Processing record 30 of set 2 | ushuaia\n",
      "Processing record 31 of set 2 | mount isa\n",
      "Processing record 32 of set 2 | sorvag\n",
      "City not found. skipping.\n",
      "Processing record 33 of set 2 | fortuna\n",
      "Processing record 34 of set 2 | nizhneyansk\n",
      "City not found. skipping.\n",
      "Processing record 35 of set 2 | upernavik\n",
      "Processing record 36 of set 2 | attawapiskat\n",
      "City not found. skipping.\n",
      "Processing record 37 of set 2 | poum\n",
      "Processing record 38 of set 2 | guerrero negro\n",
      "Processing record 39 of set 2 | mangai\n",
      "Processing record 40 of set 2 | abnub\n",
      "Processing record 41 of set 2 | llanelli\n",
      "Processing record 42 of set 2 | lasa\n",
      "Processing record 43 of set 2 | kapaa\n",
      "Processing record 44 of set 2 | tasiilaq\n",
      "Processing record 45 of set 2 | half moon bay\n",
      "Processing record 46 of set 2 | nuqui\n",
      "Processing record 47 of set 2 | sitka\n",
      "Processing record 48 of set 2 | arraial do cabo\n",
      "Processing record 49 of set 2 | cape town\n",
      "Processing record 0 of set 3 | bealanana\n",
      "Processing record 1 of set 3 | brae\n",
      "Processing record 2 of set 3 | taolanaro\n",
      "City not found. skipping.\n",
      "Processing record 3 of set 3 | ushtobe\n",
      "Processing record 4 of set 3 | lavrentiya\n",
      "Processing record 5 of set 3 | riyadh\n",
      "Processing record 6 of set 3 | sentyabrskiy\n",
      "City not found. skipping.\n",
      "Processing record 7 of set 3 | kodiak\n",
      "Processing record 8 of set 3 | matara\n",
      "Processing record 9 of set 3 | manaus\n",
      "Processing record 10 of set 3 | mahaicony\n",
      "City not found. skipping.\n",
      "Processing record 11 of set 3 | omsukchan\n",
      "Processing record 12 of set 3 | tuatapere\n",
      "Processing record 13 of set 3 | hermanus\n",
      "Processing record 14 of set 3 | malanje\n",
      "Processing record 15 of set 3 | victoria\n",
      "Processing record 16 of set 3 | zlatoustovsk\n",
      "City not found. skipping.\n",
      "Processing record 17 of set 3 | souillac\n",
      "Processing record 18 of set 3 | ayan\n",
      "Processing record 19 of set 3 | airai\n",
      "Processing record 20 of set 3 | tanete\n",
      "Processing record 21 of set 3 | katsuura\n",
      "Processing record 22 of set 3 | vardo\n",
      "Processing record 23 of set 3 | logrono\n",
      "Processing record 24 of set 3 | mount gambier\n",
      "Processing record 25 of set 3 | auki\n",
      "Processing record 26 of set 3 | zhangjiakou\n",
      "Processing record 27 of set 3 | gweta\n",
      "Processing record 28 of set 3 | grindavik\n",
      "Processing record 29 of set 3 | bluff\n",
      "Processing record 30 of set 3 | san cristobal\n",
      "Processing record 31 of set 3 | gravdal\n",
      "Processing record 32 of set 3 | port alfred\n",
      "Processing record 33 of set 3 | sao joao da barra\n",
      "Processing record 34 of set 3 | esperance\n",
      "Processing record 35 of set 3 | harper\n",
      "Processing record 36 of set 3 | qaanaaq\n",
      "Processing record 37 of set 3 | srednekolymsk\n",
      "Processing record 38 of set 3 | constitucion\n",
      "Processing record 39 of set 3 | karacabey\n",
      "Processing record 40 of set 3 | kimbe\n",
      "Processing record 41 of set 3 | cherskiy\n",
      "Processing record 42 of set 3 | tonekabon\n",
      "Processing record 43 of set 3 | kavieng\n",
      "Processing record 44 of set 3 | avarua\n",
      "Processing record 45 of set 3 | sungairaya\n",
      "Processing record 46 of set 3 | benha\n",
      "City not found. skipping.\n",
      "Processing record 47 of set 3 | nosy varika\n",
      "Processing record 48 of set 3 | pangnirtung\n",
      "Processing record 49 of set 3 | macaubas\n",
      "Processing record 0 of set 4 | upington\n",
      "Processing record 1 of set 4 | hithadhoo\n",
      "Processing record 2 of set 4 | ramsgate\n",
      "Processing record 3 of set 4 | barrow\n",
      "Processing record 4 of set 4 | san rafael\n",
      "Processing record 5 of set 4 | novochernorechenskiy\n",
      "Processing record 6 of set 4 | chuy\n",
      "Processing record 7 of set 4 | puerto ayora\n",
      "Processing record 8 of set 4 | xushan\n",
      "Processing record 9 of set 4 | port elizabeth\n",
      "Processing record 10 of set 4 | onega\n",
      "Processing record 11 of set 4 | fukue\n",
      "Processing record 12 of set 4 | hare bay\n",
      "Processing record 13 of set 4 | geraldton\n",
      "Processing record 14 of set 4 | meulaboh\n",
      "Processing record 15 of set 4 | viedma\n",
      "Processing record 16 of set 4 | monaghan\n",
      "Processing record 17 of set 4 | esfarayen\n",
      "Processing record 18 of set 4 | bratsk\n",
      "Processing record 19 of set 4 | maceio\n",
      "Processing record 20 of set 4 | palabuhanratu\n",
      "City not found. skipping.\n",
      "Processing record 21 of set 4 | severo-kurilsk\n",
      "Processing record 22 of set 4 | inhambane\n",
      "Processing record 23 of set 4 | castro\n",
      "Processing record 24 of set 4 | itarema\n",
      "Processing record 25 of set 4 | betsiamites\n",
      "Processing record 26 of set 4 | dingle\n",
      "Processing record 27 of set 4 | klaksvik\n",
      "Processing record 28 of set 4 | richards bay\n",
      "Processing record 29 of set 4 | bay roberts\n",
      "Processing record 30 of set 4 | dudinka\n",
      "Processing record 31 of set 4 | cidreira\n",
      "Processing record 32 of set 4 | quelimane\n",
      "Processing record 33 of set 4 | lethem\n",
      "Processing record 34 of set 4 | mantua\n",
      "Processing record 35 of set 4 | nemuro\n",
      "Processing record 36 of set 4 | samusu\n",
      "City not found. skipping.\n"
     ]
    },
    {
     "name": "stdout",
     "output_type": "stream",
     "text": [
      "Processing record 37 of set 4 | la romana\n",
      "Processing record 38 of set 4 | acin\n",
      "City not found. skipping.\n",
      "Processing record 39 of set 4 | saleaula\n",
      "City not found. skipping.\n",
      "Processing record 40 of set 4 | kaitangata\n",
      "Processing record 41 of set 4 | kerki\n",
      "City not found. skipping.\n",
      "Processing record 42 of set 4 | kemi\n",
      "Processing record 43 of set 4 | alofi\n",
      "Processing record 44 of set 4 | ahipara\n",
      "Processing record 45 of set 4 | wajir\n",
      "Processing record 46 of set 4 | toliary\n",
      "City not found. skipping.\n",
      "Processing record 47 of set 4 | emilio carranza\n",
      "Processing record 48 of set 4 | kiunga\n",
      "Processing record 49 of set 4 | svetlogorsk\n",
      "Processing record 0 of set 5 | tanjong malim\n",
      "City not found. skipping.\n",
      "Processing record 1 of set 5 | erdenet\n",
      "Processing record 2 of set 5 | cheney\n",
      "Processing record 3 of set 5 | hovd\n",
      "Processing record 4 of set 5 | duzce\n",
      "Processing record 5 of set 5 | lompoc\n",
      "Processing record 6 of set 5 | weinan\n",
      "Processing record 7 of set 5 | manzhouli\n",
      "Processing record 8 of set 5 | miranda de ebro\n",
      "Processing record 9 of set 5 | arkadak\n",
      "Processing record 10 of set 5 | morro da fumaca\n",
      "Processing record 11 of set 5 | westport\n",
      "Processing record 12 of set 5 | thompson\n",
      "Processing record 13 of set 5 | taoudenni\n",
      "Processing record 14 of set 5 | saint-augustin\n",
      "Processing record 15 of set 5 | bukene\n",
      "Processing record 16 of set 5 | prince rupert\n",
      "Processing record 17 of set 5 | necochea\n",
      "Processing record 18 of set 5 | umzimvubu\n",
      "City not found. skipping.\n",
      "Processing record 19 of set 5 | mahebourg\n",
      "Processing record 20 of set 5 | moerai\n",
      "Processing record 21 of set 5 | nioro\n",
      "Processing record 22 of set 5 | cesvaine\n",
      "Processing record 23 of set 5 | beloha\n",
      "Processing record 24 of set 5 | deqing\n",
      "Processing record 25 of set 5 | arlit\n",
      "Processing record 26 of set 5 | rawson\n",
      "Processing record 27 of set 5 | uspenka\n",
      "Processing record 28 of set 5 | shakiso\n",
      "Processing record 29 of set 5 | lovozero\n",
      "Processing record 30 of set 5 | petauke\n",
      "Processing record 31 of set 5 | avera\n",
      "Processing record 32 of set 5 | nelson bay\n",
      "Processing record 33 of set 5 | hobyo\n",
      "Processing record 34 of set 5 | bairiki\n",
      "Processing record 35 of set 5 | belmonte\n",
      "Processing record 36 of set 5 | bereznik\n",
      "Processing record 37 of set 5 | trelew\n",
      "Processing record 38 of set 5 | arrifes\n",
      "Processing record 39 of set 5 | shellbrook\n",
      "Processing record 40 of set 5 | ewa beach\n",
      "Processing record 41 of set 5 | kamenskoye\n",
      "City not found. skipping.\n",
      "Processing record 42 of set 5 | hebi\n",
      "Processing record 43 of set 5 | fuyu\n",
      "Processing record 44 of set 5 | cuamba\n",
      "Processing record 45 of set 5 | lar gerd\n",
      "City not found. skipping.\n",
      "Processing record 46 of set 5 | bethel\n",
      "Processing record 47 of set 5 | vila franca do campo\n",
      "Processing record 48 of set 5 | gat\n",
      "Processing record 49 of set 5 | faya\n",
      "Processing record 0 of set 6 | urdzhar\n",
      "City not found. skipping.\n",
      "Processing record 1 of set 6 | los llanos de aridane\n",
      "Processing record 2 of set 6 | cradock\n",
      "Processing record 3 of set 6 | waingapu\n",
      "Processing record 4 of set 6 | privokzalnyy\n",
      "City not found. skipping.\n",
      "Processing record 5 of set 6 | tafalla\n",
      "Processing record 6 of set 6 | abalak\n",
      "Processing record 7 of set 6 | goose creek\n",
      "Processing record 8 of set 6 | mys shmidta\n",
      "City not found. skipping.\n",
      "Processing record 9 of set 6 | tolga\n",
      "Processing record 10 of set 6 | humberto de campos\n",
      "Processing record 11 of set 6 | berberati\n",
      "Processing record 12 of set 6 | altay\n",
      "Processing record 13 of set 6 | oum hadjer\n",
      "Processing record 14 of set 6 | luganville\n",
      "Processing record 15 of set 6 | east london\n",
      "Processing record 16 of set 6 | paradwip\n",
      "City not found. skipping.\n",
      "Processing record 17 of set 6 | fairbanks\n",
      "Processing record 18 of set 6 | nuoro\n",
      "Processing record 19 of set 6 | grand gaube\n",
      "Processing record 20 of set 6 | buchanan\n",
      "Processing record 21 of set 6 | kegayli\n",
      "City not found. skipping.\n",
      "Processing record 22 of set 6 | kita\n",
      "Processing record 23 of set 6 | kharp\n",
      "Processing record 24 of set 6 | formoso do araguaia\n",
      "City not found. skipping.\n",
      "Processing record 25 of set 6 | alice springs\n",
      "Processing record 26 of set 6 | saldanha\n",
      "Processing record 27 of set 6 | impfondo\n",
      "Processing record 28 of set 6 | ostrovnoy\n",
      "Processing record 29 of set 6 | fare\n",
      "Processing record 30 of set 6 | tarko-sale\n",
      "Processing record 31 of set 6 | kavaratti\n",
      "Processing record 32 of set 6 | barentsburg\n",
      "City not found. skipping.\n",
      "Processing record 33 of set 6 | koslan\n",
      "Processing record 34 of set 6 | fereydun kenar\n",
      "Processing record 35 of set 6 | vila velha\n",
      "Processing record 36 of set 6 | duncan\n",
      "Processing record 37 of set 6 | pak phanang\n",
      "Processing record 38 of set 6 | yaya\n",
      "Processing record 39 of set 6 | vitim\n",
      "Processing record 40 of set 6 | port-gentil\n",
      "Processing record 41 of set 6 | hasaki\n",
      "Processing record 42 of set 6 | vostok\n",
      "Processing record 43 of set 6 | port blair\n",
      "Processing record 44 of set 6 | saint george\n",
      "Processing record 45 of set 6 | nome\n",
      "Processing record 46 of set 6 | munak\n",
      "Processing record 47 of set 6 | burnie\n",
      "Processing record 48 of set 6 | manokwari\n",
      "Processing record 49 of set 6 | ucluelet\n",
      "Processing record 0 of set 7 | eldikan\n",
      "City not found. skipping.\n",
      "Processing record 1 of set 7 | balabac\n",
      "Processing record 2 of set 7 | dicabisagan\n",
      "Processing record 3 of set 7 | ancud\n",
      "Processing record 4 of set 7 | soe\n",
      "Processing record 5 of set 7 | vila\n",
      "Processing record 6 of set 7 | sinnamary\n",
      "Processing record 7 of set 7 | kieta\n",
      "Processing record 8 of set 7 | gizo\n",
      "Processing record 9 of set 7 | kabompo\n",
      "Processing record 10 of set 7 | ingham\n",
      "Processing record 11 of set 7 | dawson creek\n",
      "Processing record 12 of set 7 | naze\n",
      "Processing record 13 of set 7 | imbituba\n",
      "Processing record 14 of set 7 | ferkessedougou\n",
      "Processing record 15 of set 7 | kenai\n",
      "Processing record 16 of set 7 | sal rei\n",
      "Processing record 17 of set 7 | cayenne\n",
      "Processing record 18 of set 7 | ellisras\n",
      "Processing record 19 of set 7 | cornwall\n",
      "Processing record 20 of set 7 | cartagena\n",
      "Processing record 21 of set 7 | tsihombe\n",
      "City not found. skipping.\n",
      "Processing record 22 of set 7 | takoradi\n",
      "Processing record 23 of set 7 | hami\n",
      "Processing record 24 of set 7 | dikson\n",
      "Processing record 25 of set 7 | abha\n",
      "Processing record 26 of set 7 | chardara\n",
      "Processing record 27 of set 7 | paita\n",
      "Processing record 28 of set 7 | seoul\n",
      "Processing record 29 of set 7 | zhanakorgan\n",
      "Processing record 30 of set 7 | catamarca\n",
      "Processing record 31 of set 7 | pevek\n",
      "Processing record 32 of set 7 | bereda\n",
      "Processing record 33 of set 7 | talara\n",
      "Processing record 34 of set 7 | matay\n",
      "Processing record 35 of set 7 | codrington\n",
      "Processing record 36 of set 7 | ribeira grande\n",
      "Processing record 37 of set 7 | lumut\n",
      "Processing record 38 of set 7 | mormugao\n",
      "Processing record 39 of set 7 | ust-kamchatsk\n",
      "City not found. skipping.\n",
      "Processing record 40 of set 7 | shelburne\n",
      "Processing record 41 of set 7 | lusaka\n",
      "Processing record 42 of set 7 | bathsheba\n",
      "Processing record 43 of set 7 | hamilton\n",
      "Processing record 44 of set 7 | aklavik\n",
      "Processing record 45 of set 7 | porto novo\n",
      "Processing record 46 of set 7 | mehamn\n",
      "Processing record 47 of set 7 | yabelo\n",
      "Processing record 48 of set 7 | vila do maio\n",
      "Processing record 49 of set 7 | wewak\n",
      "Processing record 0 of set 8 | vilhena\n",
      "Processing record 1 of set 8 | starotimoshkino\n",
      "Processing record 2 of set 8 | touros\n",
      "Processing record 3 of set 8 | nuuk\n",
      "Processing record 4 of set 8 | broome\n",
      "Processing record 5 of set 8 | prokopyevsk\n",
      "Processing record 6 of set 8 | padang\n",
      "Processing record 7 of set 8 | salamiyah\n",
      "Processing record 8 of set 8 | eustis\n",
      "Processing record 9 of set 8 | isangel\n",
      "Processing record 10 of set 8 | ergani\n",
      "Processing record 11 of set 8 | lagoa\n",
      "Processing record 12 of set 8 | tapes\n",
      "Processing record 13 of set 8 | jalingo\n",
      "Processing record 14 of set 8 | preeceville\n",
      "Processing record 15 of set 8 | mackay\n",
      "Processing record 16 of set 8 | manggar\n",
      "Processing record 17 of set 8 | barbar\n",
      "City not found. skipping.\n",
      "Processing record 18 of set 8 | berlevag\n",
      "Processing record 19 of set 8 | berbera\n",
      "Processing record 20 of set 8 | chongqing\n",
      "Processing record 21 of set 8 | malwan\n",
      "City not found. skipping.\n",
      "Processing record 22 of set 8 | athabasca\n",
      "Processing record 23 of set 8 | tchaourou\n",
      "Processing record 24 of set 8 | bud\n",
      "Processing record 25 of set 8 | walvis bay\n",
      "Processing record 26 of set 8 | port pirie\n"
     ]
    },
    {
     "name": "stdout",
     "output_type": "stream",
     "text": [
      "Processing record 27 of set 8 | shingu\n",
      "Processing record 28 of set 8 | phuntsholing\n",
      "Processing record 29 of set 8 | marsa matruh\n",
      "Processing record 30 of set 8 | ciawi\n",
      "Processing record 31 of set 8 | jumla\n",
      "Processing record 32 of set 8 | bargal\n",
      "City not found. skipping.\n",
      "Processing record 33 of set 8 | doctor pedro p. pena\n",
      "City not found. skipping.\n",
      "Processing record 34 of set 8 | hokitika\n",
      "Processing record 35 of set 8 | acatlan\n",
      "Processing record 36 of set 8 | veraval\n",
      "Processing record 37 of set 8 | raudeberg\n",
      "Processing record 38 of set 8 | marcona\n",
      "City not found. skipping.\n",
      "Processing record 39 of set 8 | la mira\n",
      "Processing record 40 of set 8 | chapais\n",
      "Processing record 41 of set 8 | khipro\n",
      "Processing record 42 of set 8 | kinablangan\n",
      "Processing record 43 of set 8 | sorong\n",
      "Processing record 44 of set 8 | birjand\n",
      "Processing record 45 of set 8 | iskateley\n",
      "Processing record 46 of set 8 | baracoa\n",
      "Processing record 47 of set 8 | araioses\n",
      "Processing record 48 of set 8 | gladstone\n",
      "Processing record 49 of set 8 | port macquarie\n",
      "Processing record 0 of set 9 | zhongshu\n",
      "Processing record 1 of set 9 | pisco\n",
      "Processing record 2 of set 9 | zaysan\n",
      "Processing record 3 of set 9 | aktash\n",
      "Processing record 4 of set 9 | moussoro\n",
      "Processing record 5 of set 9 | miraflores\n",
      "Processing record 6 of set 9 | brooks\n",
      "Processing record 7 of set 9 | shaoguan\n",
      "Processing record 8 of set 9 | mbaiki\n",
      "Processing record 9 of set 9 | san quintin\n",
      "Processing record 10 of set 9 | bilibino\n",
      "Processing record 11 of set 9 | keningau\n",
      "Processing record 12 of set 9 | ijaki\n",
      "City not found. skipping.\n",
      "Processing record 13 of set 9 | deputatskiy\n",
      "Processing record 14 of set 9 | hay river\n",
      "Processing record 15 of set 9 | salalah\n",
      "Processing record 16 of set 9 | leh\n",
      "Processing record 17 of set 9 | fria\n",
      "Processing record 18 of set 9 | samalaeulu\n",
      "City not found. skipping.\n",
      "Processing record 19 of set 9 | bar-le-duc\n",
      "Processing record 20 of set 9 | phalaborwa\n",
      "Processing record 21 of set 9 | moroto\n",
      "Processing record 22 of set 9 | dire dawa\n",
      "Processing record 23 of set 9 | astana\n",
      "Processing record 24 of set 9 | pangkalanbuun\n",
      "Processing record 25 of set 9 | palu\n",
      "Processing record 26 of set 9 | lebu\n",
      "Processing record 27 of set 9 | tocopilla\n",
      "Processing record 28 of set 9 | belyy yar\n",
      "Processing record 29 of set 9 | kattivakkam\n",
      "Processing record 30 of set 9 | kolokani\n",
      "Processing record 31 of set 9 | saint-georges\n",
      "Processing record 32 of set 9 | mitsamiouli\n",
      "Processing record 33 of set 9 | ulaangom\n",
      "Processing record 34 of set 9 | troitskaya\n",
      "Processing record 35 of set 9 | stornoway\n",
      "Processing record 36 of set 9 | clyde river\n",
      "Processing record 37 of set 9 | bom jesus\n",
      "Processing record 38 of set 9 | vasylivka\n",
      "Processing record 39 of set 9 | assiniboia\n",
      "Processing record 40 of set 9 | kununurra\n",
      "Processing record 41 of set 9 | khani\n",
      "Processing record 42 of set 9 | husavik\n",
      "Processing record 43 of set 9 | karratha\n",
      "Processing record 44 of set 9 | vao\n",
      "Processing record 45 of set 9 | kuala sungai baru\n",
      "Processing record 46 of set 9 | bahia honda\n",
      "Processing record 47 of set 9 | portland\n",
      "Processing record 48 of set 9 | nakusp\n",
      "Processing record 49 of set 9 | bull savanna\n",
      "Processing record 0 of set 10 | kuzino\n",
      "Processing record 1 of set 10 | elk city\n",
      "Processing record 2 of set 10 | contamana\n",
      "Processing record 3 of set 10 | cam ranh\n",
      "Processing record 4 of set 10 | ondjiva\n",
      "Processing record 5 of set 10 | karistos\n",
      "City not found. skipping.\n",
      "Processing record 6 of set 10 | makakilo city\n",
      "Processing record 7 of set 10 | tautira\n",
      "Processing record 8 of set 10 | narsaq\n",
      "Processing record 9 of set 10 | tabas\n",
      "Processing record 10 of set 10 | ust-kuyga\n",
      "Processing record 11 of set 10 | norsup\n",
      "Processing record 12 of set 10 | almaznyy\n",
      "Processing record 13 of set 10 | vestmanna\n",
      "Processing record 14 of set 10 | lumeje\n",
      "Processing record 15 of set 10 | teya\n",
      "Processing record 16 of set 10 | vaxjo\n",
      "Processing record 17 of set 10 | waipawa\n",
      "Processing record 18 of set 10 | erenhot\n",
      "Processing record 19 of set 10 | sierra vista\n",
      "Processing record 20 of set 10 | coihaique\n",
      "Processing record 21 of set 10 | yialos\n",
      "City not found. skipping.\n",
      "Processing record 22 of set 10 | karpenision\n",
      "City not found. skipping.\n",
      "Processing record 23 of set 10 | tuktoyaktuk\n",
      "Processing record 24 of set 10 | copiapo\n",
      "Processing record 25 of set 10 | arica\n",
      "Processing record 26 of set 10 | meitingen\n",
      "Processing record 27 of set 10 | fort nelson\n",
      "Processing record 28 of set 10 | mindelo\n",
      "Processing record 29 of set 10 | sabang\n",
      "Processing record 30 of set 10 | sanary-sur-mer\n",
      "Processing record 31 of set 10 | santa maria\n",
      "Processing record 32 of set 10 | inuvik\n",
      "Processing record 33 of set 10 | mahibadhoo\n",
      "Processing record 34 of set 10 | otane\n",
      "Processing record 35 of set 10 | taicheng\n",
      "Processing record 36 of set 10 | nanortalik\n",
      "Processing record 37 of set 10 | abonnema\n",
      "Processing record 38 of set 10 | plettenberg bay\n",
      "Processing record 39 of set 10 | chowchilla\n",
      "Processing record 40 of set 10 | kot samaba\n",
      "Processing record 41 of set 10 | san policarpo\n",
      "Processing record 42 of set 10 | belaya gora\n",
      "Processing record 43 of set 10 | faanui\n",
      "Processing record 44 of set 10 | palmer\n",
      "Processing record 45 of set 10 | leningradskiy\n",
      "Processing record 46 of set 10 | tumannyy\n",
      "City not found. skipping.\n",
      "Processing record 47 of set 10 | paso de carrasco\n",
      "Processing record 48 of set 10 | garoua boulai\n",
      "Processing record 49 of set 10 | jutai\n",
      "Processing record 0 of set 11 | novaya zaimka\n",
      "Processing record 1 of set 11 | kabelvag\n",
      "Processing record 2 of set 11 | maniitsoq\n",
      "Processing record 3 of set 11 | hudson bay\n",
      "Processing record 4 of set 11 | mandalay\n",
      "Processing record 5 of set 11 | altamira\n",
      "Processing record 6 of set 11 | xuddur\n",
      "Processing record 7 of set 11 | sao filipe\n",
      "Processing record 8 of set 11 | baruun-urt\n",
      "Processing record 9 of set 11 | dzhusaly\n",
      "City not found. skipping.\n",
      "Processing record 10 of set 11 | dwarka\n",
      "Processing record 11 of set 11 | maningrida\n",
      "Processing record 12 of set 11 | ostroleka\n",
      "Processing record 13 of set 11 | kerchevskiy\n",
      "Processing record 14 of set 11 | linxia\n",
      "Processing record 15 of set 11 | cockburn town\n",
      "Processing record 16 of set 11 | launceston\n",
      "Processing record 17 of set 11 | rumonge\n",
      "Processing record 18 of set 11 | kamenka\n",
      "Processing record 19 of set 11 | namibe\n",
      "Processing record 20 of set 11 | tilichiki\n",
      "Processing record 21 of set 11 | batangafo\n",
      "Processing record 22 of set 11 | roald\n",
      "Processing record 23 of set 11 | otautau\n",
      "Processing record 24 of set 11 | margate\n",
      "Processing record 25 of set 11 | limulunga\n",
      "Processing record 26 of set 11 | shirokiy\n",
      "Processing record 27 of set 11 | filadelfia\n",
      "Processing record 28 of set 11 | tromso\n",
      "Processing record 29 of set 11 | poli\n",
      "Processing record 30 of set 11 | pundaguitan\n",
      "Processing record 31 of set 11 | cacule\n",
      "Processing record 32 of set 11 | coquimbo\n",
      "Processing record 33 of set 11 | tommot\n",
      "Processing record 34 of set 11 | kapit\n",
      "Processing record 35 of set 11 | goya\n",
      "Processing record 36 of set 11 | antofagasta\n",
      "Processing record 37 of set 11 | mahesana\n",
      "Processing record 38 of set 11 | ondorhaan\n",
      "City not found. skipping.\n",
      "Processing record 39 of set 11 | batemans bay\n",
      "Processing record 40 of set 11 | lithakia\n",
      "Processing record 41 of set 11 | dryden\n",
      "Processing record 42 of set 11 | businga\n",
      "Processing record 43 of set 11 | mana\n",
      "Processing record 44 of set 11 | russell\n",
      "Processing record 45 of set 11 | barcelos\n",
      "Processing record 46 of set 11 | eureka\n",
      "Processing record 47 of set 11 | tura\n",
      "Processing record 48 of set 11 | havre-saint-pierre\n",
      "Processing record 49 of set 11 | jiuquan\n",
      "Processing record 0 of set 12 | louisbourg\n",
      "City not found. skipping.\n",
      "Processing record 1 of set 12 | ossora\n",
      "Processing record 2 of set 12 | bordighera\n",
      "Processing record 3 of set 12 | flagstaff\n",
      "Processing record 4 of set 12 | urengoy\n",
      "Processing record 5 of set 12 | caravelas\n",
      "Processing record 6 of set 12 | honiara\n",
      "Processing record 7 of set 12 | arandis\n",
      "Processing record 8 of set 12 | mandalgovi\n",
      "Processing record 9 of set 12 | shush\n",
      "Processing record 10 of set 12 | mountain home\n",
      "Processing record 11 of set 12 | atbasar\n",
      "Processing record 12 of set 12 | nouadhibou\n",
      "Processing record 13 of set 12 | olafsvik\n",
      "Processing record 14 of set 12 | lorengau\n",
      "Processing record 15 of set 12 | araouane\n"
     ]
    },
    {
     "name": "stdout",
     "output_type": "stream",
     "text": [
      "Processing record 16 of set 12 | yerbogachen\n",
      "Processing record 17 of set 12 | karasjok\n",
      "Processing record 18 of set 12 | marawi\n",
      "Processing record 19 of set 12 | christchurch\n",
      "Processing record 20 of set 12 | taree\n",
      "Processing record 21 of set 12 | aberdeen\n",
      "Processing record 22 of set 12 | haines junction\n",
      "Processing record 23 of set 12 | sambava\n",
      "Processing record 24 of set 12 | bhimunipatnam\n",
      "Processing record 25 of set 12 | teruel\n",
      "Processing record 26 of set 12 | sola\n",
      "Processing record 27 of set 12 | abu samrah\n",
      "Processing record 28 of set 12 | chiang kham\n",
      "Processing record 29 of set 12 | pahrump\n",
      "Processing record 30 of set 12 | khandyga\n",
      "Processing record 31 of set 12 | sundargarh\n",
      "Processing record 32 of set 12 | rognan\n",
      "Processing record 33 of set 12 | safita\n",
      "Processing record 34 of set 12 | lata\n",
      "Processing record 35 of set 12 | alyangula\n",
      "Processing record 36 of set 12 | ballina\n",
      "Processing record 37 of set 12 | tapaua\n",
      "City not found. skipping.\n",
      "Processing record 38 of set 12 | kasangulu\n",
      "Processing record 39 of set 12 | ambilobe\n",
      "Processing record 40 of set 12 | hualmay\n",
      "Processing record 41 of set 12 | rovaniemi\n",
      "Processing record 42 of set 12 | bolungarvik\n",
      "City not found. skipping.\n",
      "Processing record 43 of set 12 | murgab\n",
      "Processing record 44 of set 12 | djibo\n",
      "Processing record 45 of set 12 | saquena\n",
      "Processing record 46 of set 12 | zambezi\n",
      "Processing record 47 of set 12 | grants\n",
      "Processing record 48 of set 12 | livadiya\n",
      "Processing record 49 of set 12 | jiddah\n",
      "City not found. skipping.\n",
      "Processing record 0 of set 13 | verkhoyansk\n",
      "Processing record 1 of set 13 | luang prabang\n",
      "Processing record 2 of set 13 | dargaville\n",
      "Processing record 3 of set 13 | moravsky beroun\n",
      "Processing record 4 of set 13 | oudtshoorn\n",
      "Processing record 5 of set 13 | chagda\n",
      "City not found. skipping.\n",
      "Processing record 6 of set 13 | ambunti\n",
      "Processing record 7 of set 13 | bayshore gardens\n",
      "Processing record 8 of set 13 | tiksi\n",
      "Processing record 9 of set 13 | jasdan\n",
      "Processing record 10 of set 13 | havre\n",
      "Processing record 11 of set 13 | sitangkai\n",
      "Processing record 12 of set 13 | amposta\n",
      "Processing record 13 of set 13 | korla\n",
      "Processing record 14 of set 13 | urumqi\n",
      "Processing record 15 of set 13 | ihosy\n",
      "Processing record 16 of set 13 | virginia beach\n",
      "Processing record 17 of set 13 | maumere\n",
      "Processing record 18 of set 13 | longlac\n",
      "City not found. skipping.\n",
      "Processing record 19 of set 13 | pangoa\n",
      "----------Done Woohoo!---------\n"
     ]
    }
   ],
   "source": [
    "# Counter to go through data\n",
    "record = 0\n",
    "sets = 1\n",
    "\n",
    "\n",
    "# Define empty lists to store values.\n",
    "# Note: Could also use dataframes vs. containers\n",
    "cloudiness = []\n",
    "country = []\n",
    "date = []\n",
    "temp = []\n",
    "temp_max = []\n",
    "humidity = []\n",
    "lat = []\n",
    "lon = []\n",
    "wind_speed = []\n",
    "city_name = []\n",
    "\n",
    "# For loop through cities to make API calls using city as query\n",
    "# Note: This line of code also works even though fields are out of order. Documenting here for future reference.\n",
    "    #query_url = url + \"&appid=\" + weather_api_key + \"&q=\" + city + \"&units=Imperial\"\n",
    "\n",
    "# Loop through city data and retrieve\n",
    "print(\"----- Start Data Retrieval -----\")\n",
    "\n",
    "\n",
    "for city in cities:\n",
    "    city=city\n",
    "    \n",
    "    query_url = url +  \"&q=\" + city + \"&appid=\" + weather_api_key + \"&units=Imperial\"\n",
    "    response = requests.get(query_url).json()\n",
    "\n",
    "# Pulls data and puts it into above containers. Missing data is skipped by exception below. \n",
    "    try:\n",
    "        print(f\"Processing record {record} of set {sets} | {city}\")\n",
    "        \n",
    "        cloudiness.append(response[\"clouds\"][\"all\"])\n",
    "        country.append(response[\"sys\"][\"country\"])\n",
    "        date.append(response[\"dt\"])\n",
    "        temp.append(response[\"main\"][\"temp\"])\n",
    "        temp_max.append(response[\"main\"][\"temp_max\"])\n",
    "        humidity.append(response[\"main\"][\"humidity\"])\n",
    "        lat.append(response[\"coord\"][\"lat\"])  \n",
    "        lon.append(response[\"coord\"][\"lon\"])\n",
    "        wind_speed.append(response[\"wind\"][\"speed\"])\n",
    "        city_name.append(response[\"name\"])       \n",
    "\n",
    "    except (KeyError):\n",
    "        print(\"City not found. skipping.\")\n",
    "\n",
    "# Note: Loops through data and when it hits record #50, it resets the counter.\n",
    "# Note: Code and count idea attributed to a classmate.\n",
    "    record = record + 1\n",
    "    if record == 50:\n",
    "        record = 0\n",
    "        sets = sets + 1 \n",
    "        \n",
    "        \n",
    "print(\"----------Done Woohoo!---------\")"
   ]
  },
  {
   "cell_type": "markdown",
   "metadata": {},
   "source": [
    "### Convert Raw Data to DataFrame\n",
    "* Export the city data into a .csv.\n",
    "* Display the DataFrame"
   ]
  },
  {
   "cell_type": "code",
   "execution_count": 12,
   "metadata": {},
   "outputs": [
    {
     "data": {
      "text/html": [
       "<div>\n",
       "<style scoped>\n",
       "    .dataframe tbody tr th:only-of-type {\n",
       "        vertical-align: middle;\n",
       "    }\n",
       "\n",
       "    .dataframe tbody tr th {\n",
       "        vertical-align: top;\n",
       "    }\n",
       "\n",
       "    .dataframe thead th {\n",
       "        text-align: right;\n",
       "    }\n",
       "</style>\n",
       "<table border=\"1\" class=\"dataframe\">\n",
       "  <thead>\n",
       "    <tr style=\"text-align: right;\">\n",
       "      <th></th>\n",
       "      <th>city</th>\n",
       "      <th>country</th>\n",
       "      <th>lat</th>\n",
       "      <th>lon</th>\n",
       "      <th>temp</th>\n",
       "      <th>temp_max</th>\n",
       "      <th>humidity</th>\n",
       "      <th>wind_speed</th>\n",
       "      <th>cloudiness</th>\n",
       "      <th>date</th>\n",
       "    </tr>\n",
       "  </thead>\n",
       "  <tbody>\n",
       "    <tr>\n",
       "      <th>0</th>\n",
       "      <td>Mar del Plata</td>\n",
       "      <td>AR</td>\n",
       "      <td>-38.0023</td>\n",
       "      <td>-57.5575</td>\n",
       "      <td>89.35</td>\n",
       "      <td>89.60</td>\n",
       "      <td>40</td>\n",
       "      <td>11.50</td>\n",
       "      <td>20</td>\n",
       "      <td>1611505055</td>\n",
       "    </tr>\n",
       "    <tr>\n",
       "      <th>1</th>\n",
       "      <td>Kamaishi</td>\n",
       "      <td>JP</td>\n",
       "      <td>39.2667</td>\n",
       "      <td>141.8833</td>\n",
       "      <td>34.66</td>\n",
       "      <td>34.66</td>\n",
       "      <td>85</td>\n",
       "      <td>4.07</td>\n",
       "      <td>100</td>\n",
       "      <td>1611505055</td>\n",
       "    </tr>\n",
       "    <tr>\n",
       "      <th>2</th>\n",
       "      <td>Hobart</td>\n",
       "      <td>AU</td>\n",
       "      <td>-42.8794</td>\n",
       "      <td>147.3294</td>\n",
       "      <td>63.95</td>\n",
       "      <td>68.00</td>\n",
       "      <td>49</td>\n",
       "      <td>6.91</td>\n",
       "      <td>87</td>\n",
       "      <td>1611505055</td>\n",
       "    </tr>\n",
       "    <tr>\n",
       "      <th>3</th>\n",
       "      <td>Lopatino</td>\n",
       "      <td>RU</td>\n",
       "      <td>52.6195</td>\n",
       "      <td>45.8118</td>\n",
       "      <td>33.10</td>\n",
       "      <td>33.10</td>\n",
       "      <td>94</td>\n",
       "      <td>11.99</td>\n",
       "      <td>100</td>\n",
       "      <td>1611505055</td>\n",
       "    </tr>\n",
       "    <tr>\n",
       "      <th>4</th>\n",
       "      <td>Lüderitz</td>\n",
       "      <td>NA</td>\n",
       "      <td>-26.6481</td>\n",
       "      <td>15.1594</td>\n",
       "      <td>71.37</td>\n",
       "      <td>71.37</td>\n",
       "      <td>53</td>\n",
       "      <td>29.97</td>\n",
       "      <td>77</td>\n",
       "      <td>1611505055</td>\n",
       "    </tr>\n",
       "    <tr>\n",
       "      <th>5</th>\n",
       "      <td>Nikolskoye</td>\n",
       "      <td>RU</td>\n",
       "      <td>59.7035</td>\n",
       "      <td>30.7861</td>\n",
       "      <td>35.20</td>\n",
       "      <td>35.60</td>\n",
       "      <td>93</td>\n",
       "      <td>8.95</td>\n",
       "      <td>90</td>\n",
       "      <td>1611505056</td>\n",
       "    </tr>\n",
       "    <tr>\n",
       "      <th>6</th>\n",
       "      <td>Punta Arenas</td>\n",
       "      <td>CL</td>\n",
       "      <td>-53.1500</td>\n",
       "      <td>-70.9167</td>\n",
       "      <td>62.60</td>\n",
       "      <td>62.60</td>\n",
       "      <td>36</td>\n",
       "      <td>14.97</td>\n",
       "      <td>0</td>\n",
       "      <td>1611505056</td>\n",
       "    </tr>\n",
       "    <tr>\n",
       "      <th>7</th>\n",
       "      <td>Quatre Cocos</td>\n",
       "      <td>MU</td>\n",
       "      <td>-20.2078</td>\n",
       "      <td>57.7625</td>\n",
       "      <td>78.22</td>\n",
       "      <td>80.60</td>\n",
       "      <td>78</td>\n",
       "      <td>3.44</td>\n",
       "      <td>40</td>\n",
       "      <td>1611505056</td>\n",
       "    </tr>\n",
       "    <tr>\n",
       "      <th>8</th>\n",
       "      <td>Guozhen</td>\n",
       "      <td>CN</td>\n",
       "      <td>34.3659</td>\n",
       "      <td>107.3590</td>\n",
       "      <td>37.27</td>\n",
       "      <td>37.27</td>\n",
       "      <td>77</td>\n",
       "      <td>3.40</td>\n",
       "      <td>100</td>\n",
       "      <td>1611505056</td>\n",
       "    </tr>\n",
       "    <tr>\n",
       "      <th>9</th>\n",
       "      <td>Bandarbeyla</td>\n",
       "      <td>SO</td>\n",
       "      <td>9.4942</td>\n",
       "      <td>50.8122</td>\n",
       "      <td>73.87</td>\n",
       "      <td>73.87</td>\n",
       "      <td>71</td>\n",
       "      <td>19.51</td>\n",
       "      <td>25</td>\n",
       "      <td>1611505056</td>\n",
       "    </tr>\n",
       "  </tbody>\n",
       "</table>\n",
       "</div>"
      ],
      "text/plain": [
       "            city country      lat       lon   temp  temp_max  humidity  \\\n",
       "0  Mar del Plata      AR -38.0023  -57.5575  89.35     89.60        40   \n",
       "1       Kamaishi      JP  39.2667  141.8833  34.66     34.66        85   \n",
       "2         Hobart      AU -42.8794  147.3294  63.95     68.00        49   \n",
       "3       Lopatino      RU  52.6195   45.8118  33.10     33.10        94   \n",
       "4       Lüderitz      NA -26.6481   15.1594  71.37     71.37        53   \n",
       "5     Nikolskoye      RU  59.7035   30.7861  35.20     35.60        93   \n",
       "6   Punta Arenas      CL -53.1500  -70.9167  62.60     62.60        36   \n",
       "7   Quatre Cocos      MU -20.2078   57.7625  78.22     80.60        78   \n",
       "8        Guozhen      CN  34.3659  107.3590  37.27     37.27        77   \n",
       "9    Bandarbeyla      SO   9.4942   50.8122  73.87     73.87        71   \n",
       "\n",
       "   wind_speed  cloudiness        date  \n",
       "0       11.50          20  1611505055  \n",
       "1        4.07         100  1611505055  \n",
       "2        6.91          87  1611505055  \n",
       "3       11.99         100  1611505055  \n",
       "4       29.97          77  1611505055  \n",
       "5        8.95          90  1611505056  \n",
       "6       14.97           0  1611505056  \n",
       "7        3.44          40  1611505056  \n",
       "8        3.40         100  1611505056  \n",
       "9       19.51          25  1611505056  "
      ]
     },
     "execution_count": 12,
     "metadata": {},
     "output_type": "execute_result"
    }
   ],
   "source": [
    "# Note: Create Dataframe list of dictionaries\n",
    "\n",
    "city_df = pd.DataFrame({\n",
    "    \"city\": city_name,\n",
    "    \"country\": country,\n",
    "    \"lat\": lat,\n",
    "    \"lon\": lon,\n",
    "    \"temp\": temp,\n",
    "    \"temp_max\": temp_max,\n",
    "    \"humidity\": humidity,\n",
    "    \"wind_speed\": wind_speed,\n",
    "    \"cloudiness\": cloudiness,\n",
    "    \"date\": date\n",
    "})\n",
    "\n",
    "city_df.head(10)\n"
   ]
  },
  {
   "cell_type": "code",
   "execution_count": 13,
   "metadata": {},
   "outputs": [
    {
     "data": {
      "text/plain": [
       "566"
      ]
     },
     "execution_count": 13,
     "metadata": {},
     "output_type": "execute_result"
    }
   ],
   "source": [
    "# Show Record Count\n",
    "# Note: Checking the data, just curious\n",
    "recordcount = len(city_df)\n",
    "recordcount"
   ]
  },
  {
   "cell_type": "code",
   "execution_count": 14,
   "metadata": {},
   "outputs": [],
   "source": [
    "#Export to CSV\n",
    "city_df.to_csv(\"../output_data/weather_globalcities.csv\")\n"
   ]
  },
  {
   "cell_type": "markdown",
   "metadata": {},
   "source": [
    "## Inspect the data and remove the cities where the humidity > 100%.\n",
    "----\n",
    "Skip this step if there are no cities that have humidity > 100%. "
   ]
  },
  {
   "cell_type": "code",
   "execution_count": 15,
   "metadata": {},
   "outputs": [
    {
     "data": {
      "text/html": [
       "<div>\n",
       "<style scoped>\n",
       "    .dataframe tbody tr th:only-of-type {\n",
       "        vertical-align: middle;\n",
       "    }\n",
       "\n",
       "    .dataframe tbody tr th {\n",
       "        vertical-align: top;\n",
       "    }\n",
       "\n",
       "    .dataframe thead th {\n",
       "        text-align: right;\n",
       "    }\n",
       "</style>\n",
       "<table border=\"1\" class=\"dataframe\">\n",
       "  <thead>\n",
       "    <tr style=\"text-align: right;\">\n",
       "      <th></th>\n",
       "      <th>city</th>\n",
       "      <th>country</th>\n",
       "      <th>lat</th>\n",
       "      <th>lon</th>\n",
       "      <th>temp</th>\n",
       "      <th>temp_max</th>\n",
       "      <th>humidity</th>\n",
       "      <th>wind_speed</th>\n",
       "      <th>cloudiness</th>\n",
       "      <th>date</th>\n",
       "    </tr>\n",
       "  </thead>\n",
       "  <tbody>\n",
       "  </tbody>\n",
       "</table>\n",
       "</div>"
      ],
      "text/plain": [
       "Empty DataFrame\n",
       "Columns: [city, country, lat, lon, temp, temp_max, humidity, wind_speed, cloudiness, date]\n",
       "Index: []"
      ]
     },
     "execution_count": 15,
     "metadata": {},
     "output_type": "execute_result"
    }
   ],
   "source": [
    "# Create dataframe to identify cities with humidty > 100.\n",
    "# If identified, use city_filtered_df going forward. If not, then use city_df.\n",
    "\n",
    "city_filtered_df = city_df[city_df[\"humidity\"] > 100] \n",
    "  \n",
    "# Print the new dataframe \n",
    "city_filtered_df.head(5) \n"
   ]
  },
  {
   "cell_type": "markdown",
   "metadata": {},
   "source": [
    "## Plotting the Data\n",
    "* Use proper labeling of the plots using plot titles (including date of analysis) and axes labels.\n",
    "* Save the plotted figures as .pngs."
   ]
  },
  {
   "cell_type": "markdown",
   "metadata": {},
   "source": [
    "## Latitude vs. Temperature Plot"
   ]
  },
  {
   "cell_type": "code",
   "execution_count": 16,
   "metadata": {
    "scrolled": true
   },
   "outputs": [
    {
     "data": {
      "image/png": "[encoded data removed]",
      "text/plain": [
       "<Figure size 432x288 with 1 Axes>"
      ]
     },
     "metadata": {
      "needs_background": "light"
     },
     "output_type": "display_data"
    }
   ],
   "source": [
    "# Converting Date for title of plot\n",
    "# Note: Dynamic field in chart title - borrowed code from H.Kaur as it is a cool addition to graphs.\n",
    "timestamp = city_df[\"date\"][0]\n",
    "converted_timestamp = datetime.utcfromtimestamp(timestamp)\n",
    "shortened_timestamp = datetime.date(converted_timestamp)\n",
    "\n",
    "# Build a scatter plot for each data type\n",
    "plt.scatter(city_df[\"lat\"], city_df[\"temp\"], marker=\"o\", color=\"red\", zorder=2)\n",
    "\n",
    "# Incorporate the other graph properties\n",
    "# Note: Static title option >>  plt.title(\"Temperature in World Cities (Jan 2021)\")\n",
    "plt.title(f\"Temperature in World Cities ({shortened_timestamp})\")\n",
    "plt.ylabel(\"Temperature (Fahrenheit)\")\n",
    "plt.xlabel(\"Latitude\")\n",
    "plt.grid(True)\n",
    "\n",
    "# Save the chart\n",
    "plt.savefig(\"../output_data/Latitude_temperature.png\")\n",
    "\n",
    "# Show plot\n",
    "plt.show()"
   ]
  },
  {
   "cell_type": "markdown",
   "metadata": {},
   "source": [
    "## Latitude vs. Humidity Plot"
   ]
  },
  {
   "cell_type": "code",
   "execution_count": 17,
   "metadata": {},
   "outputs": [
    {
     "data": {
      "image/png": "[encoded data removed]",
      "text/plain": [
       "<Figure size 432x288 with 1 Axes>"
      ]
     },
     "metadata": {
      "needs_background": "light"
     },
     "output_type": "display_data"
    }
   ],
   "source": [
    "# Build a scatter plot for each data type\n",
    "plt.scatter(city_df[\"lat\"], city_df[\"humidity\"], marker=\"o\", color=\"blue\", zorder=2)\n",
    "\n",
    "# Incorporate the other graph properties\n",
    "plt.title(f\"Humidity in World Cities ({shortened_timestamp})\")\n",
    "plt.ylabel(\"Humidity (%)\")\n",
    "plt.xlabel(\"Latitude\")\n",
    "plt.grid(True)\n",
    "\n",
    "# Save the chart\n",
    "plt.savefig(\"../output_data/Latitude_humidity.png\")\n",
    "\n",
    "# Show plot\n",
    "plt.show()"
   ]
  },
  {
   "cell_type": "markdown",
   "metadata": {},
   "source": [
    "## Latitude vs. Cloudiness Plot"
   ]
  },
  {
   "cell_type": "code",
   "execution_count": 18,
   "metadata": {},
   "outputs": [
    {
     "data": {
      "image/png": "[encoded data removed]",
      "text/plain": [
       "<Figure size 432x288 with 1 Axes>"
      ]
     },
     "metadata": {
      "needs_background": "light"
     },
     "output_type": "display_data"
    }
   ],
   "source": [
    "# Build a scatter plot for each data type\n",
    "plt.scatter(city_df[\"lat\"], city_df[\"cloudiness\"], marker=\"o\", color=\"grey\", zorder=2)\n",
    "\n",
    "# Incorporate the other graph properties\n",
    "plt.title(f\"Cloudiness in World Cities ({shortened_timestamp})\")\n",
    "plt.ylabel(\"Cloudiness (%)\")\n",
    "plt.xlabel(\"Latitude\")\n",
    "plt.grid(True)\n",
    "\n",
    "# Save the chart\n",
    "plt.savefig(\"../output_data/Latitude_cloudiness.png\")\n",
    "\n",
    "# Show plot\n",
    "plt.show()"
   ]
  },
  {
   "cell_type": "markdown",
   "metadata": {},
   "source": [
    "## Latitude vs. Wind Speed Plot"
   ]
  },
  {
   "cell_type": "code",
   "execution_count": 19,
   "metadata": {},
   "outputs": [
    {
     "data": {
      "image/png": "[encoded data removed]",
      "text/plain": [
       "<Figure size 432x288 with 1 Axes>"
      ]
     },
     "metadata": {
      "needs_background": "light"
     },
     "output_type": "display_data"
    }
   ],
   "source": [
    "# Build a scatter plot for each data type\n",
    "plt.scatter(city_df[\"lat\"], city_df[\"wind_speed\"], marker=\"o\", color=\"orange\", zorder=2)\n",
    "\n",
    "# Incorporate the other graph properties\n",
    "plt.title(f\"Wind Speed in World Cities ({shortened_timestamp})\")\n",
    "plt.ylabel(\"Wind Speed (mph)\")\n",
    "plt.xlabel(\"Latitude\")\n",
    "plt.grid(True)\n",
    "\n",
    "# Save the chart\n",
    "plt.savefig(\"../output_data/Latitude_windspeed.png\")\n",
    "\n",
    "# Show plot\n",
    "plt.show()"
   ]
  },
  {
   "cell_type": "markdown",
   "metadata": {},
   "source": [
    "## Linear Regression"
   ]
  },
  {
   "cell_type": "code",
   "execution_count": 43,
   "metadata": {},
   "outputs": [],
   "source": [
    "# Create a function to create Linear Regression plots\n",
    "# Note: all code must be indented (even print statement); or it will error out.\n",
    "# Note: def line code may or may not be needed. If used, indent all remaining code.\n",
    "#def lin_reg_plot(x_values,y_values):\n",
    "    \n",
    "(slope, intercept, rvalue, pvalue, stderr) = linregress(x_values, y_values)\n",
    "regress_values = x_values * slope + intercept\n",
    "line_eq = \"y = \" + str(round(slope,2)) + \"x + \" + str(round(intercept,2))\n",
    "    \n",
    "# Note: Code below is sample scatter plot to make sure all is working.\n",
    "# Note: Add the linear regression equation and line to plot & apply some formatting\n",
    "#plt.scatter(x_values,y_values)\n",
    "#plt.plot(x_values,regress_values,\"r-\")\n",
    "#plt.annotate(line_eq,(x_values.median(),y_values.median()),fontsize=16,color=\"red\")\n",
    "#plt.title(\"Latitude Linear Regression\")\n",
    "#plt.xlabel(\"Latitude\")\n",
    "    \n",
    "#print(f\"The rvalue is: {rvalue}\")\n",
    "#plt.show()"
   ]
  },
  {
   "cell_type": "code",
   "execution_count": 44,
   "metadata": {},
   "outputs": [],
   "source": [
    "# Create dataframes for Northern and Southern Hemisphere\n",
    "northhem_df = city_df.loc[city_df[\"lat\"] > 0,:]\n",
    "#northhem_df.head()\n",
    "\n",
    "southhem_df = city_df.loc[city_df[\"lat\"] < 0,:]\n",
    "#southhem_df.head()"
   ]
  },
  {
   "cell_type": "markdown",
   "metadata": {},
   "source": [
    "####  Northern Hemisphere - Max Temp vs. Latitude Linear Regression"
   ]
  },
  {
   "cell_type": "code",
   "execution_count": 54,
   "metadata": {},
   "outputs": [
    {
     "name": "stdout",
     "output_type": "stream",
     "text": [
      "The rvalue is: -0.8642203441143582\n",
      "None\n"
     ]
    },
    {
     "data": {
      "image/png": "[encoded data removed]",
      "text/plain": [
       "<Figure size 432x288 with 1 Axes>"
      ]
     },
     "metadata": {
      "needs_background": "light"
     },
     "output_type": "display_data"
    }
   ],
   "source": [
    "x_values = northhem_df[\"lat\"]\n",
    "y_values = northhem_df[\"temp_max\"]\n",
    "plt.title(\"Northern Hemisphere - Max Temp vs. Latitude Linear Regression\")\n",
    "plt.ylabel(\"Max Temp (F)\")\n",
    "\n",
    "print(lin_reg_plot(x_values,y_values))\n",
    "\n",
    "# Save the chart\n",
    "plt.savefig(\"../output_data/Linreg_north_temp.png\")"
   ]
  },
  {
   "cell_type": "markdown",
   "metadata": {},
   "source": [
    "####  Southern Hemisphere - Max Temp vs. Latitude Linear Regression"
   ]
  },
  {
   "cell_type": "code",
   "execution_count": 55,
   "metadata": {},
   "outputs": [
    {
     "name": "stdout",
     "output_type": "stream",
     "text": [
      "The rvalue is: 0.48445556414140184\n",
      "None\n"
     ]
    },
    {
     "data": {
      "image/png": "[encoded data removed]",
      "text/plain": [
       "<Figure size 432x288 with 1 Axes>"
      ]
     },
     "metadata": {
      "needs_background": "light"
     },
     "output_type": "display_data"
    }
   ],
   "source": [
    "x_values = southhem_df[\"lat\"]\n",
    "y_values = southhem_df[\"temp_max\"]\n",
    "plt.title(\"Southern Hemisphere - Max Temp vs. Latitude Linear Regression\")\n",
    "plt.ylabel(\"Max Temp (F)\")\n",
    "\n",
    "print(lin_reg_plot(x_values,y_values))\n",
    "\n",
    "# Save the chart\n",
    "plt.savefig(\"../output_data/Linreg_south_temp.png\")"
   ]
  },
  {
   "cell_type": "markdown",
   "metadata": {},
   "source": [
    "####  Northern Hemisphere - Humidity (%) vs. Latitude Linear Regression"
   ]
  },
  {
   "cell_type": "code",
   "execution_count": 56,
   "metadata": {},
   "outputs": [
    {
     "name": "stdout",
     "output_type": "stream",
     "text": [
      "The rvalue is: 0.39978401579064593\n",
      "None\n"
     ]
    },
    {
     "data": {
      "image/png": "[encoded data removed]",
      "text/plain": [
       "<Figure size 432x288 with 1 Axes>"
      ]
     },
     "metadata": {
      "needs_background": "light"
     },
     "output_type": "display_data"
    }
   ],
   "source": [
    "x_values = northhem_df[\"lat\"]\n",
    "y_values = northhem_df[\"humidity\"]\n",
    "plt.title(\"Northern Hemisphere - Humidity (%) vs. Latitude Linear Regression\")\n",
    "plt.ylabel(\"Humidity (%)\")\n",
    "\n",
    "print(lin_reg_plot(x_values,y_values))\n",
    "\n",
    "# Save the chart\n",
    "plt.savefig(\"../output_data/Linreg_north_humid.png\")"
   ]
  },
  {
   "cell_type": "markdown",
   "metadata": {},
   "source": [
    "####  Southern Hemisphere - Humidity (%) vs. Latitude Linear Regression"
   ]
  },
  {
   "cell_type": "code",
   "execution_count": 57,
   "metadata": {},
   "outputs": [
    {
     "name": "stdout",
     "output_type": "stream",
     "text": [
      "The rvalue is: 0.24927615324823438\n",
      "None\n"
     ]
    },
    {
     "data": {
      "image/png": "[encoded data removed]",
      "text/plain": [
       "<Figure size 432x288 with 1 Axes>"
      ]
     },
     "metadata": {
      "needs_background": "light"
     },
     "output_type": "display_data"
    }
   ],
   "source": [
    "x_values = southhem_df[\"lat\"]\n",
    "y_values = southhem_df[\"humidity\"]\n",
    "plt.title(\"Southern Hemisphere - Humidity (%) vs. Latitude Linear Regression\")\n",
    "plt.ylabel(\"Humidity (%)\")\n",
    "\n",
    "print(lin_reg_plot(x_values,y_values))\n",
    "\n",
    "# Save the chart\n",
    "plt.savefig(\"../output_data/Linreg_south_humid.png\")"
   ]
  },
  {
   "cell_type": "markdown",
   "metadata": {},
   "source": [
    "####  Northern Hemisphere - Cloudiness (%) vs. Latitude Linear Regression"
   ]
  },
  {
   "cell_type": "code",
   "execution_count": 58,
   "metadata": {},
   "outputs": [
    {
     "name": "stdout",
     "output_type": "stream",
     "text": [
      "The rvalue is: 0.2148077040409509\n",
      "None\n"
     ]
    },
    {
     "data": {
      "image/png": "[encoded data removed]",
      "text/plain": [
       "<Figure size 432x288 with 1 Axes>"
      ]
     },
     "metadata": {
      "needs_background": "light"
     },
     "output_type": "display_data"
    }
   ],
   "source": [
    "x_values = northhem_df[\"lat\"]\n",
    "y_values = northhem_df[\"cloudiness\"]\n",
    "plt.title(\"Northern Hemisphere - Cloudiness (%) vs. Latitude Linear Regression\")\n",
    "plt.ylabel(\"Cloudiness (%)\")\n",
    "\n",
    "print(lin_reg_plot(x_values,y_values))\n",
    "\n",
    "# Save the chart\n",
    "plt.savefig(\"../output_data/Linreg_north_cloud.png\")"
   ]
  },
  {
   "cell_type": "markdown",
   "metadata": {},
   "source": [
    "####  Southern Hemisphere - Cloudiness (%) vs. Latitude Linear Regression"
   ]
  },
  {
   "cell_type": "code",
   "execution_count": 59,
   "metadata": {},
   "outputs": [
    {
     "name": "stdout",
     "output_type": "stream",
     "text": [
      "The rvalue is: 0.341228670797528\n",
      "None\n"
     ]
    },
    {
     "data": {
      "image/png": "[encoded data removed]",
      "text/plain": [
       "<Figure size 432x288 with 1 Axes>"
      ]
     },
     "metadata": {
      "needs_background": "light"
     },
     "output_type": "display_data"
    }
   ],
   "source": [
    "x_values = southhem_df[\"lat\"]\n",
    "y_values = southhem_df[\"cloudiness\"]\n",
    "plt.title(\"Southern Hemisphere - Cloudiness (%) vs. Latitude Linear Regression\")\n",
    "plt.ylabel(\"Cloudiness (%)\")\n",
    "\n",
    "print(lin_reg_plot(x_values,y_values))\n",
    "\n",
    "# Save the chart\n",
    "plt.savefig(\"../output_data/Linreg_south_cloud.png\")"
   ]
  },
  {
   "cell_type": "markdown",
   "metadata": {},
   "source": [
    "####  Northern Hemisphere - Wind Speed (mph) vs. Latitude Linear Regression"
   ]
  },
  {
   "cell_type": "code",
   "execution_count": 60,
   "metadata": {},
   "outputs": [
    {
     "name": "stdout",
     "output_type": "stream",
     "text": [
      "The rvalue is: 0.05357416149520931\n",
      "None\n"
     ]
    },
    {
     "data": {
      "image/png": "[encoded data removed]",
      "text/plain": [
       "<Figure size 432x288 with 1 Axes>"
      ]
     },
     "metadata": {
      "needs_background": "light"
     },
     "output_type": "display_data"
    }
   ],
   "source": [
    "x_values = northhem_df[\"lat\"]\n",
    "y_values = northhem_df[\"wind_speed\"]\n",
    "plt.title(\"Northern Hemisphere - Wind Speed (mph) vs. Latitude Linear Regression\")\n",
    "plt.ylabel(\"Wind Speed (mph)\")\n",
    "\n",
    "print(lin_reg_plot(x_values,y_values))\n",
    "\n",
    "# Save the chart\n",
    "plt.savefig(\"../output_data/Linreg_north_wind.png\")"
   ]
  },
  {
   "cell_type": "markdown",
   "metadata": {},
   "source": [
    "####  Southern Hemisphere - Wind Speed (mph) vs. Latitude Linear Regression"
   ]
  },
  {
   "cell_type": "code",
   "execution_count": 61,
   "metadata": {},
   "outputs": [
    {
     "name": "stdout",
     "output_type": "stream",
     "text": [
      "The rvalue is: -0.2792185595408714\n",
      "None\n"
     ]
    },
    {
     "data": {
      "image/png": "[encoded data removed]",
      "text/plain": [
       "<Figure size 432x288 with 1 Axes>"
      ]
     },
     "metadata": {
      "needs_background": "light"
     },
     "output_type": "display_data"
    }
   ],
   "source": [
    "x_values = southhem_df[\"lat\"]\n",
    "y_values = southhem_df[\"wind_speed\"]\n",
    "plt.title(\"Southern Hemisphere - Wind Speed (mph) vs. Latitude Linear Regression\")\n",
    "plt.ylabel(\"Wind Speed (mph)\")\n",
    "\n",
    "print(lin_reg_plot(x_values,y_values))\n",
    "\n",
    "# Save the chart\n",
    "plt.savefig(\"../output_data/Linreg_south_wind.png\")"
   ]
  }
 ],
 "metadata": {
  "anaconda-cloud": {},
  "kernel_info": {
   "name": "python3"
  },
  "kernelspec": {
   "display_name": "Python 3",
   "language": "python",
   "name": "python3"
  },
  "language_info": {
   "codemirror_mode": {
    "name": "ipython",
    "version": 3
   },
   "file_extension": ".py",
   "mimetype": "text/x-python",
   "name": "python",
   "nbconvert_exporter": "python",
   "pygments_lexer": "ipython3",
   "version": "3.8.5"
  },
  "latex_envs": {
   "LaTeX_envs_menu_present": true,
   "autoclose": false,
   "autocomplete": true,
   "bibliofile": "biblio.bib",
   "cite_by": "apalike",
   "current_citInitial": 1,
   "eqLabelWithNumbers": true,
   "eqNumInitial": 1,
   "hotkeys": {
    "equation": "Ctrl-E",
    "itemize": "Ctrl-I"
   },
   "labels_anchors": false,
   "latex_user_defs": false,
   "report_style_numbering": false,
   "user_envs_cfg": false
  },
  "nteract": {
   "version": "0.12.3"
  }
 },
 "nbformat": 4,
 "nbformat_minor": 2
}
