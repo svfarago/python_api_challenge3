{
 "cells": [
  {
   "cell_type": "markdown",
   "metadata": {},
   "source": [
    "# WeatherPy\n",
    "----"
   ]
  },
  {
   "cell_type": "markdown",
   "metadata": {},
   "source": [
    "### Data Analysis and Observations Summary\n",
    "\n",
    "1. When looking at the linear regression data for temperature in both northern and southern hemispheres, the dots on each plot show the temperatures are higher (or warmer) closest to the equator. As the latitude for both hemispheres gets farther away from the equator (or zero), the temperatures get lower (or colder). This data supports what we know about temperatures near the equator vs at either north or south pole.\n",
    "\n",
    "2. When looking at the regression lines for wind speeds in both hemispheres, wind speeds are lower at the equator and increase as the distances extend out in both north and south directions. The increase is noted more in the southern hemisphere (higher absolute rvalue) than in the northern hemisphere (lower absolute rvalue). This may be related to warmer temperatures at the equator (see observation #1 above) where warm, moise air rises to produce low pressure resulting in little surface wind at the equator.\n",
    "\n",
    "3. When looking at the latitude vs. temperature plot, the temperatures are highest at or near the equator. As cities get farther out from the equator, temperatures remain higher in the southern hemisphere but drop off significantly in the northern hemisphere. Land mass is distributed at 68% in the northern hemisphere and 32% in the southern hemisphere*. This distribution may account for the number of city readings or that land masses will report colder temperatures than water masses. *Source = phl.upr.edu.\n",
    "\n",
    "4. Related to 100% Humidity -- It is possible to have humidity greater than 100%. It's known as \"supersaturation\". This dataset looked for instances of humidity > 100%. See the section below that inspects for cities with humidity data > 100%.\n"
   ]
  },
  {
   "cell_type": "code",
   "execution_count": 3,
   "metadata": {
    "scrolled": true
   },
   "outputs": [],
   "source": [
    "# Dependencies and Setup\n",
    "import matplotlib.pyplot as plt\n",
    "import pandas as pd\n",
    "import numpy as np\n",
    "import requests\n",
    "import time\n",
    "from scipy import stats\n",
    "from scipy.stats import linregress\n",
    "\n",
    "# Note: Added this import to dynamically create chart titles below.\n",
    "from datetime import datetime\n",
    "\n",
    "# Import API key\n",
    "from api_keys import weather_api_key\n",
    "from api_keys import g_key\n",
    "\n",
    "# Incorporated citipy to determine city based on latitude and longitude\n",
    "# Note: Install citipy\n",
    "from citipy import citipy\n",
    "\n",
    "# Import pprint - prints JSON in a structured way\n",
    "# Note: I had to install this in Get Bash\n",
    "from pprint import pprint\n",
    "\n",
    "# Output File (CSV)\n",
    "output_data_file = \"output_data/cities.csv\"\n",
    "\n",
    "# Range of latitudes and longitudes\n",
    "lat_range = (-90, 90)\n",
    "lng_range = (-180, 180)"
   ]
  },
  {
   "cell_type": "markdown",
   "metadata": {},
   "source": [
    "## Generate Cities List"
   ]
  },
  {
   "cell_type": "code",
   "execution_count": 4,
   "metadata": {},
   "outputs": [
    {
     "data": {
      "text/plain": [
       "621"
      ]
     },
     "execution_count": 4,
     "metadata": {},
     "output_type": "execute_result"
    }
   ],
   "source": [
    "# List for holding lat_lngs and cities\n",
    "lat_lngs = []\n",
    "cities = []\n",
    "\n",
    "# Create a set of random lat and lng combinations\n",
    "lats = np.random.uniform(lat_range[0], lat_range[1], size=1500)\n",
    "lngs = np.random.uniform(lng_range[0], lng_range[1], size=1500)\n",
    "lat_lngs = zip(lats, lngs)\n",
    "\n",
    "# Identify nearest city for each lat, lng combination\n",
    "for lat_lng in lat_lngs:\n",
    "    city = citipy.nearest_city(lat_lng[0], lat_lng[1]).city_name\n",
    "    \n",
    "    # If the city is unique, then add it to a our cities list\n",
    "    if city not in cities:\n",
    "        cities.append(city)\n",
    "\n",
    "# Print the city count to confirm sufficient count\n",
    "len(cities)"
   ]
  },
  {
   "cell_type": "markdown",
   "metadata": {},
   "source": [
    "### Perform API Calls\n",
    "* Perform a weather check on each city using a series of successive API calls.\n",
    "* Include a print log of each city as it's being processed (with the city number and city name).\n"
   ]
  },
  {
   "cell_type": "code",
   "execution_count": 5,
   "metadata": {},
   "outputs": [
    {
     "data": {
      "text/plain": [
       "'http://api.openweathermap.org/data/2.5/weather?q=shimoda&appid=638398f7f561b24fe58df1f6395b8765&units=Imperial&q='"
      ]
     },
     "execution_count": 5,
     "metadata": {},
     "output_type": "execute_result"
    }
   ],
   "source": [
    "# Save config information.\n",
    "url = \"http://api.openweathermap.org/data/2.5/weather?\"\n",
    "units = \"Imperial\"\n",
    "\n",
    "# Build query URL\n",
    "query_url = (f\"{url}q={city}&appid={weather_api_key}&units={units}&q=\")\n",
    "query_url"
   ]
  },
  {
   "cell_type": "code",
   "execution_count": 6,
   "metadata": {},
   "outputs": [
    {
     "name": "stdout",
     "output_type": "stream",
     "text": [
      "Testing weather API: {'coord': {'lon': 138.95, 'lat': 34.6667}, 'weather': [{'id': 803, 'main': 'Clouds', 'description': 'broken clouds', 'icon': '04d'}], 'base': 'stations', 'main': {'temp': 41, 'feels_like': 37.24, 'temp_min': 41, 'temp_max': 41, 'pressure': 1025, 'humidity': 88}, 'visibility': 10000, 'wind': {'speed': 1.99, 'deg': 76, 'gust': 5.01}, 'clouds': {'all': 54}, 'dt': 1611529283, 'sys': {'type': 3, 'id': 2019346, 'country': 'JP', 'sunrise': 1611524823, 'sunset': 1611561935}, 'timezone': 32400, 'id': 1852357, 'name': 'Shimoda', 'cod': 200}\n"
     ]
    }
   ],
   "source": [
    "# Get weather data using requests.get\n",
    "weather_response = requests.get (query_url)\n",
    "weather_json = weather_response.json()\n",
    "print(f\"Testing weather API: {weather_json}\")\n"
   ]
  },
  {
   "cell_type": "code",
   "execution_count": 7,
   "metadata": {},
   "outputs": [],
   "source": [
    "# If you want to print in json format\n",
    "# pprint (weather_json)\n",
    "# print(weather_json['name'])"
   ]
  },
  {
   "cell_type": "code",
   "execution_count": 8,
   "metadata": {},
   "outputs": [
    {
     "name": "stdout",
     "output_type": "stream",
     "text": [
      "----- Start Data Retrieval -----\n",
      "Processing record 0 of set 1 | ushuaia\n",
      "Processing record 1 of set 1 | saryshagan\n",
      "City not found. skipping.\n",
      "Processing record 2 of set 1 | albany\n",
      "Processing record 3 of set 1 | clyde river\n",
      "Processing record 4 of set 1 | khatanga\n",
      "Processing record 5 of set 1 | bluff\n",
      "Processing record 6 of set 1 | pandaria\n",
      "Processing record 7 of set 1 | iqaluit\n",
      "Processing record 8 of set 1 | bredasdorp\n",
      "Processing record 9 of set 1 | kutum\n",
      "Processing record 10 of set 1 | zhangjiakou\n",
      "Processing record 11 of set 1 | kaitangata\n",
      "Processing record 12 of set 1 | baley\n",
      "Processing record 13 of set 1 | souillac\n",
      "Processing record 14 of set 1 | bathsheba\n",
      "Processing record 15 of set 1 | avarua\n",
      "Processing record 16 of set 1 | rikitea\n",
      "Processing record 17 of set 1 | galgani\n",
      "City not found. skipping.\n",
      "Processing record 18 of set 1 | brae\n",
      "Processing record 19 of set 1 | valea argovei\n",
      "Processing record 20 of set 1 | busselton\n",
      "Processing record 21 of set 1 | chokurdakh\n",
      "Processing record 22 of set 1 | barentsburg\n",
      "City not found. skipping.\n",
      "Processing record 23 of set 1 | shellbrook\n",
      "Processing record 24 of set 1 | lekoni\n",
      "Processing record 25 of set 1 | harlingen\n",
      "Processing record 26 of set 1 | ambanja\n",
      "Processing record 27 of set 1 | puerto ayora\n",
      "Processing record 28 of set 1 | hilo\n",
      "Processing record 29 of set 1 | grindavik\n",
      "Processing record 30 of set 1 | severo-kurilsk\n",
      "Processing record 31 of set 1 | jamestown\n",
      "Processing record 32 of set 1 | vostok\n",
      "Processing record 33 of set 1 | xuanwu\n",
      "Processing record 34 of set 1 | college\n",
      "Processing record 35 of set 1 | lebu\n",
      "Processing record 36 of set 1 | vaini\n",
      "Processing record 37 of set 1 | port elizabeth\n",
      "Processing record 38 of set 1 | nizhneyansk\n",
      "City not found. skipping.\n",
      "Processing record 39 of set 1 | bud\n",
      "Processing record 40 of set 1 | port alfred\n",
      "Processing record 41 of set 1 | yagodnoye\n",
      "Processing record 42 of set 1 | cidreira\n",
      "Processing record 43 of set 1 | socuellamos\n",
      "Processing record 44 of set 1 | mataura\n",
      "Processing record 45 of set 1 | cape town\n",
      "Processing record 46 of set 1 | solnechnyy\n",
      "Processing record 47 of set 1 | kapaa\n",
      "Processing record 48 of set 1 | chitral\n",
      "Processing record 49 of set 1 | havelock\n",
      "Processing record 0 of set 2 | klaksvik\n",
      "Processing record 1 of set 2 | tual\n",
      "Processing record 2 of set 2 | margate\n",
      "Processing record 3 of set 2 | mao\n",
      "Processing record 4 of set 2 | punta arenas\n",
      "Processing record 5 of set 2 | kurilsk\n",
      "Processing record 6 of set 2 | nanortalik\n",
      "Processing record 7 of set 2 | torbay\n",
      "Processing record 8 of set 2 | elizabeth city\n",
      "Processing record 9 of set 2 | rawannawi\n",
      "City not found. skipping.\n",
      "Processing record 10 of set 2 | komsomolskiy\n",
      "Processing record 11 of set 2 | zamora\n",
      "Processing record 12 of set 2 | barrow\n",
      "Processing record 13 of set 2 | arraial do cabo\n",
      "Processing record 14 of set 2 | port hardy\n",
      "Processing record 15 of set 2 | hobart\n",
      "Processing record 16 of set 2 | sorland\n",
      "Processing record 17 of set 2 | banda aceh\n",
      "Processing record 18 of set 2 | baturaja\n",
      "Processing record 19 of set 2 | maroantsetra\n",
      "Processing record 20 of set 2 | naze\n",
      "Processing record 21 of set 2 | samusu\n",
      "City not found. skipping.\n",
      "Processing record 22 of set 2 | cesis\n",
      "Processing record 23 of set 2 | bolungarvik\n",
      "City not found. skipping.\n",
      "Processing record 24 of set 2 | atuona\n",
      "Processing record 25 of set 2 | talnakh\n",
      "Processing record 26 of set 2 | westpunt\n",
      "City not found. skipping.\n",
      "Processing record 27 of set 2 | umm kaddadah\n",
      "Processing record 28 of set 2 | wanning\n",
      "Processing record 29 of set 2 | eureka\n",
      "Processing record 30 of set 2 | tshikapa\n",
      "Processing record 31 of set 2 | kargil\n",
      "Processing record 32 of set 2 | sinnamary\n",
      "Processing record 33 of set 2 | camacha\n",
      "Processing record 34 of set 2 | korla\n",
      "Processing record 35 of set 2 | sri aman\n",
      "Processing record 36 of set 2 | santa maria\n",
      "Processing record 37 of set 2 | geraldton\n",
      "Processing record 38 of set 2 | jumla\n",
      "Processing record 39 of set 2 | mrirt\n",
      "City not found. skipping.\n",
      "Processing record 40 of set 2 | lianzhou\n",
      "Processing record 41 of set 2 | saint-philippe\n",
      "Processing record 42 of set 2 | castro\n",
      "Processing record 43 of set 2 | hobyo\n",
      "Processing record 44 of set 2 | calamar\n",
      "Processing record 45 of set 2 | sola\n",
      "Processing record 46 of set 2 | hermanus\n",
      "Processing record 47 of set 2 | longyearbyen\n",
      "Processing record 48 of set 2 | karaul\n",
      "City not found. skipping.\n",
      "Processing record 49 of set 2 | onega\n",
      "Processing record 0 of set 3 | mount gambier\n",
      "Processing record 1 of set 3 | east london\n",
      "Processing record 2 of set 3 | bubaque\n",
      "Processing record 3 of set 3 | sao joao da barra\n",
      "Processing record 4 of set 3 | vardo\n",
      "Processing record 5 of set 3 | wampusirpi\n",
      "City not found. skipping.\n",
      "Processing record 6 of set 3 | sabang\n",
      "Processing record 7 of set 3 | tasiilaq\n",
      "Processing record 8 of set 3 | rocha\n",
      "Processing record 9 of set 3 | tamiahua\n",
      "Processing record 10 of set 3 | carnarvon\n",
      "Processing record 11 of set 3 | tuktoyaktuk\n",
      "Processing record 12 of set 3 | attawapiskat\n",
      "City not found. skipping.\n",
      "Processing record 13 of set 3 | aripuana\n",
      "Processing record 14 of set 3 | oistins\n",
      "Processing record 15 of set 3 | kavieng\n",
      "Processing record 16 of set 3 | mahebourg\n",
      "Processing record 17 of set 3 | bandrele\n",
      "Processing record 18 of set 3 | leh\n",
      "Processing record 19 of set 3 | katsuura\n",
      "Processing record 20 of set 3 | moron\n",
      "Processing record 21 of set 3 | nguiu\n",
      "City not found. skipping.\n",
      "Processing record 22 of set 3 | vaitupu\n",
      "City not found. skipping.\n",
      "Processing record 23 of set 3 | litoral del san juan\n",
      "City not found. skipping.\n",
      "Processing record 24 of set 3 | serenje\n",
      "Processing record 25 of set 3 | saint-augustin\n",
      "Processing record 26 of set 3 | hailey\n",
      "Processing record 27 of set 3 | taolanaro\n",
      "City not found. skipping.\n",
      "Processing record 28 of set 3 | agucadoura\n",
      "Processing record 29 of set 3 | ballina\n",
      "Processing record 30 of set 3 | dunedin\n",
      "Processing record 31 of set 3 | kenora\n",
      "Processing record 32 of set 3 | bereda\n",
      "Processing record 33 of set 3 | sainte-anne-des-monts\n",
      "Processing record 34 of set 3 | yellowknife\n",
      "Processing record 35 of set 3 | dalvik\n",
      "Processing record 36 of set 3 | ponta do sol\n",
      "Processing record 37 of set 3 | guerrero negro\n",
      "Processing record 38 of set 3 | phan thiet\n",
      "Processing record 39 of set 3 | wichita falls\n",
      "Processing record 40 of set 3 | ribeira grande\n",
      "Processing record 41 of set 3 | puri\n",
      "Processing record 42 of set 3 | codrington\n",
      "Processing record 43 of set 3 | lompoc\n",
      "Processing record 44 of set 3 | temba\n",
      "Processing record 45 of set 3 | lorengau\n",
      "Processing record 46 of set 3 | georgetown\n",
      "Processing record 47 of set 3 | taltal\n",
      "Processing record 48 of set 3 | chone\n",
      "Processing record 49 of set 3 | pisco\n",
      "Processing record 0 of set 4 | port lincoln\n",
      "Processing record 1 of set 4 | golden\n",
      "Processing record 2 of set 4 | kortkeros\n",
      "Processing record 3 of set 4 | atlantic beach\n",
      "Processing record 4 of set 4 | illoqqortoormiut\n",
      "City not found. skipping.\n",
      "Processing record 5 of set 4 | provideniya\n",
      "Processing record 6 of set 4 | saint george\n",
      "Processing record 7 of set 4 | maldonado\n",
      "Processing record 8 of set 4 | amderma\n",
      "City not found. skipping.\n",
      "Processing record 9 of set 4 | beinamar\n",
      "Processing record 10 of set 4 | saldanha\n",
      "Processing record 11 of set 4 | kieta\n",
      "Processing record 12 of set 4 | tumannyy\n",
      "City not found. skipping.\n",
      "Processing record 13 of set 4 | juneau\n",
      "Processing record 14 of set 4 | esperance\n",
      "Processing record 15 of set 4 | laela\n",
      "Processing record 16 of set 4 | tucupita\n",
      "Processing record 17 of set 4 | boyuibe\n",
      "Processing record 18 of set 4 | kirakira\n",
      "Processing record 19 of set 4 | nambucca heads\n",
      "Processing record 20 of set 4 | porosozero\n",
      "Processing record 21 of set 4 | saint-georges\n",
      "Processing record 22 of set 4 | vila franca do campo\n",
      "Processing record 23 of set 4 | saint anthony\n",
      "Processing record 24 of set 4 | faanui\n",
      "Processing record 25 of set 4 | kisangani\n",
      "Processing record 26 of set 4 | goulburn\n",
      "Processing record 27 of set 4 | bengkulu\n",
      "Processing record 28 of set 4 | gornopravdinsk\n",
      "Processing record 29 of set 4 | hithadhoo\n",
      "Processing record 30 of set 4 | sentyabrskiy\n",
      "City not found. skipping.\n",
      "Processing record 31 of set 4 | yar-sale\n",
      "Processing record 32 of set 4 | leningradskiy\n",
      "Processing record 33 of set 4 | nerchinskiy zavod\n",
      "Processing record 34 of set 4 | victoria\n"
     ]
    },
    {
     "name": "stdout",
     "output_type": "stream",
     "text": [
      "Processing record 35 of set 4 | sivas\n",
      "Processing record 36 of set 4 | nome\n",
      "Processing record 37 of set 4 | cabo san lucas\n",
      "Processing record 38 of set 4 | kiama\n",
      "Processing record 39 of set 4 | cherskiy\n",
      "Processing record 40 of set 4 | tiksi\n",
      "Processing record 41 of set 4 | sutesti\n",
      "Processing record 42 of set 4 | isangel\n",
      "Processing record 43 of set 4 | chacabuco\n",
      "Processing record 44 of set 4 | butaritari\n",
      "Processing record 45 of set 4 | coquimbo\n",
      "Processing record 46 of set 4 | grand river south east\n",
      "City not found. skipping.\n",
      "Processing record 47 of set 4 | satitoa\n",
      "City not found. skipping.\n",
      "Processing record 48 of set 4 | quatre cocos\n",
      "Processing record 49 of set 4 | chagda\n",
      "City not found. skipping.\n",
      "Processing record 0 of set 5 | galle\n",
      "Processing record 1 of set 5 | chuy\n",
      "Processing record 2 of set 5 | meulaboh\n",
      "Processing record 3 of set 5 | muros\n",
      "Processing record 4 of set 5 | jurm\n",
      "Processing record 5 of set 5 | port blair\n",
      "Processing record 6 of set 5 | port hedland\n",
      "Processing record 7 of set 5 | dikson\n",
      "Processing record 8 of set 5 | klyuchi\n",
      "Processing record 9 of set 5 | ormara\n",
      "Processing record 10 of set 5 | miram shah\n",
      "Processing record 11 of set 5 | narsaq\n",
      "Processing record 12 of set 5 | svetlyy\n",
      "Processing record 13 of set 5 | strezhevoy\n",
      "Processing record 14 of set 5 | red deer\n",
      "Processing record 15 of set 5 | garanhuns\n",
      "Processing record 16 of set 5 | gunnedah\n",
      "Processing record 17 of set 5 | constitucion\n",
      "Processing record 18 of set 5 | balaka\n",
      "Processing record 19 of set 5 | tautira\n",
      "Processing record 20 of set 5 | yumen\n",
      "Processing record 21 of set 5 | upernavik\n",
      "Processing record 22 of set 5 | mountain home\n",
      "Processing record 23 of set 5 | vao\n",
      "Processing record 24 of set 5 | crab hill\n",
      "City not found. skipping.\n",
      "Processing record 25 of set 5 | buraydah\n",
      "Processing record 26 of set 5 | sinkat\n",
      "City not found. skipping.\n",
      "Processing record 27 of set 5 | sitka\n",
      "Processing record 28 of set 5 | norman wells\n",
      "Processing record 29 of set 5 | airai\n",
      "Processing record 30 of set 5 | zboriste\n",
      "Processing record 31 of set 5 | santa isabel do rio negro\n",
      "Processing record 32 of set 5 | salisbury\n",
      "Processing record 33 of set 5 | la ronge\n",
      "Processing record 34 of set 5 | lashio\n",
      "Processing record 35 of set 5 | kolondieba\n",
      "Processing record 36 of set 5 | synya\n",
      "Processing record 37 of set 5 | ostersund\n",
      "Processing record 38 of set 5 | innisfail\n",
      "Processing record 39 of set 5 | yulara\n",
      "Processing record 40 of set 5 | tura\n",
      "Processing record 41 of set 5 | krasnoselkup\n",
      "Processing record 42 of set 5 | pevek\n",
      "Processing record 43 of set 5 | kyren\n",
      "Processing record 44 of set 5 | richards bay\n",
      "Processing record 45 of set 5 | tsihombe\n",
      "City not found. skipping.\n",
      "Processing record 46 of set 5 | nelson bay\n",
      "Processing record 47 of set 5 | taoudenni\n",
      "Processing record 48 of set 5 | ajdabiya\n",
      "Processing record 49 of set 5 | pecos\n",
      "Processing record 0 of set 6 | port macquarie\n",
      "Processing record 1 of set 6 | saint-leu\n",
      "Processing record 2 of set 6 | louisbourg\n",
      "City not found. skipping.\n",
      "Processing record 3 of set 6 | banyuwangi\n",
      "Processing record 4 of set 6 | chazuta\n",
      "Processing record 5 of set 6 | kumeny\n",
      "Processing record 6 of set 6 | campo de criptana\n",
      "Processing record 7 of set 6 | te anau\n",
      "Processing record 8 of set 6 | catamarca\n",
      "Processing record 9 of set 6 | riberalta\n",
      "Processing record 10 of set 6 | ulladulla\n",
      "Processing record 11 of set 6 | nikolskoye\n",
      "Processing record 12 of set 6 | pyapon\n",
      "Processing record 13 of set 6 | mys shmidta\n",
      "City not found. skipping.\n",
      "Processing record 14 of set 6 | venice\n",
      "Processing record 15 of set 6 | shanghai\n",
      "Processing record 16 of set 6 | portland\n",
      "Processing record 17 of set 6 | thompson\n",
      "Processing record 18 of set 6 | parker\n",
      "Processing record 19 of set 6 | coalinga\n",
      "Processing record 20 of set 6 | hovd\n",
      "Processing record 21 of set 6 | san quintin\n",
      "Processing record 22 of set 6 | khasan\n",
      "Processing record 23 of set 6 | laguna\n",
      "Processing record 24 of set 6 | palaia fokaia\n",
      "Processing record 25 of set 6 | omsukchan\n",
      "Processing record 26 of set 6 | panama city\n",
      "Processing record 27 of set 6 | marzuq\n",
      "Processing record 28 of set 6 | sambava\n",
      "Processing record 29 of set 6 | sangmelima\n",
      "Processing record 30 of set 6 | priiskovyy\n",
      "Processing record 31 of set 6 | urengoy\n",
      "Processing record 32 of set 6 | burnie\n",
      "Processing record 33 of set 6 | saskylakh\n",
      "Processing record 34 of set 6 | kodinsk\n",
      "Processing record 35 of set 6 | astoria\n",
      "Processing record 36 of set 6 | aykhal\n",
      "Processing record 37 of set 6 | kundiawa\n",
      "Processing record 38 of set 6 | winona\n",
      "Processing record 39 of set 6 | tuggurt\n",
      "City not found. skipping.\n",
      "Processing record 40 of set 6 | camacupa\n",
      "Processing record 41 of set 6 | goderich\n",
      "Processing record 42 of set 6 | hervey bay\n",
      "Processing record 43 of set 6 | palabuhanratu\n",
      "City not found. skipping.\n",
      "Processing record 44 of set 6 | dhidhdhoo\n",
      "Processing record 45 of set 6 | maceio\n",
      "Processing record 46 of set 6 | ekibastuz\n",
      "Processing record 47 of set 6 | baykit\n",
      "Processing record 48 of set 6 | tabiauea\n",
      "City not found. skipping.\n",
      "Processing record 49 of set 6 | san lawrenz\n",
      "Processing record 0 of set 7 | coihaique\n",
      "Processing record 1 of set 7 | bethel\n",
      "Processing record 2 of set 7 | champerico\n",
      "Processing record 3 of set 7 | fortuna\n",
      "Processing record 4 of set 7 | jiayuguan\n",
      "Processing record 5 of set 7 | mehamn\n",
      "Processing record 6 of set 7 | sioux lookout\n",
      "Processing record 7 of set 7 | tadine\n",
      "Processing record 8 of set 7 | padang\n",
      "Processing record 9 of set 7 | kodiak\n",
      "Processing record 10 of set 7 | berdigestyakh\n",
      "Processing record 11 of set 7 | belushya guba\n",
      "City not found. skipping.\n",
      "Processing record 12 of set 7 | teguise\n",
      "Processing record 13 of set 7 | high prairie\n",
      "Processing record 14 of set 7 | kyzyl-suu\n",
      "Processing record 15 of set 7 | mehrabpur\n",
      "Processing record 16 of set 7 | tuatapere\n",
      "Processing record 17 of set 7 | myski\n",
      "Processing record 18 of set 7 | kargasok\n",
      "Processing record 19 of set 7 | shitanjing\n",
      "Processing record 20 of set 7 | diffa\n",
      "Processing record 21 of set 7 | qaanaaq\n",
      "Processing record 22 of set 7 | kalispell\n",
      "Processing record 23 of set 7 | farah\n",
      "Processing record 24 of set 7 | changli\n",
      "Processing record 25 of set 7 | yining\n",
      "Processing record 26 of set 7 | ahipara\n",
      "Processing record 27 of set 7 | ofunato\n",
      "Processing record 28 of set 7 | mizdah\n",
      "Processing record 29 of set 7 | grand gaube\n",
      "Processing record 30 of set 7 | andarab\n",
      "City not found. skipping.\n",
      "Processing record 31 of set 7 | baherden\n",
      "Processing record 32 of set 7 | campos novos\n",
      "Processing record 33 of set 7 | cam ranh\n",
      "Processing record 34 of set 7 | surt\n",
      "Processing record 35 of set 7 | kununurra\n",
      "Processing record 36 of set 7 | poya\n",
      "Processing record 37 of set 7 | kaeo\n",
      "Processing record 38 of set 7 | aldan\n",
      "Processing record 39 of set 7 | coihueco\n",
      "Processing record 40 of set 7 | dingle\n",
      "Processing record 41 of set 7 | tonota\n",
      "Processing record 42 of set 7 | luderitz\n",
      "Processing record 43 of set 7 | ostrovnoy\n",
      "Processing record 44 of set 7 | shache\n",
      "Processing record 45 of set 7 | olinda\n",
      "Processing record 46 of set 7 | acapulco\n",
      "Processing record 47 of set 7 | hambantota\n",
      "Processing record 48 of set 7 | ryotsu\n",
      "Processing record 49 of set 7 | kayes\n",
      "Processing record 0 of set 8 | loucna nad desnou\n",
      "Processing record 1 of set 8 | meyungs\n",
      "City not found. skipping.\n",
      "Processing record 2 of set 8 | mehran\n",
      "Processing record 3 of set 8 | kracheh\n",
      "City not found. skipping.\n",
      "Processing record 4 of set 8 | srednekolymsk\n",
      "Processing record 5 of set 8 | iracoubo\n",
      "Processing record 6 of set 8 | ca mau\n",
      "Processing record 7 of set 8 | peace river\n",
      "Processing record 8 of set 8 | yaan\n",
      "Processing record 9 of set 8 | verkhnevilyuysk\n",
      "Processing record 10 of set 8 | alugan\n",
      "Processing record 11 of set 8 | hasaki\n",
      "Processing record 12 of set 8 | zakamensk\n",
      "Processing record 13 of set 8 | clinton\n",
      "Processing record 14 of set 8 | ilulissat\n",
      "Processing record 15 of set 8 | lanxi\n",
      "Processing record 16 of set 8 | zhangye\n",
      "Processing record 17 of set 8 | ust-ishim\n",
      "Processing record 18 of set 8 | lodja\n",
      "Processing record 19 of set 8 | antofagasta\n",
      "Processing record 20 of set 8 | cruzeiro do sul\n",
      "Processing record 21 of set 8 | warqla\n",
      "City not found. skipping.\n",
      "Processing record 22 of set 8 | filadelfia\n",
      "Processing record 23 of set 8 | yugorsk\n",
      "Processing record 24 of set 8 | saint-pierre\n"
     ]
    },
    {
     "name": "stdout",
     "output_type": "stream",
     "text": [
      "Processing record 25 of set 8 | dandong\n",
      "Processing record 26 of set 8 | bocaranga\n",
      "City not found. skipping.\n",
      "Processing record 27 of set 8 | waipawa\n",
      "Processing record 28 of set 8 | bambous virieux\n",
      "Processing record 29 of set 8 | arbazh\n",
      "Processing record 30 of set 8 | conceicao do araguaia\n",
      "Processing record 31 of set 8 | oranjestad\n",
      "Processing record 32 of set 8 | vila velha\n",
      "Processing record 33 of set 8 | okhtyrka\n",
      "Processing record 34 of set 8 | caohai\n",
      "Processing record 35 of set 8 | salalah\n",
      "Processing record 36 of set 8 | potiskum\n",
      "Processing record 37 of set 8 | tevaitoa\n",
      "Processing record 38 of set 8 | skagastrond\n",
      "City not found. skipping.\n",
      "Processing record 39 of set 8 | juegang\n",
      "Processing record 40 of set 8 | kahului\n",
      "Processing record 41 of set 8 | poum\n",
      "Processing record 42 of set 8 | zhezkazgan\n",
      "Processing record 43 of set 8 | paamiut\n",
      "Processing record 44 of set 8 | yantal\n",
      "Processing record 45 of set 8 | mariental\n",
      "Processing record 46 of set 8 | jilib\n",
      "Processing record 47 of set 8 | khash\n",
      "Processing record 48 of set 8 | accra\n",
      "Processing record 49 of set 8 | bitung\n",
      "Processing record 0 of set 9 | ancud\n",
      "Processing record 1 of set 9 | tartagal\n",
      "Processing record 2 of set 9 | fare\n",
      "Processing record 3 of set 9 | husavik\n",
      "Processing record 4 of set 9 | the valley\n",
      "Processing record 5 of set 9 | asyut\n",
      "Processing record 6 of set 9 | tiznit\n",
      "Processing record 7 of set 9 | umzimvubu\n",
      "City not found. skipping.\n",
      "Processing record 8 of set 9 | marcona\n",
      "City not found. skipping.\n",
      "Processing record 9 of set 9 | rio grande\n",
      "Processing record 10 of set 9 | jalu\n",
      "Processing record 11 of set 9 | fratautii vechi\n",
      "Processing record 12 of set 9 | sistranda\n",
      "Processing record 13 of set 9 | uppsala\n",
      "Processing record 14 of set 9 | gat\n",
      "Processing record 15 of set 9 | tucurui\n",
      "Processing record 16 of set 9 | poli\n",
      "Processing record 17 of set 9 | lagoa\n",
      "Processing record 18 of set 9 | hirara\n",
      "Processing record 19 of set 9 | rassvet\n",
      "Processing record 20 of set 9 | maragogi\n",
      "Processing record 21 of set 9 | kijabe\n",
      "Processing record 22 of set 9 | barsovo\n",
      "Processing record 23 of set 9 | molokovo\n",
      "Processing record 24 of set 9 | new norfolk\n",
      "Processing record 25 of set 9 | baracoa\n",
      "Processing record 26 of set 9 | tikrit\n",
      "Processing record 27 of set 9 | oktyabrskiy\n",
      "Processing record 28 of set 9 | tarakan\n",
      "Processing record 29 of set 9 | naples\n",
      "Processing record 30 of set 9 | broome\n",
      "Processing record 31 of set 9 | khanpur\n",
      "Processing record 32 of set 9 | titay\n",
      "Processing record 33 of set 9 | santa luzia\n",
      "Processing record 34 of set 9 | kamenskoye\n",
      "City not found. skipping.\n",
      "Processing record 35 of set 9 | kamaishi\n",
      "Processing record 36 of set 9 | lasa\n",
      "Processing record 37 of set 9 | ko samui\n",
      "Processing record 38 of set 9 | kozhva\n",
      "Processing record 39 of set 9 | kuandian\n",
      "Processing record 40 of set 9 | lubliniec\n",
      "Processing record 41 of set 9 | petropavlovsk-kamchatskiy\n",
      "Processing record 42 of set 9 | bambanglipuro\n",
      "Processing record 43 of set 9 | cayenne\n",
      "Processing record 44 of set 9 | san giustino\n",
      "Processing record 45 of set 9 | shchuchye\n",
      "City not found. skipping.\n",
      "Processing record 46 of set 9 | bilma\n",
      "Processing record 47 of set 9 | adrar\n",
      "Processing record 48 of set 9 | nizhniy baskunchak\n",
      "Processing record 49 of set 9 | majene\n",
      "Processing record 0 of set 10 | collie\n",
      "Processing record 1 of set 10 | pihuamo\n",
      "Processing record 2 of set 10 | san javier\n",
      "Processing record 3 of set 10 | gimli\n",
      "Processing record 4 of set 10 | bentiu\n",
      "Processing record 5 of set 10 | whithorn\n",
      "Processing record 6 of set 10 | gazalkent\n",
      "Processing record 7 of set 10 | sao filipe\n",
      "Processing record 8 of set 10 | faya\n",
      "Processing record 9 of set 10 | aguimes\n",
      "Processing record 10 of set 10 | la rioja\n",
      "Processing record 11 of set 10 | hamilton\n",
      "Processing record 12 of set 10 | lavrentiya\n",
      "Processing record 13 of set 10 | saleaula\n",
      "City not found. skipping.\n",
      "Processing record 14 of set 10 | bastia\n",
      "Processing record 15 of set 10 | tukrah\n",
      "Processing record 16 of set 10 | kupang\n",
      "Processing record 17 of set 10 | flinders\n",
      "Processing record 18 of set 10 | hami\n",
      "Processing record 19 of set 10 | los llanos de aridane\n",
      "Processing record 20 of set 10 | mikhaylovsk\n",
      "Processing record 21 of set 10 | red wing\n",
      "Processing record 22 of set 10 | winnemucca\n",
      "Processing record 23 of set 10 | fort frances\n",
      "Processing record 24 of set 10 | montague\n",
      "Processing record 25 of set 10 | deputatskiy\n",
      "Processing record 26 of set 10 | krasnogvardeyets\n",
      "Processing record 27 of set 10 | bosaso\n",
      "Processing record 28 of set 10 | twin falls\n",
      "Processing record 29 of set 10 | tilichiki\n",
      "Processing record 30 of set 10 | yarmouth\n",
      "Processing record 31 of set 10 | imbituba\n",
      "Processing record 32 of set 10 | strzelce krajenskie\n",
      "Processing record 33 of set 10 | kremenchuk\n",
      "Processing record 34 of set 10 | olafsvik\n",
      "Processing record 35 of set 10 | batemans bay\n",
      "Processing record 36 of set 10 | aras\n",
      "Processing record 37 of set 10 | valjevo\n",
      "Processing record 38 of set 10 | livingston\n",
      "Processing record 39 of set 10 | jatai\n",
      "Processing record 40 of set 10 | piacabucu\n",
      "Processing record 41 of set 10 | srandakan\n",
      "Processing record 42 of set 10 | shihezi\n",
      "Processing record 43 of set 10 | chum phae\n",
      "Processing record 44 of set 10 | mayo\n",
      "Processing record 45 of set 10 | mar del plata\n",
      "Processing record 46 of set 10 | male\n",
      "Processing record 47 of set 10 | inuvik\n",
      "Processing record 48 of set 10 | isperih\n",
      "Processing record 49 of set 10 | vanimo\n",
      "Processing record 0 of set 11 | marawi\n",
      "Processing record 1 of set 11 | dudinka\n",
      "Processing record 2 of set 11 | namie\n",
      "Processing record 3 of set 11 | lufilufi\n",
      "Processing record 4 of set 11 | kathu\n",
      "Processing record 5 of set 11 | frolovo\n",
      "Processing record 6 of set 11 | srivardhan\n",
      "Processing record 7 of set 11 | buariki\n",
      "City not found. skipping.\n",
      "Processing record 8 of set 11 | hatillo\n",
      "Processing record 9 of set 11 | takoradi\n",
      "Processing record 10 of set 11 | carutapera\n",
      "Processing record 11 of set 11 | sisimiut\n",
      "Processing record 12 of set 11 | san cristobal\n",
      "Processing record 13 of set 11 | manavalakurichi\n",
      "Processing record 14 of set 11 | nyurba\n",
      "Processing record 15 of set 11 | arandis\n",
      "Processing record 16 of set 11 | zykovo\n",
      "Processing record 17 of set 11 | chara\n",
      "Processing record 18 of set 11 | trinidad\n",
      "Processing record 19 of set 11 | ciudad bolivar\n",
      "Processing record 20 of set 11 | juifang\n",
      "City not found. skipping.\n",
      "Processing record 21 of set 11 | kandi\n",
      "Processing record 22 of set 11 | zlobin\n",
      "Processing record 23 of set 11 | karlshamn\n",
      "Processing record 24 of set 11 | eskasem\n",
      "City not found. skipping.\n",
      "Processing record 25 of set 11 | arman\n",
      "Processing record 26 of set 11 | natitingou\n",
      "Processing record 27 of set 11 | aklavik\n",
      "Processing record 28 of set 11 | muravlenko\n",
      "Processing record 29 of set 11 | pindobacu\n",
      "Processing record 30 of set 11 | aller\n",
      "Processing record 31 of set 11 | namibe\n",
      "Processing record 32 of set 11 | pangnirtung\n",
      "Processing record 33 of set 11 | mackay\n",
      "Processing record 34 of set 11 | yerbogachen\n",
      "Processing record 35 of set 11 | fatsa\n",
      "Processing record 36 of set 11 | vestmannaeyjar\n",
      "Processing record 37 of set 11 | abha\n",
      "Processing record 38 of set 11 | puerto escondido\n",
      "Processing record 39 of set 11 | kavaratti\n",
      "Processing record 40 of set 11 | santa rosalia\n",
      "Processing record 41 of set 11 | polje\n",
      "Processing record 42 of set 11 | kinanah\n",
      "City not found. skipping.\n",
      "Processing record 43 of set 11 | balkanabat\n",
      "Processing record 44 of set 11 | bara\n",
      "Processing record 45 of set 11 | andenes\n",
      "Processing record 46 of set 11 | port-cartier\n",
      "Processing record 47 of set 11 | kapit\n",
      "Processing record 48 of set 11 | darasun\n",
      "Processing record 49 of set 11 | etchoropo\n",
      "Processing record 0 of set 12 | tiarei\n",
      "Processing record 1 of set 12 | aromashevo\n",
      "Processing record 2 of set 12 | touros\n",
      "Processing record 3 of set 12 | swan river\n",
      "Processing record 4 of set 12 | qostanay\n",
      "Processing record 5 of set 12 | san rafael del sur\n",
      "Processing record 6 of set 12 | shenzhen\n",
      "Processing record 7 of set 12 | dera bugti\n",
      "Processing record 8 of set 12 | kilindoni\n",
      "Processing record 9 of set 12 | san rafael\n",
      "Processing record 10 of set 12 | dulce nombre de culmi\n",
      "Processing record 11 of set 12 | santa eulalia del rio\n",
      "City not found. skipping.\n",
      "Processing record 12 of set 12 | quirinopolis\n",
      "Processing record 13 of set 12 | brownwood\n"
     ]
    },
    {
     "name": "stdout",
     "output_type": "stream",
     "text": [
      "Processing record 14 of set 12 | san benito\n",
      "Processing record 15 of set 12 | ossora\n",
      "Processing record 16 of set 12 | lieksa\n",
      "Processing record 17 of set 12 | viedma\n",
      "Processing record 18 of set 12 | sao felix do xingu\n",
      "Processing record 19 of set 12 | dakar\n",
      "Processing record 20 of set 12 | ambon\n",
      "Processing record 21 of set 12 | mangai\n",
      "Processing record 22 of set 12 | axim\n",
      "Processing record 23 of set 12 | afua\n",
      "Processing record 24 of set 12 | lagos\n",
      "Processing record 25 of set 12 | kruisfontein\n",
      "Processing record 26 of set 12 | kamiiso\n",
      "Processing record 27 of set 12 | lipany\n",
      "Processing record 28 of set 12 | davila\n",
      "Processing record 29 of set 12 | mackenzie\n",
      "Processing record 30 of set 12 | pimentel\n",
      "Processing record 31 of set 12 | mezhdurechensk\n",
      "Processing record 32 of set 12 | muroran\n",
      "Processing record 33 of set 12 | sharjah\n",
      "Processing record 34 of set 12 | arlit\n",
      "Processing record 35 of set 12 | wasilla\n",
      "Processing record 36 of set 12 | raahe\n",
      "Processing record 37 of set 12 | dauphin\n",
      "Processing record 38 of set 12 | ilhabela\n",
      "Processing record 39 of set 12 | biak\n",
      "Processing record 40 of set 12 | xiaoshi\n",
      "Processing record 41 of set 12 | kloulklubed\n",
      "Processing record 42 of set 12 | pangody\n",
      "Processing record 43 of set 12 | galiwinku\n",
      "City not found. skipping.\n",
      "Processing record 44 of set 12 | ikalamavony\n",
      "Processing record 45 of set 12 | kedrovyy\n",
      "Processing record 46 of set 12 | tateyama\n",
      "Processing record 47 of set 12 | muscat\n",
      "Processing record 48 of set 12 | turka\n",
      "Processing record 49 of set 12 | san vicente\n",
      "Processing record 0 of set 13 | alice springs\n",
      "Processing record 1 of set 13 | nabire\n",
      "Processing record 2 of set 13 | havre-saint-pierre\n",
      "Processing record 3 of set 13 | vikhorevka\n",
      "Processing record 4 of set 13 | pinega\n",
      "Processing record 5 of set 13 | bintulu\n",
      "Processing record 6 of set 13 | cermik\n",
      "Processing record 7 of set 13 | sur\n",
      "Processing record 8 of set 13 | uige\n",
      "Processing record 9 of set 13 | nawalgarh\n",
      "Processing record 10 of set 13 | dzitbalche\n",
      "Processing record 11 of set 13 | santiago de cao\n",
      "Processing record 12 of set 13 | sayat\n",
      "Processing record 13 of set 13 | hede\n",
      "Processing record 14 of set 13 | kyaikkami\n",
      "Processing record 15 of set 13 | sao geraldo do araguaia\n",
      "Processing record 16 of set 13 | mount isa\n",
      "Processing record 17 of set 13 | ust-kuyga\n",
      "Processing record 18 of set 13 | la union\n",
      "Processing record 19 of set 13 | makakilo city\n",
      "Processing record 20 of set 13 | shimoda\n",
      "----------Done Woohoo!---------\n"
     ]
    }
   ],
   "source": [
    "# Counter to go through data\n",
    "record = 0\n",
    "sets = 1\n",
    "\n",
    "# Define empty lists to store values.\n",
    "# Note: Could also use dataframes vs. containers\n",
    "cloudiness = []\n",
    "country = []\n",
    "date = []\n",
    "temp = []\n",
    "temp_max = []\n",
    "humidity = []\n",
    "lat = []\n",
    "lon = []\n",
    "wind_speed = []\n",
    "city_name = []\n",
    "\n",
    "# For loop through cities to make API calls using city as query\n",
    "# Note: This line of code also works even though fields are out of order. Documenting here for future reference.\n",
    "    #query_url = url + \"&appid=\" + weather_api_key + \"&q=\" + city + \"&units=Imperial\"\n",
    "\n",
    "# Loop through city data and retrieve\n",
    "print(\"----- Start Data Retrieval -----\")\n",
    "\n",
    "\n",
    "for city in cities:\n",
    "    city=city\n",
    "    \n",
    "    query_url = url +  \"&q=\" + city + \"&appid=\" + weather_api_key + \"&units=Imperial\"\n",
    "    response = requests.get(query_url).json()\n",
    "\n",
    "# Pulls data and puts it into above containers. Missing data is skipped by exception below. \n",
    "    try:\n",
    "        print(f\"Processing record {record} of set {sets} | {city}\")\n",
    "        \n",
    "        cloudiness.append(response[\"clouds\"][\"all\"])\n",
    "        country.append(response[\"sys\"][\"country\"])\n",
    "        date.append(response[\"dt\"])\n",
    "        temp.append(response[\"main\"][\"temp\"])\n",
    "        temp_max.append(response[\"main\"][\"temp_max\"])\n",
    "        humidity.append(response[\"main\"][\"humidity\"])\n",
    "        lat.append(response[\"coord\"][\"lat\"])  \n",
    "        lon.append(response[\"coord\"][\"lon\"])\n",
    "        wind_speed.append(response[\"wind\"][\"speed\"])\n",
    "        city_name.append(response[\"name\"])       \n",
    "\n",
    "    except (KeyError):\n",
    "        print(\"City not found. skipping.\")\n",
    "\n",
    "# Note: Loops through data and when it hits record #50, it resets the counter.\n",
    "# Note: Code and count idea attributed to a classmate.\n",
    "    record = record + 1\n",
    "    if record == 50:\n",
    "        record = 0\n",
    "        sets = sets + 1 \n",
    "        \n",
    "        \n",
    "print(\"----------Done Woohoo!---------\")"
   ]
  },
  {
   "cell_type": "markdown",
   "metadata": {},
   "source": [
    "### Convert Raw Data to DataFrame\n",
    "* Export the city data into a .csv.\n",
    "* Display the DataFrame"
   ]
  },
  {
   "cell_type": "code",
   "execution_count": 9,
   "metadata": {},
   "outputs": [
    {
     "data": {
      "text/html": [
       "<div>\n",
       "<style scoped>\n",
       "    .dataframe tbody tr th:only-of-type {\n",
       "        vertical-align: middle;\n",
       "    }\n",
       "\n",
       "    .dataframe tbody tr th {\n",
       "        vertical-align: top;\n",
       "    }\n",
       "\n",
       "    .dataframe thead th {\n",
       "        text-align: right;\n",
       "    }\n",
       "</style>\n",
       "<table border=\"1\" class=\"dataframe\">\n",
       "  <thead>\n",
       "    <tr style=\"text-align: right;\">\n",
       "      <th></th>\n",
       "      <th>city</th>\n",
       "      <th>country</th>\n",
       "      <th>lat</th>\n",
       "      <th>lon</th>\n",
       "      <th>temp</th>\n",
       "      <th>temp_max</th>\n",
       "      <th>humidity</th>\n",
       "      <th>wind_speed</th>\n",
       "      <th>cloudiness</th>\n",
       "      <th>date</th>\n",
       "    </tr>\n",
       "  </thead>\n",
       "  <tbody>\n",
       "    <tr>\n",
       "      <th>0</th>\n",
       "      <td>Ushuaia</td>\n",
       "      <td>AR</td>\n",
       "      <td>-54.8000</td>\n",
       "      <td>-68.3000</td>\n",
       "      <td>53.60</td>\n",
       "      <td>53.60</td>\n",
       "      <td>71</td>\n",
       "      <td>11.50</td>\n",
       "      <td>90</td>\n",
       "      <td>1611529262</td>\n",
       "    </tr>\n",
       "    <tr>\n",
       "      <th>1</th>\n",
       "      <td>Albany</td>\n",
       "      <td>US</td>\n",
       "      <td>42.6001</td>\n",
       "      <td>-73.9662</td>\n",
       "      <td>18.95</td>\n",
       "      <td>19.99</td>\n",
       "      <td>43</td>\n",
       "      <td>5.01</td>\n",
       "      <td>40</td>\n",
       "      <td>1611529242</td>\n",
       "    </tr>\n",
       "    <tr>\n",
       "      <th>2</th>\n",
       "      <td>Clyde River</td>\n",
       "      <td>CA</td>\n",
       "      <td>70.4692</td>\n",
       "      <td>-68.5914</td>\n",
       "      <td>10.40</td>\n",
       "      <td>10.40</td>\n",
       "      <td>92</td>\n",
       "      <td>20.71</td>\n",
       "      <td>1</td>\n",
       "      <td>1611529383</td>\n",
       "    </tr>\n",
       "    <tr>\n",
       "      <th>3</th>\n",
       "      <td>Khatanga</td>\n",
       "      <td>RU</td>\n",
       "      <td>71.9667</td>\n",
       "      <td>102.5000</td>\n",
       "      <td>-18.44</td>\n",
       "      <td>-18.44</td>\n",
       "      <td>88</td>\n",
       "      <td>9.44</td>\n",
       "      <td>99</td>\n",
       "      <td>1611529383</td>\n",
       "    </tr>\n",
       "    <tr>\n",
       "      <th>4</th>\n",
       "      <td>Bluff</td>\n",
       "      <td>NZ</td>\n",
       "      <td>-46.6000</td>\n",
       "      <td>168.3333</td>\n",
       "      <td>60.01</td>\n",
       "      <td>60.01</td>\n",
       "      <td>83</td>\n",
       "      <td>21.00</td>\n",
       "      <td>99</td>\n",
       "      <td>1611529383</td>\n",
       "    </tr>\n",
       "    <tr>\n",
       "      <th>5</th>\n",
       "      <td>Pandaria</td>\n",
       "      <td>IN</td>\n",
       "      <td>22.2333</td>\n",
       "      <td>81.4167</td>\n",
       "      <td>59.79</td>\n",
       "      <td>59.79</td>\n",
       "      <td>46</td>\n",
       "      <td>2.33</td>\n",
       "      <td>0</td>\n",
       "      <td>1611529384</td>\n",
       "    </tr>\n",
       "    <tr>\n",
       "      <th>6</th>\n",
       "      <td>Iqaluit</td>\n",
       "      <td>CA</td>\n",
       "      <td>63.7506</td>\n",
       "      <td>-68.5145</td>\n",
       "      <td>-0.40</td>\n",
       "      <td>-0.40</td>\n",
       "      <td>85</td>\n",
       "      <td>3.44</td>\n",
       "      <td>1</td>\n",
       "      <td>1611529213</td>\n",
       "    </tr>\n",
       "    <tr>\n",
       "      <th>7</th>\n",
       "      <td>Bredasdorp</td>\n",
       "      <td>ZA</td>\n",
       "      <td>-34.5322</td>\n",
       "      <td>20.0403</td>\n",
       "      <td>68.00</td>\n",
       "      <td>68.00</td>\n",
       "      <td>64</td>\n",
       "      <td>13.80</td>\n",
       "      <td>54</td>\n",
       "      <td>1611529384</td>\n",
       "    </tr>\n",
       "    <tr>\n",
       "      <th>8</th>\n",
       "      <td>Kutum</td>\n",
       "      <td>SD</td>\n",
       "      <td>14.2000</td>\n",
       "      <td>24.6667</td>\n",
       "      <td>58.55</td>\n",
       "      <td>58.55</td>\n",
       "      <td>33</td>\n",
       "      <td>7.25</td>\n",
       "      <td>2</td>\n",
       "      <td>1611529384</td>\n",
       "    </tr>\n",
       "    <tr>\n",
       "      <th>9</th>\n",
       "      <td>Zhangjiakou</td>\n",
       "      <td>CN</td>\n",
       "      <td>40.8100</td>\n",
       "      <td>114.8794</td>\n",
       "      <td>23.79</td>\n",
       "      <td>23.79</td>\n",
       "      <td>85</td>\n",
       "      <td>1.86</td>\n",
       "      <td>100</td>\n",
       "      <td>1611529384</td>\n",
       "    </tr>\n",
       "  </tbody>\n",
       "</table>\n",
       "</div>"
      ],
      "text/plain": [
       "          city country      lat       lon   temp  temp_max  humidity  \\\n",
       "0      Ushuaia      AR -54.8000  -68.3000  53.60     53.60        71   \n",
       "1       Albany      US  42.6001  -73.9662  18.95     19.99        43   \n",
       "2  Clyde River      CA  70.4692  -68.5914  10.40     10.40        92   \n",
       "3     Khatanga      RU  71.9667  102.5000 -18.44    -18.44        88   \n",
       "4        Bluff      NZ -46.6000  168.3333  60.01     60.01        83   \n",
       "5     Pandaria      IN  22.2333   81.4167  59.79     59.79        46   \n",
       "6      Iqaluit      CA  63.7506  -68.5145  -0.40     -0.40        85   \n",
       "7   Bredasdorp      ZA -34.5322   20.0403  68.00     68.00        64   \n",
       "8        Kutum      SD  14.2000   24.6667  58.55     58.55        33   \n",
       "9  Zhangjiakou      CN  40.8100  114.8794  23.79     23.79        85   \n",
       "\n",
       "   wind_speed  cloudiness        date  \n",
       "0       11.50          90  1611529262  \n",
       "1        5.01          40  1611529242  \n",
       "2       20.71           1  1611529383  \n",
       "3        9.44          99  1611529383  \n",
       "4       21.00          99  1611529383  \n",
       "5        2.33           0  1611529384  \n",
       "6        3.44           1  1611529213  \n",
       "7       13.80          54  1611529384  \n",
       "8        7.25           2  1611529384  \n",
       "9        1.86         100  1611529384  "
      ]
     },
     "execution_count": 9,
     "metadata": {},
     "output_type": "execute_result"
    }
   ],
   "source": [
    "# Note: Create Dataframe list of dictionaries\n",
    "\n",
    "city_df = pd.DataFrame({\n",
    "    \"city\": city_name,\n",
    "    \"country\": country,\n",
    "    \"lat\": lat,\n",
    "    \"lon\": lon,\n",
    "    \"temp\": temp,\n",
    "    \"temp_max\": temp_max,\n",
    "    \"humidity\": humidity,\n",
    "    \"wind_speed\": wind_speed,\n",
    "    \"cloudiness\": cloudiness,\n",
    "    \"date\": date\n",
    "})\n",
    "\n",
    "city_df.head(10)\n"
   ]
  },
  {
   "cell_type": "code",
   "execution_count": 10,
   "metadata": {},
   "outputs": [
    {
     "data": {
      "text/plain": [
       "572"
      ]
     },
     "execution_count": 10,
     "metadata": {},
     "output_type": "execute_result"
    }
   ],
   "source": [
    "# Show Record Count\n",
    "# Note: Checking the data, just curious\n",
    "recordcount = len(city_df)\n",
    "recordcount"
   ]
  },
  {
   "cell_type": "code",
   "execution_count": 11,
   "metadata": {},
   "outputs": [],
   "source": [
    "#Export to CSV\n",
    "city_df.to_csv(\"../output_data/weather_globalcities.csv\")\n"
   ]
  },
  {
   "cell_type": "markdown",
   "metadata": {},
   "source": [
    "## Inspect the data and remove the cities where the humidity > 100%.\n",
    "----\n",
    "Skip this step if there are no cities that have humidity > 100%. "
   ]
  },
  {
   "cell_type": "code",
   "execution_count": 12,
   "metadata": {},
   "outputs": [
    {
     "data": {
      "text/html": [
       "<div>\n",
       "<style scoped>\n",
       "    .dataframe tbody tr th:only-of-type {\n",
       "        vertical-align: middle;\n",
       "    }\n",
       "\n",
       "    .dataframe tbody tr th {\n",
       "        vertical-align: top;\n",
       "    }\n",
       "\n",
       "    .dataframe thead th {\n",
       "        text-align: right;\n",
       "    }\n",
       "</style>\n",
       "<table border=\"1\" class=\"dataframe\">\n",
       "  <thead>\n",
       "    <tr style=\"text-align: right;\">\n",
       "      <th></th>\n",
       "      <th>city</th>\n",
       "      <th>country</th>\n",
       "      <th>lat</th>\n",
       "      <th>lon</th>\n",
       "      <th>temp</th>\n",
       "      <th>temp_max</th>\n",
       "      <th>humidity</th>\n",
       "      <th>wind_speed</th>\n",
       "      <th>cloudiness</th>\n",
       "      <th>date</th>\n",
       "    </tr>\n",
       "  </thead>\n",
       "  <tbody>\n",
       "  </tbody>\n",
       "</table>\n",
       "</div>"
      ],
      "text/plain": [
       "Empty DataFrame\n",
       "Columns: [city, country, lat, lon, temp, temp_max, humidity, wind_speed, cloudiness, date]\n",
       "Index: []"
      ]
     },
     "execution_count": 12,
     "metadata": {},
     "output_type": "execute_result"
    }
   ],
   "source": [
    "# Create dataframe to identify cities with humidty > 100.\n",
    "# If identified, use city_filtered_df going forward. If not, then use city_df.\n",
    "\n",
    "city_filtered_df = city_df[city_df[\"humidity\"] > 100] \n",
    "  \n",
    "# Print the new dataframe \n",
    "city_filtered_df.head(5) \n"
   ]
  },
  {
   "cell_type": "markdown",
   "metadata": {},
   "source": [
    "## Plotting the Data\n",
    "* Use proper labeling of the plots using plot titles (including date of analysis) and axes labels.\n",
    "* Save the plotted figures as .pngs."
   ]
  },
  {
   "cell_type": "markdown",
   "metadata": {},
   "source": [
    "## Latitude vs. Temperature Plot"
   ]
  },
  {
   "cell_type": "code",
   "execution_count": 13,
   "metadata": {
    "scrolled": true
   },
   "outputs": [
    {
     "data": {
      "image/png": "[encoded data removed]",
      "text/plain": [
       "<Figure size 432x288 with 1 Axes>"
      ]
     },
     "metadata": {
      "needs_background": "light"
     },
     "output_type": "display_data"
    }
   ],
   "source": [
    "# Converting Date for title of plot\n",
    "# Note: Dynamic field in chart title - borrowed code from H.Kaur as it is a cool addition to graphs.\n",
    "timestamp = city_df[\"date\"][0]\n",
    "converted_timestamp = datetime.utcfromtimestamp(timestamp)\n",
    "shortened_timestamp = datetime.date(converted_timestamp)\n",
    "\n",
    "# Build a scatter plot for each data type\n",
    "plt.scatter(city_df[\"lat\"], city_df[\"temp\"], marker=\"o\", color=\"red\", zorder=2)\n",
    "\n",
    "# Incorporate the other graph properties\n",
    "# Note: Static title option >>  plt.title(\"Temperature in World Cities (Jan 2021)\")\n",
    "plt.title(f\"Temperature in World Cities ({shortened_timestamp})\")\n",
    "plt.ylabel(\"Temperature (Fahrenheit)\")\n",
    "plt.xlabel(\"Latitude\")\n",
    "plt.grid(True)\n",
    "\n",
    "# Save the chart\n",
    "plt.savefig(\"../output_data/Latitude_temperature.png\")\n",
    "\n",
    "# Show plot\n",
    "plt.show()"
   ]
  },
  {
   "cell_type": "markdown",
   "metadata": {},
   "source": [
    "## Latitude vs. Humidity Plot"
   ]
  },
  {
   "cell_type": "code",
   "execution_count": 14,
   "metadata": {},
   "outputs": [
    {
     "data": {
      "image/png": "[encoded data removed]",
      "text/plain": [
       "<Figure size 432x288 with 1 Axes>"
      ]
     },
     "metadata": {
      "needs_background": "light"
     },
     "output_type": "display_data"
    }
   ],
   "source": [
    "# Build a scatter plot for each data type\n",
    "plt.scatter(city_df[\"lat\"], city_df[\"humidity\"], marker=\"o\", color=\"blue\", zorder=2)\n",
    "\n",
    "# Incorporate the other graph properties\n",
    "plt.title(f\"Humidity in World Cities ({shortened_timestamp})\")\n",
    "plt.ylabel(\"Humidity (%)\")\n",
    "plt.xlabel(\"Latitude\")\n",
    "plt.grid(True)\n",
    "\n",
    "# Save the chart\n",
    "plt.savefig(\"../output_data/Latitude_humidity.png\")\n",
    "\n",
    "# Show plot\n",
    "plt.show()"
   ]
  },
  {
   "cell_type": "markdown",
   "metadata": {},
   "source": [
    "## Latitude vs. Cloudiness Plot"
   ]
  },
  {
   "cell_type": "code",
   "execution_count": 15,
   "metadata": {},
   "outputs": [
    {
     "data": {
      "image/png": "[encoded data removed]",
      "text/plain": [
       "<Figure size 432x288 with 1 Axes>"
      ]
     },
     "metadata": {
      "needs_background": "light"
     },
     "output_type": "display_data"
    }
   ],
   "source": [
    "# Build a scatter plot for each data type\n",
    "plt.scatter(city_df[\"lat\"], city_df[\"cloudiness\"], marker=\"o\", color=\"grey\", zorder=2)\n",
    "\n",
    "# Incorporate the other graph properties\n",
    "plt.title(f\"Cloudiness in World Cities ({shortened_timestamp})\")\n",
    "plt.ylabel(\"Cloudiness (%)\")\n",
    "plt.xlabel(\"Latitude\")\n",
    "plt.grid(True)\n",
    "\n",
    "# Save the chart\n",
    "plt.savefig(\"../output_data/Latitude_cloudiness.png\")\n",
    "\n",
    "# Show plot\n",
    "plt.show()"
   ]
  },
  {
   "cell_type": "markdown",
   "metadata": {},
   "source": [
    "## Latitude vs. Wind Speed Plot"
   ]
  },
  {
   "cell_type": "code",
   "execution_count": 16,
   "metadata": {},
   "outputs": [
    {
     "data": {
      "image/png": "[encoded data removed]",
      "text/plain": [
       "<Figure size 432x288 with 1 Axes>"
      ]
     },
     "metadata": {
      "needs_background": "light"
     },
     "output_type": "display_data"
    }
   ],
   "source": [
    "# Build a scatter plot for each data type\n",
    "plt.scatter(city_df[\"lat\"], city_df[\"wind_speed\"], marker=\"o\", color=\"orange\", zorder=2)\n",
    "\n",
    "# Incorporate the other graph properties\n",
    "plt.title(f\"Wind Speed in World Cities ({shortened_timestamp})\")\n",
    "plt.ylabel(\"Wind Speed (mph)\")\n",
    "plt.xlabel(\"Latitude\")\n",
    "plt.grid(True)\n",
    "\n",
    "# Save the chart\n",
    "plt.savefig(\"../output_data/Latitude_windspeed.png\")\n",
    "\n",
    "# Show plot\n",
    "plt.show()"
   ]
  },
  {
   "cell_type": "markdown",
   "metadata": {},
   "source": [
    "## Linear Regression"
   ]
  },
  {
   "cell_type": "code",
   "execution_count": 17,
   "metadata": {},
   "outputs": [],
   "source": [
    "# Create a function to create Linear Regression plots\n",
    "# Note: all code must be indented (even print statement); or it will error out.\n",
    "# Note: def line code may or may not be needed. If used, indent all remaining code.\n",
    "\n",
    "def lin_reg_plot(x_values,y_values):   \n",
    "    (slope, intercept, rvalue, pvalue, stderr) = linregress(x_values, y_values)\n",
    "    regress_values = x_values * slope + intercept\n",
    "    line_eq = \"y = \" + str(round(slope,2)) + \"x + \" + str(round(intercept,2))\n",
    "    \n",
    "# Note: Code below is sample scatter plot; uncomment plt.show() to make sure initial code is working.\n",
    "# Note: Add the linear regression equation and line to plot & apply some formatting\n",
    "    plt.scatter(x_values,y_values)\n",
    "    plt.plot(x_values,regress_values,\"r-\")\n",
    "    plt.annotate(line_eq,(x_values.median(),y_values.median()),fontsize=16,color=\"red\")\n",
    "    print(f\"The rvalue is: {rvalue}\")\n",
    "    #plt.show()"
   ]
  },
  {
   "cell_type": "code",
   "execution_count": 18,
   "metadata": {},
   "outputs": [],
   "source": [
    "# Create dataframes for Northern and Southern Hemisphere\n",
    "northhem_df = city_df.loc[city_df[\"lat\"] > 0,:]\n",
    "#northhem_df.head()\n",
    "\n",
    "southhem_df = city_df.loc[city_df[\"lat\"] < 0,:]\n",
    "#southhem_df.head()"
   ]
  },
  {
   "cell_type": "markdown",
   "metadata": {},
   "source": [
    "####  Northern Hemisphere - Max Temp vs. Latitude Linear Regression"
   ]
  },
  {
   "cell_type": "code",
   "execution_count": 19,
   "metadata": {},
   "outputs": [
    {
     "name": "stdout",
     "output_type": "stream",
     "text": [
      "The rvalue is: -0.8434129138261741\n",
      "None\n"
     ]
    },
    {
     "data": {
      "image/png": "[encoded data removed]",
      "text/plain": [
       "<Figure size 432x288 with 1 Axes>"
      ]
     },
     "metadata": {
      "needs_background": "light"
     },
     "output_type": "display_data"
    }
   ],
   "source": [
    "x_values = northhem_df[\"lat\"]\n",
    "y_values = northhem_df[\"temp_max\"]\n",
    "plt.title(\"Northern Hemisphere - Max Temp vs. Latitude Linear Regression\")\n",
    "plt.xlabel(\"Latitude\")\n",
    "plt.ylabel(\"Max Temp (F)\")\n",
    "\n",
    "print(lin_reg_plot(x_values,y_values))\n",
    "\n",
    "# Save the chart\n",
    "plt.savefig(\"../output_data/Linreg_north_temp.png\")"
   ]
  },
  {
   "cell_type": "markdown",
   "metadata": {},
   "source": [
    "####  Southern Hemisphere - Max Temp vs. Latitude Linear Regression"
   ]
  },
  {
   "cell_type": "code",
   "execution_count": 20,
   "metadata": {},
   "outputs": [
    {
     "name": "stdout",
     "output_type": "stream",
     "text": [
      "The rvalue is: 0.24403996417069776\n",
      "None\n"
     ]
    },
    {
     "data": {
      "image/png": "[encoded data removed]",
      "text/plain": [
       "<Figure size 432x288 with 1 Axes>"
      ]
     },
     "metadata": {
      "needs_background": "light"
     },
     "output_type": "display_data"
    }
   ],
   "source": [
    "x_values = southhem_df[\"lat\"]\n",
    "y_values = southhem_df[\"temp_max\"]\n",
    "plt.title(\"Southern Hemisphere - Max Temp vs. Latitude Linear Regression\")\n",
    "plt.xlabel(\"Latitude\")\n",
    "plt.ylabel(\"Max Temp (F)\")\n",
    "\n",
    "print(lin_reg_plot(x_values,y_values))\n",
    "\n",
    "# Save the chart\n",
    "plt.savefig(\"../output_data/Linreg_south_temp.png\")"
   ]
  },
  {
   "cell_type": "markdown",
   "metadata": {},
   "source": [
    "####  Northern Hemisphere - Humidity (%) vs. Latitude Linear Regression"
   ]
  },
  {
   "cell_type": "code",
   "execution_count": 21,
   "metadata": {},
   "outputs": [
    {
     "name": "stdout",
     "output_type": "stream",
     "text": [
      "The rvalue is: 0.2896663886395726\n",
      "None\n"
     ]
    },
    {
     "data": {
      "image/png": "[encoded data removed]",
      "text/plain": [
       "<Figure size 432x288 with 1 Axes>"
      ]
     },
     "metadata": {
      "needs_background": "light"
     },
     "output_type": "display_data"
    }
   ],
   "source": [
    "x_values = northhem_df[\"lat\"]\n",
    "y_values = northhem_df[\"humidity\"]\n",
    "plt.title(\"Northern Hemisphere - Humidity (%) vs. Latitude Linear Regression\")\n",
    "plt.xlabel(\"Latitude\")\n",
    "plt.ylabel(\"Humidity (%)\")\n",
    "\n",
    "print(lin_reg_plot(x_values,y_values))\n",
    "\n",
    "# Save the chart\n",
    "plt.savefig(\"../output_data/Linreg_north_humid.png\")"
   ]
  },
  {
   "cell_type": "markdown",
   "metadata": {},
   "source": [
    "####  Southern Hemisphere - Humidity (%) vs. Latitude Linear Regression"
   ]
  },
  {
   "cell_type": "code",
   "execution_count": 22,
   "metadata": {},
   "outputs": [
    {
     "name": "stdout",
     "output_type": "stream",
     "text": [
      "The rvalue is: 0.3778627464325937\n",
      "None\n"
     ]
    },
    {
     "data": {
      "image/png": "[encoded data removed]",
      "text/plain": [
       "<Figure size 432x288 with 1 Axes>"
      ]
     },
     "metadata": {
      "needs_background": "light"
     },
     "output_type": "display_data"
    }
   ],
   "source": [
    "x_values = southhem_df[\"lat\"]\n",
    "y_values = southhem_df[\"humidity\"]\n",
    "plt.title(\"Southern Hemisphere - Humidity (%) vs. Latitude Linear Regression\")\n",
    "plt.xlabel(\"Latitude\")\n",
    "plt.ylabel(\"Humidity (%)\")\n",
    "\n",
    "print(lin_reg_plot(x_values,y_values))\n",
    "\n",
    "# Save the chart\n",
    "plt.savefig(\"../output_data/Linreg_south_humid.png\")"
   ]
  },
  {
   "cell_type": "markdown",
   "metadata": {},
   "source": [
    "####  Northern Hemisphere - Cloudiness (%) vs. Latitude Linear Regression"
   ]
  },
  {
   "cell_type": "code",
   "execution_count": 23,
   "metadata": {},
   "outputs": [
    {
     "name": "stdout",
     "output_type": "stream",
     "text": [
      "The rvalue is: 0.2556242305183147\n",
      "None\n"
     ]
    },
    {
     "data": {
      "image/png": "[encoded data removed]",
      "text/plain": [
       "<Figure size 432x288 with 1 Axes>"
      ]
     },
     "metadata": {
      "needs_background": "light"
     },
     "output_type": "display_data"
    }
   ],
   "source": [
    "x_values = northhem_df[\"lat\"]\n",
    "y_values = northhem_df[\"cloudiness\"]\n",
    "plt.title(\"Northern Hemisphere - Cloudiness (%) vs. Latitude Linear Regression\")\n",
    "plt.xlabel(\"Latitude\")\n",
    "plt.ylabel(\"Cloudiness (%)\")\n",
    "\n",
    "print(lin_reg_plot(x_values,y_values))\n",
    "\n",
    "# Save the chart\n",
    "plt.savefig(\"../output_data/Linreg_north_cloud.png\")"
   ]
  },
  {
   "cell_type": "markdown",
   "metadata": {},
   "source": [
    "####  Southern Hemisphere - Cloudiness (%) vs. Latitude Linear Regression"
   ]
  },
  {
   "cell_type": "code",
   "execution_count": 24,
   "metadata": {},
   "outputs": [
    {
     "name": "stdout",
     "output_type": "stream",
     "text": [
      "The rvalue is: 0.2493511805166234\n",
      "None\n"
     ]
    },
    {
     "data": {
      "image/png": "[encoded data removed]",
      "text/plain": [
       "<Figure size 432x288 with 1 Axes>"
      ]
     },
     "metadata": {
      "needs_background": "light"
     },
     "output_type": "display_data"
    }
   ],
   "source": [
    "x_values = southhem_df[\"lat\"]\n",
    "y_values = southhem_df[\"cloudiness\"]\n",
    "plt.title(\"Southern Hemisphere - Cloudiness (%) vs. Latitude Linear Regression\")\n",
    "plt.xlabel(\"Latitude\")\n",
    "plt.ylabel(\"Cloudiness (%)\")\n",
    "\n",
    "print(lin_reg_plot(x_values,y_values))\n",
    "\n",
    "# Save the chart\n",
    "plt.savefig(\"../output_data/Linreg_south_cloud.png\")"
   ]
  },
  {
   "cell_type": "markdown",
   "metadata": {},
   "source": [
    "####  Northern Hemisphere - Wind Speed (mph) vs. Latitude Linear Regression"
   ]
  },
  {
   "cell_type": "code",
   "execution_count": 25,
   "metadata": {},
   "outputs": [
    {
     "name": "stdout",
     "output_type": "stream",
     "text": [
      "The rvalue is: 0.011615231822119085\n",
      "None\n"
     ]
    },
    {
     "data": {
      "image/png": "[encoded data removed]",
      "text/plain": [
       "<Figure size 432x288 with 1 Axes>"
      ]
     },
     "metadata": {
      "needs_background": "light"
     },
     "output_type": "display_data"
    }
   ],
   "source": [
    "x_values = northhem_df[\"lat\"]\n",
    "y_values = northhem_df[\"wind_speed\"]\n",
    "plt.title(\"Northern Hemisphere - Wind Speed (mph) vs. Latitude Linear Regression\")\n",
    "plt.xlabel(\"Latitude\")\n",
    "plt.ylabel(\"Wind Speed (mph)\")\n",
    "\n",
    "print(lin_reg_plot(x_values,y_values))\n",
    "\n",
    "# Save the chart\n",
    "plt.savefig(\"../output_data/Linreg_north_wind.png\")"
   ]
  },
  {
   "cell_type": "markdown",
   "metadata": {},
   "source": [
    "####  Southern Hemisphere - Wind Speed (mph) vs. Latitude Linear Regression"
   ]
  },
  {
   "cell_type": "code",
   "execution_count": 26,
   "metadata": {},
   "outputs": [
    {
     "name": "stdout",
     "output_type": "stream",
     "text": [
      "The rvalue is: -0.31344995218976346\n",
      "None\n"
     ]
    },
    {
     "data": {
      "image/png": "[encoded data removed]",
      "text/plain": [
       "<Figure size 432x288 with 1 Axes>"
      ]
     },
     "metadata": {
      "needs_background": "light"
     },
     "output_type": "display_data"
    }
   ],
   "source": [
    "x_values = southhem_df[\"lat\"]\n",
    "y_values = southhem_df[\"wind_speed\"]\n",
    "plt.title(\"Southern Hemisphere - Wind Speed (mph) vs. Latitude Linear Regression\")\n",
    "plt.xlabel(\"Latitude\")\n",
    "plt.ylabel(\"Wind Speed (mph)\")\n",
    "\n",
    "print(lin_reg_plot(x_values,y_values))\n",
    "\n",
    "# Save the chart\n",
    "plt.savefig(\"../output_data/Linreg_south_wind.png\")"
   ]
  }
 ],
 "metadata": {
  "anaconda-cloud": {},
  "kernel_info": {
   "name": "python3"
  },
  "kernelspec": {
   "display_name": "Python 3",
   "language": "python",
   "name": "python3"
  },
  "language_info": {
   "codemirror_mode": {
    "name": "ipython",
    "version": 3
   },
   "file_extension": ".py",
   "mimetype": "text/x-python",
   "name": "python",
   "nbconvert_exporter": "python",
   "pygments_lexer": "ipython3",
   "version": "3.8.5"
  },
  "latex_envs": {
   "LaTeX_envs_menu_present": true,
   "autoclose": false,
   "autocomplete": true,
   "bibliofile": "biblio.bib",
   "cite_by": "apalike",
   "current_citInitial": 1,
   "eqLabelWithNumbers": true,
   "eqNumInitial": 1,
   "hotkeys": {
    "equation": "Ctrl-E",
    "itemize": "Ctrl-I"
   },
   "labels_anchors": false,
   "latex_user_defs": false,
   "report_style_numbering": false,
   "user_envs_cfg": false
  },
  "nteract": {
   "version": "0.12.3"
  }
 },
 "nbformat": 4,
 "nbformat_minor": 2
}
