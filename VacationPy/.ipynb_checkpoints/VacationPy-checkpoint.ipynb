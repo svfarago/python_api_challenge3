{
 "cells": [
  {
   "cell_type": "markdown",
   "metadata": {},
   "source": [
    "# VacationPy\n",
    "----\n",
    "\n",
    "#### Note\n",
    "* Monitor API usage: https://developers.google.com/maps/reporting/gmp-reporting\n"
   ]
  },
  {
   "cell_type": "code",
   "execution_count": 1,
   "metadata": {},
   "outputs": [],
   "source": [
    "# Dependencies and Setup\n",
    "import matplotlib.pyplot as plt\n",
    "import pandas as pd\n",
    "import numpy as np\n",
    "import requests\n",
    "import gmaps\n",
    "import os\n",
    "\n",
    "# Additions\n",
    "#import gmaps.datasets\n",
    "\n",
    "# Import API key\n",
    "from api_keys import g_key"
   ]
  },
  {
   "cell_type": "markdown",
   "metadata": {},
   "source": [
    "### Store Part I results into DataFrame\n",
    "* Load the csv exported in Part I to a DataFrame"
   ]
  },
  {
   "cell_type": "code",
   "execution_count": 2,
   "metadata": {},
   "outputs": [],
   "source": [
    "# Load csv from WeatherPy\n",
    "# Note: Run .head() to confirm data\n",
    "\n",
    "weather_file_df = (\"../output_data/weather_globalcities.csv\")\n",
    "weather_df = pd.read_csv(weather_file_df)\n",
    "#weather_df.head()\n"
   ]
  },
  {
   "cell_type": "markdown",
   "metadata": {},
   "source": [
    "### Humidity Heatmap\n",
    "* Configure gmaps.\n",
    "* Use the Lat and Lng as locations and Humidity as the weight.\n",
    "* Add Heatmap layer to map."
   ]
  },
  {
   "cell_type": "code",
   "execution_count": 3,
   "metadata": {},
   "outputs": [],
   "source": [
    "# Configure gmaps with API key.\n",
    "gmaps.configure(api_key=g_key)"
   ]
  },
  {
   "cell_type": "code",
   "execution_count": 5,
   "metadata": {},
   "outputs": [],
   "source": [
    "# Store latitude and longitude into locations; with humidty as weight. \n",
    "# Note: Run .head() to confirm data\n",
    "locations = weather_df[[\"lat\", \"lon\"]].astype(float)\n",
    "humidity = weather_df[\"humidity\"].astype(float)\n",
    "#locations.head()\n"
   ]
  },
  {
   "cell_type": "code",
   "execution_count": 6,
   "metadata": {},
   "outputs": [
    {
     "data": {
      "application/vnd.jupyter.widget-view+json": {
       "model_id": "2bc59f36bb2b4c9cb7c281f2234f0298",
       "version_major": 2,
       "version_minor": 0
      },
      "text/plain": [
       "Figure(layout=FigureLayout(height='420px'))"
      ]
     },
     "metadata": {},
     "output_type": "display_data"
    }
   ],
   "source": [
    "# Create heatmap\n",
    "# Note: had to install $pip install gmaps  -AND- $jupyter nbextension enable --py --sys-prefix gmaps\n",
    "fig = gmaps.figure(center = [0,0] ,zoom_level = 2)\n",
    "\n",
    "#Add heat layer \n",
    "heat_layer = gmaps.heatmap_layer(locations, weights=humidity,\n",
    "                               dissipating=False, max_intensity=100,\n",
    "                               point_radius = 2)\n",
    "fig.add_layer(heat_layer)\n",
    "\n",
    "#Display figure\n",
    "fig"
   ]
  },
  {
   "cell_type": "markdown",
   "metadata": {},
   "source": [
    "### Create new DataFrame fitting weather criteria\n",
    "* Narrow down the cities to fit weather conditions.\n",
    "* Drop any rows will null values."
   ]
  },
  {
   "cell_type": "code",
   "execution_count": 7,
   "metadata": {},
   "outputs": [],
   "source": [
    "# Narrow down above dataframe to include my ideal weather.\n",
    "ideal_weather_df = weather_df\n",
    "\n",
    "ideal_weather_df = ideal_weather_df.loc[(ideal_weather_df[\"temp_max\"] < 55) & (ideal_weather_df[\"temp_max\"] > 35)]\n",
    "ideal_weather_df = ideal_weather_df.loc[(ideal_weather_df[\"cloudiness\"] < 50) & (ideal_weather_df[\"cloudiness\"] > 25)]\n",
    "ideal_weather_df = ideal_weather_df.loc[ideal_weather_df[\"wind_speed\"] < 10]\n",
    "\n",
    "\n",
    "# Drop any rows with null values\n",
    "ideal_weather_df = ideal_weather_df.dropna()"
   ]
  },
  {
   "cell_type": "code",
   "execution_count": 8,
   "metadata": {},
   "outputs": [
    {
     "data": {
      "text/plain": [
       "8"
      ]
     },
     "execution_count": 8,
     "metadata": {},
     "output_type": "execute_result"
    }
   ],
   "source": [
    "# Confirming <10 records per the instructions.\n",
    "len(ideal_weather_df)"
   ]
  },
  {
   "cell_type": "markdown",
   "metadata": {},
   "source": [
    "### Hotel Map\n",
    "* Store into variable named `hotel_df`.\n",
    "* Add a \"Hotel Name\" column to the DataFrame.\n",
    "* Set parameters to search for hotels with 5000 meters.\n",
    "* Hit the Google Places API for each city's coordinates.\n",
    "* Store the first Hotel result into the DataFrame.\n",
    "* Plot markers on top of the heatmap."
   ]
  },
  {
   "cell_type": "code",
   "execution_count": 9,
   "metadata": {},
   "outputs": [
    {
     "name": "stdout",
     "output_type": "stream",
     "text": [
      "Finding hotels based on the city Katsuura at data index 127.\n",
      "The closest hotel is Katsuura Hotel Mikazuki.\n",
      "------------\n",
      "Finding hotels based on the city Fortuna at data index 131.\n",
      "The closest hotel is Super 8 by Wyndham Fortuna.\n",
      "------------\n",
      "Finding hotels based on the city Sitka at data index 365.\n",
      "The closest hotel is Westmark Sitka.\n",
      "------------\n",
      "Finding hotels based on the city Arrondissement de Saint-Denis at data index 381.\n",
      "The closest hotel is Appart'City Paris Clichy Mairie - Appart Hôtel.\n",
      "------------\n",
      "Finding hotels based on the city Hasaki at data index 452.\n",
      "The closest hotel is Inubosaki Kanko Hotel.\n",
      "------------\n",
      "Finding hotels based on the city Were Īlu at data index 496.\n",
      "No result.\n",
      "------------\n",
      "Finding hotels based on the city Eaglesfield at data index 519.\n",
      "The closest hotel is Allerdale Court Hotel.\n",
      "------------\n",
      "Finding hotels based on the city Boddam at data index 561.\n",
      "The closest hotel is Palace Hotel.\n",
      "------------\n"
     ]
    }
   ],
   "source": [
    "# Create a hotel dataframe to store hotel info from google search results.\n",
    "hotel_df = ideal_weather_df\n",
    "\n",
    "# Dictionary to update each iteration\n",
    "# Note: Using \"params\" to build upon base URL below\n",
    "params = {\n",
    "    \"radius\": 5000,\n",
    "    \"types\": \"lodging\",\n",
    "    \"key\": g_key\n",
    "}\n",
    "\n",
    "# Note: For loop to go through all the data in ideal_weather_df\n",
    "for index, row in hotel_df.iterrows():\n",
    "    # get lat, lng from df\n",
    "    lat = row[\"lat\"]\n",
    "    lon = row[\"lon\"]\n",
    "\n",
    "    # change location each iteration while leaving original params in place\n",
    "    # Note: URL is for Google Places API\n",
    "    params[\"location\"] = f\"{lat},{lon}\"\n",
    "    \n",
    "    base_url = \"https://maps.googleapis.com/maps/api/place/nearbysearch/json\"\n",
    "\n",
    "    # assemble url and make API request\n",
    "    # Note: Leave 'city' in single quotes. Code fails with double quotes.\n",
    "    print(f\"Finding hotels based on the city {row['city']} at data index {index}.\")\n",
    "    response = requests.get(base_url, params=params).json()\n",
    "    # print(json.dumps(response, indent=4, sort_keys=True))\n",
    "    \n",
    "    # extract results\n",
    "    results = response[\"results\"]\n",
    "    \n",
    "    try:\n",
    "        # Note: Leave 'name' in single quotes. Code fails with double quotes. Watch index references as well.\n",
    "        print(f\"The closest hotel is {results[0]['name']}.\")\n",
    "        hotel_df.loc[index, \"Hotel Name\"] = results[0][\"name\"]\n",
    "        \n",
    "    except (KeyError, IndexError):\n",
    "        print(\"No result.\")\n",
    "        \n",
    "    print(\"------------\")"
   ]
  },
  {
   "cell_type": "code",
   "execution_count": 10,
   "metadata": {},
   "outputs": [],
   "source": [
    "# Note: Checking the data, just curious\n",
    "#len(hotel_df)"
   ]
  },
  {
   "cell_type": "code",
   "execution_count": 11,
   "metadata": {
    "scrolled": true
   },
   "outputs": [
    {
     "data": {
      "text/html": [
       "<div>\n",
       "<style scoped>\n",
       "    .dataframe tbody tr th:only-of-type {\n",
       "        vertical-align: middle;\n",
       "    }\n",
       "\n",
       "    .dataframe tbody tr th {\n",
       "        vertical-align: top;\n",
       "    }\n",
       "\n",
       "    .dataframe thead th {\n",
       "        text-align: right;\n",
       "    }\n",
       "</style>\n",
       "<table border=\"1\" class=\"dataframe\">\n",
       "  <thead>\n",
       "    <tr style=\"text-align: right;\">\n",
       "      <th></th>\n",
       "      <th>Unnamed: 0</th>\n",
       "      <th>city</th>\n",
       "      <th>country</th>\n",
       "      <th>lat</th>\n",
       "      <th>lon</th>\n",
       "      <th>temp</th>\n",
       "      <th>temp_max</th>\n",
       "      <th>humidity</th>\n",
       "      <th>wind_speed</th>\n",
       "      <th>cloudiness</th>\n",
       "      <th>date</th>\n",
       "      <th>Hotel Name</th>\n",
       "    </tr>\n",
       "  </thead>\n",
       "  <tbody>\n",
       "    <tr>\n",
       "      <th>127</th>\n",
       "      <td>127</td>\n",
       "      <td>Katsuura</td>\n",
       "      <td>JP</td>\n",
       "      <td>35.1333</td>\n",
       "      <td>140.3000</td>\n",
       "      <td>42.71</td>\n",
       "      <td>44.01</td>\n",
       "      <td>75</td>\n",
       "      <td>6.91</td>\n",
       "      <td>40</td>\n",
       "      <td>1611617942</td>\n",
       "      <td>Katsuura Hotel Mikazuki</td>\n",
       "    </tr>\n",
       "    <tr>\n",
       "      <th>131</th>\n",
       "      <td>131</td>\n",
       "      <td>Fortuna</td>\n",
       "      <td>US</td>\n",
       "      <td>40.5982</td>\n",
       "      <td>-124.1573</td>\n",
       "      <td>44.22</td>\n",
       "      <td>46.00</td>\n",
       "      <td>87</td>\n",
       "      <td>8.05</td>\n",
       "      <td>40</td>\n",
       "      <td>1611617943</td>\n",
       "      <td>Super 8 by Wyndham Fortuna</td>\n",
       "    </tr>\n",
       "    <tr>\n",
       "      <th>365</th>\n",
       "      <td>365</td>\n",
       "      <td>Sitka</td>\n",
       "      <td>US</td>\n",
       "      <td>57.0531</td>\n",
       "      <td>-135.3300</td>\n",
       "      <td>35.60</td>\n",
       "      <td>35.60</td>\n",
       "      <td>80</td>\n",
       "      <td>2.44</td>\n",
       "      <td>40</td>\n",
       "      <td>1611617996</td>\n",
       "      <td>Westmark Sitka</td>\n",
       "    </tr>\n",
       "    <tr>\n",
       "      <th>381</th>\n",
       "      <td>381</td>\n",
       "      <td>Arrondissement de Saint-Denis</td>\n",
       "      <td>FR</td>\n",
       "      <td>48.9167</td>\n",
       "      <td>2.3333</td>\n",
       "      <td>32.79</td>\n",
       "      <td>35.01</td>\n",
       "      <td>86</td>\n",
       "      <td>5.75</td>\n",
       "      <td>37</td>\n",
       "      <td>1611617999</td>\n",
       "      <td>Appart'City Paris Clichy Mairie - Appart Hôtel</td>\n",
       "    </tr>\n",
       "    <tr>\n",
       "      <th>452</th>\n",
       "      <td>452</td>\n",
       "      <td>Hasaki</td>\n",
       "      <td>JP</td>\n",
       "      <td>35.7333</td>\n",
       "      <td>140.8333</td>\n",
       "      <td>36.91</td>\n",
       "      <td>39.00</td>\n",
       "      <td>93</td>\n",
       "      <td>5.75</td>\n",
       "      <td>40</td>\n",
       "      <td>1611618016</td>\n",
       "      <td>Inubosaki Kanko Hotel</td>\n",
       "    </tr>\n",
       "    <tr>\n",
       "      <th>496</th>\n",
       "      <td>496</td>\n",
       "      <td>Were Īlu</td>\n",
       "      <td>ET</td>\n",
       "      <td>10.6000</td>\n",
       "      <td>39.4333</td>\n",
       "      <td>48.81</td>\n",
       "      <td>48.81</td>\n",
       "      <td>51</td>\n",
       "      <td>7.23</td>\n",
       "      <td>27</td>\n",
       "      <td>1611618024</td>\n",
       "      <td>NaN</td>\n",
       "    </tr>\n",
       "    <tr>\n",
       "      <th>519</th>\n",
       "      <td>519</td>\n",
       "      <td>Eaglesfield</td>\n",
       "      <td>GB</td>\n",
       "      <td>54.6406</td>\n",
       "      <td>-3.4044</td>\n",
       "      <td>35.01</td>\n",
       "      <td>35.01</td>\n",
       "      <td>92</td>\n",
       "      <td>1.01</td>\n",
       "      <td>46</td>\n",
       "      <td>1611618028</td>\n",
       "      <td>Allerdale Court Hotel</td>\n",
       "    </tr>\n",
       "    <tr>\n",
       "      <th>561</th>\n",
       "      <td>561</td>\n",
       "      <td>Boddam</td>\n",
       "      <td>GB</td>\n",
       "      <td>57.4667</td>\n",
       "      <td>-1.7833</td>\n",
       "      <td>33.60</td>\n",
       "      <td>35.01</td>\n",
       "      <td>86</td>\n",
       "      <td>9.22</td>\n",
       "      <td>32</td>\n",
       "      <td>1611618037</td>\n",
       "      <td>Palace Hotel</td>\n",
       "    </tr>\n",
       "  </tbody>\n",
       "</table>\n",
       "</div>"
      ],
      "text/plain": [
       "     Unnamed: 0                           city country      lat       lon  \\\n",
       "127         127                       Katsuura      JP  35.1333  140.3000   \n",
       "131         131                        Fortuna      US  40.5982 -124.1573   \n",
       "365         365                          Sitka      US  57.0531 -135.3300   \n",
       "381         381  Arrondissement de Saint-Denis      FR  48.9167    2.3333   \n",
       "452         452                         Hasaki      JP  35.7333  140.8333   \n",
       "496         496                       Were Īlu      ET  10.6000   39.4333   \n",
       "519         519                    Eaglesfield      GB  54.6406   -3.4044   \n",
       "561         561                         Boddam      GB  57.4667   -1.7833   \n",
       "\n",
       "      temp  temp_max  humidity  wind_speed  cloudiness        date  \\\n",
       "127  42.71     44.01        75        6.91          40  1611617942   \n",
       "131  44.22     46.00        87        8.05          40  1611617943   \n",
       "365  35.60     35.60        80        2.44          40  1611617996   \n",
       "381  32.79     35.01        86        5.75          37  1611617999   \n",
       "452  36.91     39.00        93        5.75          40  1611618016   \n",
       "496  48.81     48.81        51        7.23          27  1611618024   \n",
       "519  35.01     35.01        92        1.01          46  1611618028   \n",
       "561  33.60     35.01        86        9.22          32  1611618037   \n",
       "\n",
       "                                         Hotel Name  \n",
       "127                         Katsuura Hotel Mikazuki  \n",
       "131                      Super 8 by Wyndham Fortuna  \n",
       "365                                  Westmark Sitka  \n",
       "381  Appart'City Paris Clichy Mairie - Appart Hôtel  \n",
       "452                           Inubosaki Kanko Hotel  \n",
       "496                                             NaN  \n",
       "519                           Allerdale Court Hotel  \n",
       "561                                    Palace Hotel  "
      ]
     },
     "execution_count": 11,
     "metadata": {},
     "output_type": "execute_result"
    }
   ],
   "source": [
    "# Note: Checking the data, just curious\n",
    "hotel_df.head(10)"
   ]
  },
  {
   "cell_type": "code",
   "execution_count": 12,
   "metadata": {},
   "outputs": [],
   "source": [
    "# Note: Code came with JN.\n",
    "# ORIGINAL -- NOTE: Do not change any of the code in this cell\n",
    "\n",
    "# Using the template add the hotel marks to the heatmap\n",
    "info_box_template = \"\"\"\n",
    "<dl>\n",
    "<dt>Name</dt><dd>{Hotel Name}</dd>\n",
    "<dt>City</dt><dd>{city}</dd>\n",
    "<dt>Country</dt><dd>{country}</dd>\n",
    "</dl>\n",
    "\"\"\"\n",
    "# Store the DataFrame Row\n",
    "# Note: be sure to update with your DataFrame name\n",
    "hotel_info = [info_box_template.format(**row) for index, row in hotel_df.iterrows()]\n",
    "locations = hotel_df[[\"lat\", \"lon\"]]"
   ]
  },
  {
   "cell_type": "code",
   "execution_count": 13,
   "metadata": {},
   "outputs": [
    {
     "data": {
      "application/vnd.jupyter.widget-view+json": {
       "model_id": "a2d454638ebe47739c2ce80c7a71d3c6",
       "version_major": 2,
       "version_minor": 0
      },
      "text/plain": [
       "Figure(layout=FigureLayout(height='420px'))"
      ]
     },
     "metadata": {},
     "output_type": "display_data"
    }
   ],
   "source": [
    "# Add marker layer ontop of heat map\n",
    "# Note: This is markers with city and hotel info displayed.\n",
    "\n",
    "markers = gmaps.marker_layer(locations, info_box_content=[f\"Hotel location: {rate}\" for rate in hotel_info])\n",
    "\n",
    "# Note: This is markers only. No city or hotel info is displayed.\n",
    "#markers = gmaps.marker_layer(locations)\n",
    "\n",
    "fig = gmaps.figure(center=(30, 5), zoom_level=2)\n",
    "fig.add_layer(markers)\n",
    "fig\n"
   ]
  }
 ],
 "metadata": {
  "kernelspec": {
   "display_name": "Python 3",
   "language": "python",
   "name": "python3"
  },
  "language_info": {
   "codemirror_mode": {
    "name": "ipython",
    "version": 3
   },
   "file_extension": ".py",
   "mimetype": "text/x-python",
   "name": "python",
   "nbconvert_exporter": "python",
   "pygments_lexer": "ipython3",
   "version": "3.8.5"
  },
  "latex_envs": {
   "LaTeX_envs_menu_present": true,
   "autoclose": false,
   "autocomplete": true,
   "bibliofile": "biblio.bib",
   "cite_by": "apalike",
   "current_citInitial": 1,
   "eqLabelWithNumbers": true,
   "eqNumInitial": 1,
   "hotkeys": {
    "equation": "Ctrl-E",
    "itemize": "Ctrl-I"
   },
   "labels_anchors": false,
   "latex_user_defs": false,
   "report_style_numbering": false,
   "user_envs_cfg": false
  }
 },
 "nbformat": 4,
 "nbformat_minor": 4
}
