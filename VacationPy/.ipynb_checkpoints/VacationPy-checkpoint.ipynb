{
 "cells": [
  {
   "cell_type": "markdown",
   "metadata": {},
   "source": [
    "# VacationPy\n",
    "----\n",
    "\n",
    "#### Note\n",
    "* Keep an eye on your API usage. Use https://developers.google.com/maps/reporting/gmp-reporting as reference for how to monitor your usage and billing.\n",
    "\n",
    "* Instructions have been included for each segment. You do not have to follow them exactly, but they are included to help you think through the steps."
   ]
  },
  {
   "cell_type": "code",
   "execution_count": 1,
   "metadata": {},
   "outputs": [],
   "source": [
    "# Dependencies and Setup\n",
    "import matplotlib.pyplot as plt\n",
    "import pandas as pd\n",
    "import numpy as np\n",
    "import requests\n",
    "import gmaps\n",
    "import os\n",
    "\n",
    "# Additions\n",
    "#import gmaps.datasets\n",
    "\n",
    "# Import API key\n",
    "from api_keys import g_key"
   ]
  },
  {
   "cell_type": "markdown",
   "metadata": {},
   "source": [
    "### Store Part I results into DataFrame\n",
    "* Load the csv exported in Part I to a DataFrame"
   ]
  },
  {
   "cell_type": "code",
   "execution_count": 2,
   "metadata": {},
   "outputs": [],
   "source": [
    "# Load csv from WeatherPy\n",
    "# Note: Run .head() to confirm data\n",
    "\n",
    "weather_file_df = (\"../output_data/weather_globalcities.csv\")\n",
    "weather_df = pd.read_csv(weather_file_df)\n",
    "#weather_df.head()\n"
   ]
  },
  {
   "cell_type": "markdown",
   "metadata": {},
   "source": [
    "### Humidity Heatmap\n",
    "* Configure gmaps.\n",
    "* Use the Lat and Lng as locations and Humidity as the weight.\n",
    "* Add Heatmap layer to map."
   ]
  },
  {
   "cell_type": "code",
   "execution_count": 3,
   "metadata": {},
   "outputs": [],
   "source": [
    "# Configure gmaps with API key.\n",
    "gmaps.configure(api_key=g_key)"
   ]
  },
  {
   "cell_type": "code",
   "execution_count": 4,
   "metadata": {},
   "outputs": [],
   "source": [
    "# Store latitude and longitude into locations; with humidty as weight. \n",
    "# Note: Run .head() to confirm data\n",
    "locations = weather_df[[\"lat\", \"lon\"]].astype(float)\n",
    "humidity = weather_df[\"humidity\"].astype(float)\n",
    "#locations.head()\n"
   ]
  },
  {
   "cell_type": "code",
   "execution_count": 9,
   "metadata": {},
   "outputs": [
    {
     "data": {
      "application/vnd.jupyter.widget-view+json": {
       "model_id": "61faf9728920490687a0b6377430d430",
       "version_major": 2,
       "version_minor": 0
      },
      "text/plain": [
       "Figure(layout=FigureLayout(height='420px'))"
      ]
     },
     "metadata": {},
     "output_type": "display_data"
    }
   ],
   "source": [
    "# Create heatmap\n",
    "# Note: had to install $pip install gmaps  -AND- $jupyter nbextension enable --py --sys-prefix gmaps\n",
    "fig = gmaps.figure(center = [0,0] ,zoom_level = 2)\n",
    "\n",
    "#Add heat layer \n",
    "heat_layer = gmaps.heatmap_layer(locations, weights=humidity,\n",
    "                               dissipating=False, max_intensity=100,\n",
    "                               point_radius = 2)\n",
    "fig.add_layer(heat_layer)\n",
    "\n",
    "#Display figure\n",
    "fig"
   ]
  },
  {
   "cell_type": "markdown",
   "metadata": {},
   "source": [
    "### Create new DataFrame fitting weather criteria\n",
    "* Narrow down the cities to fit weather conditions.\n",
    "* Drop any rows will null values."
   ]
  },
  {
   "cell_type": "code",
   "execution_count": 10,
   "metadata": {},
   "outputs": [],
   "source": [
    "# Narrow down above dataframe to include my ideal weather.\n",
    "ideal_weather_df = weather_df\n",
    "\n",
    "ideal_weather_df = ideal_weather_df.loc[(ideal_weather_df[\"temp_max\"] < 55) & (ideal_weather_df[\"temp_max\"] > 30)]\n",
    "ideal_weather_df = ideal_weather_df.loc[(ideal_weather_df[\"cloudiness\"] < 70) & (ideal_weather_df[\"cloudiness\"] > 25)]\n",
    "ideal_weather_df = ideal_weather_df.loc[ideal_weather_df[\"wind_speed\"] < 10]\n",
    "\n",
    "\n",
    "# Drop any rows with null values\n",
    "ideal_weather_df = ideal_weather_df.dropna()"
   ]
  },
  {
   "cell_type": "code",
   "execution_count": 11,
   "metadata": {},
   "outputs": [
    {
     "data": {
      "text/plain": [
       "10"
      ]
     },
     "execution_count": 11,
     "metadata": {},
     "output_type": "execute_result"
    }
   ],
   "source": [
    "# Confirming <10 records per the instructions.\n",
    "len(ideal_weather_df)"
   ]
  },
  {
   "cell_type": "markdown",
   "metadata": {},
   "source": [
    "### Hotel Map\n",
    "* Store into variable named `hotel_df`.\n",
    "* Add a \"Hotel Name\" column to the DataFrame.\n",
    "* Set parameters to search for hotels with 5000 meters.\n",
    "* Hit the Google Places API for each city's coordinates.\n",
    "* Store the first Hotel result into the DataFrame.\n",
    "* Plot markers on top of the heatmap."
   ]
  },
  {
   "cell_type": "code",
   "execution_count": 13,
   "metadata": {},
   "outputs": [
    {
     "name": "stdout",
     "output_type": "stream",
     "text": [
      "Finding hotels based on the city Valea Argovei at data index 17.\n",
      "The closest hotel is Balta Mostistea.\n",
      "------------\n",
      "Finding hotels based on the city Elizabeth City at data index 54.\n",
      "The closest hotel is Hampton Inn Elizabeth City.\n",
      "------------\n",
      "Finding hotels based on the city Şuţeşti at data index 171.\n",
      "No result.\n",
      "------------\n",
      "Finding hotels based on the city Sitka at data index 202.\n",
      "The closest hotel is Westmark Sitka.\n",
      "------------\n",
      "Finding hotels based on the city Marzuq at data index 249.\n",
      "No result.\n",
      "------------\n",
      "Finding hotels based on the city Isperih at data index 455.\n",
      "The closest hotel is Guest Rooms Relax.\n",
      "------------\n",
      "Finding hotels based on the city Tateyama at data index 547.\n",
      "The closest hotel is Tateyama Seaside Hotel.\n",
      "------------\n",
      "Finding hotels based on the city Saýat at data index 563.\n",
      "No result.\n",
      "------------\n",
      "Finding hotels based on the city Hede at data index 564.\n",
      "The closest hotel is Vienna 3 Best Hotel Sheyang Jiefang Rd.\n",
      "------------\n",
      "Finding hotels based on the city Shimoda at data index 571.\n",
      "The closest hotel is Shimoda Tokyu Hotel.\n",
      "------------\n"
     ]
    }
   ],
   "source": [
    "# Create a hotel dataframe to store hotel info from google search results.\n",
    "hotel_df = ideal_weather_df\n",
    "\n",
    "# Dictionary to update each iteration\n",
    "params = {\n",
    "    \"radius\": 5000,\n",
    "    \"types\": \"lodging\",\n",
    "    \"key\": g_key\n",
    "}\n",
    "\n",
    "# Note: For loop to go through all the data in ideal_weather_df\n",
    "for index, row in hotel_df.iterrows():\n",
    "    # get lat, lng from df\n",
    "    lat = row[\"lat\"]\n",
    "    lon = row[\"lon\"]\n",
    "\n",
    "    # change location each iteration while leaving original params in place\n",
    "    # Note: URL is for Google Places API\n",
    "    params[\"location\"] = f\"{lat},{lon}\"\n",
    "    \n",
    "    base_url = \"https://maps.googleapis.com/maps/api/place/nearbysearch/json\"\n",
    "\n",
    "    # assemble url and make API request\n",
    "    # Note: Leave 'city' in single quotes. Code fails with double quotes.\n",
    "    print(f\"Finding hotels based on the city {row['city']} at data index {index}.\")\n",
    "    response = requests.get(base_url, params=params).json()\n",
    "    # print(json.dumps(response, indent=4, sort_keys=True))\n",
    "    \n",
    "    # extract results\n",
    "    results = response[\"results\"]\n",
    "    \n",
    "    try:\n",
    "        # Note: Leave 'name' in single quotes. Code fails with double quotes. Watch index references as well.\n",
    "        print(f\"The closest hotel is {results[0]['name']}.\")\n",
    "        hotel_df.loc[index, \"Hotel Name\"] = results[0][\"name\"]\n",
    "        \n",
    "    except (KeyError, IndexError):\n",
    "        print(\"No result.\")\n",
    "        \n",
    "    print(\"------------\")"
   ]
  },
  {
   "cell_type": "code",
   "execution_count": 14,
   "metadata": {},
   "outputs": [],
   "source": [
    "# Note: Checking the data, just curious\n",
    "#len(hotel_df)"
   ]
  },
  {
   "cell_type": "code",
   "execution_count": 15,
   "metadata": {
    "scrolled": true
   },
   "outputs": [],
   "source": [
    "# Note: Checking the data, just curious\n",
    "#hotel_df.head()"
   ]
  },
  {
   "cell_type": "code",
   "execution_count": 58,
   "metadata": {},
   "outputs": [],
   "source": [
    "# Note: Code came with JN.\n",
    "# ORIGINAL -- NOTE: Do not change any of the code in this cell\n",
    "\n",
    "# Using the template add the hotel marks to the heatmap\n",
    "info_box_template = \"\"\"\n",
    "<dl>\n",
    "<dt>Name</dt><dd>{Hotel Name}</dd>\n",
    "<dt>City</dt><dd>{city}</dd>\n",
    "<dt>Country</dt><dd>{country}</dd>\n",
    "</dl>\n",
    "\"\"\"\n",
    "# Store the DataFrame Row\n",
    "# NOTE: be sure to update with your DataFrame name\n",
    "hotel_info = [info_box_template.format(**row) for index, row in hotel_df.iterrows()]\n",
    "locations = hotel_df[[\"lat\", \"lon\"]]"
   ]
  },
  {
   "cell_type": "code",
   "execution_count": 57,
   "metadata": {},
   "outputs": [
    {
     "data": {
      "application/vnd.jupyter.widget-view+json": {
       "model_id": "a78d885b07354345a71b1b3e6f995a9b",
       "version_major": 2,
       "version_minor": 0
      },
      "text/plain": [
       "Figure(layout=FigureLayout(height='420px'))"
      ]
     },
     "metadata": {},
     "output_type": "display_data"
    }
   ],
   "source": [
    "# Add marker layer ontop of heat map\n",
    "# Note: This is markers with city and hotel info displayed.\n",
    "\n",
    "markers = gmaps.marker_layer(locations, info_box_content=[f\"Hotel location: {rate}\" for rate in hotel_info])\n",
    "\n",
    "# Note: This is markers only. No city or hotel info is displayed.\n",
    "#markers = gmaps.marker_layer(locations)\n",
    "\n",
    "fig = gmaps.figure(center=(30, 5), zoom_level=1.9)\n",
    "fig.add_layer(markers)\n",
    "fig\n"
   ]
  }
 ],
 "metadata": {
  "kernelspec": {
   "display_name": "Python 3",
   "language": "python",
   "name": "python3"
  },
  "language_info": {
   "codemirror_mode": {
    "name": "ipython",
    "version": 3
   },
   "file_extension": ".py",
   "mimetype": "text/x-python",
   "name": "python",
   "nbconvert_exporter": "python",
   "pygments_lexer": "ipython3",
   "version": "3.8.5"
  },
  "latex_envs": {
   "LaTeX_envs_menu_present": true,
   "autoclose": false,
   "autocomplete": true,
   "bibliofile": "biblio.bib",
   "cite_by": "apalike",
   "current_citInitial": 1,
   "eqLabelWithNumbers": true,
   "eqNumInitial": 1,
   "hotkeys": {
    "equation": "Ctrl-E",
    "itemize": "Ctrl-I"
   },
   "labels_anchors": false,
   "latex_user_defs": false,
   "report_style_numbering": false,
   "user_envs_cfg": false
  }
 },
 "nbformat": 4,
 "nbformat_minor": 4
}
